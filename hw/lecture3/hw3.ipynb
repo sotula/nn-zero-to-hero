{
 "cells": [
  {
   "cell_type": "code",
   "execution_count": 1,
   "id": "b3408faa-6db4-4d50-8df1-913f825fecc1",
   "metadata": {},
   "outputs": [],
   "source": [
    "import torch\n",
    "import torch.nn.functional as F\n",
    "import matplotlib.pyplot as plt # for making figures\n",
    "%matplotlib inline"
   ]
  },
  {
   "cell_type": "markdown",
   "id": "39cfe843-1a27-485f-aa98-2214cd170d0b",
   "metadata": {},
   "source": [
    "### 0. Prepare data"
   ]
  },
  {
   "cell_type": "code",
   "execution_count": 2,
   "id": "f7fa0127-c97b-46d2-b675-736da22c9c30",
   "metadata": {},
   "outputs": [
    {
     "data": {
      "text/plain": [
       "['emma', 'olivia', 'ava', 'isabella', 'sophia', 'charlotte', 'mia', 'amelia']"
      ]
     },
     "execution_count": 2,
     "metadata": {},
     "output_type": "execute_result"
    }
   ],
   "source": [
    "# read in all the words\n",
    "words = open('../lecture2/names.txt', 'r').read().splitlines()\n",
    "words[:8]"
   ]
  },
  {
   "cell_type": "code",
   "execution_count": 3,
   "id": "7804a52c-1e32-4b48-bb4f-de9437217692",
   "metadata": {},
   "outputs": [
    {
     "data": {
      "text/plain": [
       "32033"
      ]
     },
     "execution_count": 3,
     "metadata": {},
     "output_type": "execute_result"
    }
   ],
   "source": [
    "len(words)"
   ]
  },
  {
   "cell_type": "code",
   "execution_count": 4,
   "id": "7886abc6-9275-4686-a4e0-408659fcc980",
   "metadata": {},
   "outputs": [
    {
     "name": "stdout",
     "output_type": "stream",
     "text": [
      "{1: 'a', 2: 'b', 3: 'c', 4: 'd', 5: 'e', 6: 'f', 7: 'g', 8: 'h', 9: 'i', 10: 'j', 11: 'k', 12: 'l', 13: 'm', 14: 'n', 15: 'o', 16: 'p', 17: 'q', 18: 'r', 19: 's', 20: 't', 21: 'u', 22: 'v', 23: 'w', 24: 'x', 25: 'y', 26: 'z', 0: '.'}\n"
     ]
    }
   ],
   "source": [
    "# build the vocabulary of characters and mappings to/from integers\n",
    "chars = sorted(list(set(''.join(words))))\n",
    "stoi = {s:i+1 for i,s in enumerate(chars)}\n",
    "stoi['.'] = 0\n",
    "itos = {i:s for s,i in stoi.items()}\n",
    "print(itos)"
   ]
  },
  {
   "cell_type": "code",
   "execution_count": 5,
   "id": "ad023770-c2da-4cf4-8d21-5a9e4cbd1e16",
   "metadata": {},
   "outputs": [
    {
     "name": "stdout",
     "output_type": "stream",
     "text": [
      "... ---> e\n",
      "..e ---> m\n",
      ".em ---> m\n",
      "emm ---> a\n",
      "mma ---> .\n",
      "... ---> o\n",
      "..o ---> l\n",
      ".ol ---> i\n",
      "oli ---> v\n",
      "liv ---> i\n",
      "ivi ---> a\n",
      "via ---> .\n",
      "... ---> a\n",
      "..a ---> v\n",
      ".av ---> a\n",
      "ava ---> .\n",
      "... ---> i\n",
      "..i ---> s\n",
      ".is ---> a\n",
      "isa ---> b\n",
      "sab ---> e\n",
      "abe ---> l\n",
      "bel ---> l\n",
      "ell ---> a\n",
      "lla ---> .\n",
      "... ---> s\n",
      "..s ---> o\n",
      ".so ---> p\n",
      "sop ---> h\n",
      "oph ---> i\n",
      "phi ---> a\n",
      "hia ---> .\n"
     ]
    }
   ],
   "source": [
    "# build the dataset\n",
    "\n",
    "block_size = 3 # context length: how many characters do we take to predict the next one?\n",
    "X, Y = [], []\n",
    "for w in words[:5]:\n",
    "  \n",
    "  #print(w)\n",
    "  context = [0] * block_size\n",
    "  for ch in w + '.':\n",
    "    ix = stoi[ch]\n",
    "    X.append(context)\n",
    "    Y.append(ix)\n",
    "    print(''.join(itos[i] for i in context), '--->', itos[ix])\n",
    "    context = context[1:] + [ix] # crop and append\n",
    "  \n",
    "X = torch.tensor(X)\n",
    "Y = torch.tensor(Y)"
   ]
  },
  {
   "cell_type": "code",
   "execution_count": 6,
   "id": "2d6d676b-3dc1-4f06-a132-5d35f6010278",
   "metadata": {},
   "outputs": [
    {
     "data": {
      "text/plain": [
       "(torch.Size([32, 3]), torch.int64, torch.Size([32]), torch.int64)"
      ]
     },
     "execution_count": 6,
     "metadata": {},
     "output_type": "execute_result"
    }
   ],
   "source": [
    "X.shape, X.dtype, Y.shape, Y.dtype"
   ]
  },
  {
   "cell_type": "markdown",
   "id": "06e8eaf0-59d1-41d2-a030-a64e8bf419d6",
   "metadata": {},
   "source": [
    "### 1. Calculations"
   ]
  },
  {
   "cell_type": "code",
   "execution_count": 7,
   "id": "701bafc8-cfa8-4090-91d2-6342cb1c934a",
   "metadata": {},
   "outputs": [],
   "source": [
    "# matrix with weights \n",
    "C = torch.randn([27, 2])"
   ]
  },
  {
   "cell_type": "markdown",
   "id": "e0264415-97fe-42b4-bb93-a08fa82b293c",
   "metadata": {},
   "source": [
    "#### 1.1. Get weights for certain index "
   ]
  },
  {
   "cell_type": "code",
   "execution_count": 8,
   "id": "f8a242bc-af36-4190-b54f-ea95c1d193ae",
   "metadata": {},
   "outputs": [
    {
     "data": {
      "text/plain": [
       "tensor([0.8204, 2.2660])"
      ]
     },
     "execution_count": 8,
     "metadata": {},
     "output_type": "execute_result"
    }
   ],
   "source": [
    "# just get array for letter by indexing 2d array\n",
    "C[5]"
   ]
  },
  {
   "cell_type": "code",
   "execution_count": 9,
   "id": "0237df24-fd0f-4765-8fe1-6b4cc9921bf0",
   "metadata": {},
   "outputs": [
    {
     "data": {
      "text/plain": [
       "tensor([[ 0.8204,  2.2660],\n",
       "        [-0.7004, -0.3031],\n",
       "        [-0.2597,  1.4074],\n",
       "        [-0.2597,  1.4074]])"
      ]
     },
     "execution_count": 9,
     "metadata": {},
     "output_type": "execute_result"
    }
   ],
   "source": [
    "# indexing of tensor\n",
    "C[[5,6,7,7]]"
   ]
  },
  {
   "cell_type": "code",
   "execution_count": 10,
   "id": "d1494a68-4848-42ad-bbed-fc40e4e8d562",
   "metadata": {},
   "outputs": [
    {
     "data": {
      "text/plain": [
       "tensor([0.8204, 2.2660])"
      ]
     },
     "execution_count": 10,
     "metadata": {},
     "output_type": "execute_result"
    }
   ],
   "source": [
    "# multiplying on one-hot encoded matrix \n",
    "F.one_hot(torch.tensor(5), num_classes=27).float() @ C"
   ]
  },
  {
   "cell_type": "markdown",
   "id": "e0d36f05-7e0b-4bd0-ad4b-fda05b9b193d",
   "metadata": {},
   "source": [
    "#### 1.2. Construct embeddings "
   ]
  },
  {
   "cell_type": "code",
   "execution_count": 11,
   "id": "ea89b262-8ec3-4854-b357-73f989ea6d0b",
   "metadata": {},
   "outputs": [
    {
     "data": {
      "text/plain": [
       "torch.Size([32, 3, 2])"
      ]
     },
     "execution_count": 11,
     "metadata": {},
     "output_type": "execute_result"
    }
   ],
   "source": [
    "emb = C[X]\n",
    "emb.shape"
   ]
  },
  {
   "cell_type": "markdown",
   "id": "4490c8c9-024c-48e8-992f-6ca56be8d246",
   "metadata": {},
   "source": [
    "#### 1.3. Initialize weights"
   ]
  },
  {
   "cell_type": "code",
   "execution_count": 12,
   "id": "01e69077-a44c-43d4-8f05-5ced5fb679cf",
   "metadata": {},
   "outputs": [],
   "source": [
    "W1 = torch.randn([6, 100])\n",
    "b1 = torch.randn([100])"
   ]
  },
  {
   "cell_type": "markdown",
   "id": "eb349a22-57da-418a-a903-8dd3d1d548b3",
   "metadata": {},
   "source": [
    "#### 1.4. Reshape embeddings "
   ]
  },
  {
   "cell_type": "code",
   "execution_count": 13,
   "id": "3c7fcc18-6683-4136-8b32-2e2e0f5bbd0e",
   "metadata": {},
   "outputs": [
    {
     "data": {
      "text/plain": [
       "torch.Size([32, 6])"
      ]
     },
     "execution_count": 13,
     "metadata": {},
     "output_type": "execute_result"
    }
   ],
   "source": [
    "# manually divide tensor by one of axis and concatenate\n",
    "torch.cat([emb[:, 0, :], emb[:, 1, :], emb[:, 2, :]], dim=1).shape"
   ]
  },
  {
   "cell_type": "code",
   "execution_count": 14,
   "id": "f358453e-5659-435d-82ab-bb8e30bdf252",
   "metadata": {},
   "outputs": [
    {
     "data": {
      "text/plain": [
       "torch.Size([32, 6])"
      ]
     },
     "execution_count": 14,
     "metadata": {},
     "output_type": "execute_result"
    }
   ],
   "source": [
    "# automatically divide by axis and concatenate \n",
    "torch.cat(torch.unbind(emb, 1), dim=1).shape"
   ]
  },
  {
   "cell_type": "code",
   "execution_count": 15,
   "id": "26b6d164-b243-4af0-a1e3-3965758c36aa",
   "metadata": {},
   "outputs": [
    {
     "data": {
      "text/plain": [
       "torch.Size([32, 6])"
      ]
     },
     "execution_count": 15,
     "metadata": {},
     "output_type": "execute_result"
    }
   ],
   "source": [
    "# reshape with view. Really quick\n",
    "emb.view((-1, 6)).shape"
   ]
  },
  {
   "cell_type": "markdown",
   "id": "d093b8ca-fa5d-4b3b-9fce-f8579e364ec1",
   "metadata": {},
   "source": [
    "#### 1.5. Hidden state"
   ]
  },
  {
   "cell_type": "code",
   "execution_count": 16,
   "id": "050d80ff-9042-4a8f-af80-39b58098c060",
   "metadata": {},
   "outputs": [
    {
     "data": {
      "text/plain": [
       "torch.Size([32, 100])"
      ]
     },
     "execution_count": 16,
     "metadata": {},
     "output_type": "execute_result"
    }
   ],
   "source": [
    "h = torch.tanh(emb.view((-1, 6)) @ W1 + b1)\n",
    "h.shape"
   ]
  },
  {
   "cell_type": "code",
   "execution_count": 17,
   "id": "be21aec9-55e8-4820-ab31-475e1f13aa4a",
   "metadata": {},
   "outputs": [],
   "source": [
    "# Checking broadcast\n",
    "# 32 100 \n",
    "#    100\n",
    "# everything is ok"
   ]
  },
  {
   "cell_type": "code",
   "execution_count": 18,
   "id": "72a46863-2171-490c-8fc4-5afa8bf84626",
   "metadata": {},
   "outputs": [
    {
     "data": {
      "text/plain": [
       "torch.Size([32, 2])"
      ]
     },
     "execution_count": 18,
     "metadata": {},
     "output_type": "execute_result"
    }
   ],
   "source": [
    "emb[:, 0, :].shape"
   ]
  },
  {
   "cell_type": "markdown",
   "id": "19b187fa-cfa1-4be8-887b-21e025ab7be8",
   "metadata": {},
   "source": [
    "#### 1.6. Final layer"
   ]
  },
  {
   "cell_type": "code",
   "execution_count": 19,
   "id": "15dad851-8949-43b4-bd9c-e4f428ab2e7b",
   "metadata": {},
   "outputs": [],
   "source": [
    "W2 = torch.randn([100, 27])\n",
    "b2 = torch.randn([27])"
   ]
  },
  {
   "cell_type": "code",
   "execution_count": 20,
   "id": "f8245a52-9cf3-4b55-95fd-b8a81e4e6b68",
   "metadata": {},
   "outputs": [],
   "source": [
    "logits = h @ W2 + b2"
   ]
  },
  {
   "cell_type": "code",
   "execution_count": 21,
   "id": "b0e93c76-272a-4b90-aa57-7a94da9e2503",
   "metadata": {},
   "outputs": [],
   "source": [
    "counts = logits.exp()"
   ]
  },
  {
   "cell_type": "code",
   "execution_count": 22,
   "id": "34802c02-c289-415b-a773-ebae6f183d8f",
   "metadata": {},
   "outputs": [
    {
     "data": {
      "text/plain": [
       "torch.Size([32, 27])"
      ]
     },
     "execution_count": 22,
     "metadata": {},
     "output_type": "execute_result"
    }
   ],
   "source": [
    "prob = counts / counts.sum(axis=1, keepdims=True)\n",
    "prob.shape"
   ]
  },
  {
   "cell_type": "code",
   "execution_count": 23,
   "id": "e6151d4c-06d0-45fa-a381-0d0cb5b690ad",
   "metadata": {},
   "outputs": [
    {
     "data": {
      "text/plain": [
       "tensor(1.)"
      ]
     },
     "execution_count": 23,
     "metadata": {},
     "output_type": "execute_result"
    }
   ],
   "source": [
    "# check sum of probabilities for one letter\n",
    "prob[0].sum()"
   ]
  },
  {
   "cell_type": "markdown",
   "id": "e431e229-0ed6-4c75-a3ed-83a06e92b3d4",
   "metadata": {},
   "source": [
    "#### 1.7. Loss "
   ]
  },
  {
   "cell_type": "code",
   "execution_count": 24,
   "id": "c04eaefb-c021-449d-ad7b-8b5694b469f8",
   "metadata": {},
   "outputs": [
    {
     "data": {
      "text/plain": [
       "tensor(12.9938)"
      ]
     },
     "execution_count": 24,
     "metadata": {},
     "output_type": "execute_result"
    }
   ],
   "source": [
    "loss = -prob[torch.arange(32), Y].log().mean()\n",
    "loss"
   ]
  },
  {
   "cell_type": "markdown",
   "id": "c7da7a41-bbed-43ad-ab53-708281f394d1",
   "metadata": {},
   "source": [
    "### 2. Iteration of training process "
   ]
  },
  {
   "cell_type": "markdown",
   "id": "988bf145-ca6f-4f22-ab1f-1d3e5e446794",
   "metadata": {},
   "source": [
    "#### 2.1. Initialize parameters"
   ]
  },
  {
   "cell_type": "code",
   "execution_count": 25,
   "id": "88c2ecaf-7a0f-49da-b19b-90dac5483e38",
   "metadata": {},
   "outputs": [],
   "source": [
    "g = torch.Generator().manual_seed(2147483647) # for reproducibility\n",
    "C = torch.randn((27, 2), generator=g)\n",
    "W1 = torch.randn((6, 100), generator=g)\n",
    "b1 = torch.randn(100, generator=g)\n",
    "W2 = torch.randn((100, 27), generator=g)\n",
    "b2 = torch.randn(27, generator=g)\n",
    "parameters = [C, W1, b1, W2, b2]"
   ]
  },
  {
   "cell_type": "code",
   "execution_count": 26,
   "id": "e0a3c120-b808-40bf-9b89-84172812f884",
   "metadata": {},
   "outputs": [
    {
     "data": {
      "text/plain": [
       "3481"
      ]
     },
     "execution_count": 26,
     "metadata": {},
     "output_type": "execute_result"
    }
   ],
   "source": [
    "sum(p.nelement() for p in parameters) # number of parameters in total"
   ]
  },
  {
   "cell_type": "markdown",
   "id": "ff4a65cc-173f-4884-a32a-b5a65b953333",
   "metadata": {},
   "source": [
    "#### 2.1. Forward path"
   ]
  },
  {
   "cell_type": "code",
   "execution_count": 31,
   "id": "15db1b15-9c3d-48b8-a14c-d43022bf3557",
   "metadata": {},
   "outputs": [
    {
     "data": {
      "text/plain": [
       "tensor(17.7697, grad_fn=<NllLossBackward0>)"
      ]
     },
     "execution_count": 31,
     "metadata": {},
     "output_type": "execute_result"
    }
   ],
   "source": [
    "emb = C[X]\n",
    "h = torch.tanh(emb.view((-1, 6)) @ W1 + b1)\n",
    "logits = h @ W2 + b2\n",
    "# counts = logits.exp()\n",
    "# prob = counts / counts.sum(axis=1, keepdims=True)\n",
    "# loss = -prob[torch.arange(32), Y].log().mean()\n",
    "loss = F.cross_entropy(logits, Y)\n",
    "loss"
   ]
  },
  {
   "cell_type": "markdown",
   "id": "5f1e73ed-30e3-40cc-9563-3e01eb0d1e91",
   "metadata": {},
   "source": [
    "##### Why better use cross_entropy"
   ]
  },
  {
   "cell_type": "code",
   "execution_count": 28,
   "id": "0a1bc0e3-c84b-478c-9888-d2c534f63122",
   "metadata": {},
   "outputs": [
    {
     "name": "stdout",
     "output_type": "stream",
     "text": [
      "tensor([0., 0., 0., nan])\n",
      "tensor([0., 0., 0., 1.])\n"
     ]
    }
   ],
   "source": [
    "# 1. Quicker forward path and backward because of torch optimization\n",
    "# 2. Solve problem of overflowing by subtracting max value from list \n",
    "logits = torch.tensor([1, 5, 0, 200])\n",
    "counts = logits.exp()\n",
    "prob = counts / counts.sum()\n",
    "print(prob) # problem\n",
    "\n",
    "logits = torch.tensor([1, 5, 0, 200]) - 200\n",
    "counts = logits.exp()\n",
    "prob = counts / counts.sum()\n",
    "print(prob) # doesn't have a problem"
   ]
  },
  {
   "cell_type": "markdown",
   "id": "5e0c4120-bbcf-4bf8-a5da-3dae7439f4df",
   "metadata": {},
   "source": [
    "#### 2.2. Backward path "
   ]
  },
  {
   "cell_type": "code",
   "execution_count": 32,
   "id": "600087c0-233d-4404-8fe3-63ce4ad113ef",
   "metadata": {},
   "outputs": [],
   "source": [
    "for p in parameters:\n",
    "  p.requires_grad = True"
   ]
  },
  {
   "cell_type": "code",
   "execution_count": 33,
   "id": "60bfd552-d744-4a57-8d66-2ba91901f0c2",
   "metadata": {},
   "outputs": [],
   "source": [
    "for p in parameters:\n",
    "    p.grad = None\n",
    "loss.backward()\n",
    "\n",
    "for p in parameters:\n",
    "    p.data += -0.01 * p.grad"
   ]
  },
  {
   "cell_type": "markdown",
   "id": "03351424-0eda-46d1-aae9-f7dc4b10d6e7",
   "metadata": {},
   "source": [
    "### 3. Training loop"
   ]
  },
  {
   "cell_type": "code",
   "execution_count": 92,
   "id": "efe01a90-6baf-4bd9-8d64-08f70268390e",
   "metadata": {},
   "outputs": [
    {
     "name": "stdout",
     "output_type": "stream",
     "text": [
      "torch.Size([182625, 3]) torch.Size([182625])\n",
      "torch.Size([22655, 3]) torch.Size([22655])\n",
      "torch.Size([22866, 3]) torch.Size([22866])\n"
     ]
    }
   ],
   "source": [
    "# build the dataset\n",
    "block_size = 3 # context length: how many characters do we take to predict the next one?\n",
    "\n",
    "def build_dataset(words):  \n",
    "  X, Y = [], []\n",
    "  for w in words:\n",
    "\n",
    "    #print(w)\n",
    "    context = [0] * block_size\n",
    "    for ch in w + '.':\n",
    "      ix = stoi[ch]\n",
    "      X.append(context)\n",
    "      Y.append(ix)\n",
    "      #print(''.join(itos[i] for i in context), '--->', itos[ix])\n",
    "      context = context[1:] + [ix] # crop and append\n",
    "\n",
    "  X = torch.tensor(X)\n",
    "  Y = torch.tensor(Y)\n",
    "  print(X.shape, Y.shape)\n",
    "  return X, Y\n",
    "\n",
    "import random\n",
    "random.seed(42)\n",
    "random.shuffle(words)\n",
    "n1 = int(0.8*len(words))\n",
    "n2 = int(0.9*len(words))\n",
    "\n",
    "Xtr, Ytr = build_dataset(words[:n1])\n",
    "Xdev, Ydev = build_dataset(words[n1:n2])\n",
    "Xte, Yte = build_dataset(words[n2:])"
   ]
  },
  {
   "cell_type": "code",
   "execution_count": 93,
   "id": "c8e19677-0af4-427b-ab16-d5086c04de9c",
   "metadata": {},
   "outputs": [
    {
     "data": {
      "text/plain": [
       "(torch.Size([228146, 3]), torch.int64, torch.Size([228146]), torch.int64)"
      ]
     },
     "execution_count": 93,
     "metadata": {},
     "output_type": "execute_result"
    }
   ],
   "source": [
    "X.shape, X.dtype, Y.shape, Y.dtype"
   ]
  },
  {
   "cell_type": "code",
   "execution_count": 109,
   "id": "01a1e725-431d-44e6-9cf8-e6171f55c7ab",
   "metadata": {
    "tags": []
   },
   "outputs": [],
   "source": [
    "g = torch.Generator().manual_seed(2147483647) # for reproducibility\n",
    "C = torch.randn((27, 2), generator=g)\n",
    "W1 = torch.randn((6, 100), generator=g)\n",
    "b1 = torch.randn(100, generator=g)\n",
    "W2 = torch.randn((100, 27), generator=g)\n",
    "b2 = torch.randn(27, generator=g)\n",
    "parameters = [C, W1, b1, W2, b2]"
   ]
  },
  {
   "cell_type": "code",
   "execution_count": 110,
   "id": "f160ee4e-8c6f-410c-bc0d-103504d4ab6a",
   "metadata": {},
   "outputs": [
    {
     "data": {
      "text/plain": [
       "3481"
      ]
     },
     "execution_count": 110,
     "metadata": {},
     "output_type": "execute_result"
    }
   ],
   "source": [
    "sum(p.nelement() for p in parameters) # number of parameters in total"
   ]
  },
  {
   "cell_type": "code",
   "execution_count": 111,
   "id": "d1d4c66d-e693-4bce-9e5d-cb3f1ff2f7f4",
   "metadata": {},
   "outputs": [],
   "source": [
    "for p in parameters:\n",
    "  p.requires_grad = True"
   ]
  },
  {
   "cell_type": "code",
   "execution_count": 100,
   "id": "a563754c-06a7-4adc-af4a-7b711d53e2b1",
   "metadata": {},
   "outputs": [
    {
     "name": "stdout",
     "output_type": "stream",
     "text": [
      "19.511638641357422\n",
      "17.09029197692871\n",
      "15.78246784210205\n",
      "14.839426040649414\n",
      "14.008931159973145\n",
      "13.259855270385742\n",
      "12.586769104003906\n",
      "11.990062713623047\n",
      "11.477120399475098\n",
      "11.057572364807129\n"
     ]
    }
   ],
   "source": [
    "for i in range(10):\n",
    "    # forward path\n",
    "    emb = C[Xtr]\n",
    "    h = torch.tanh(emb.view((-1, 6)) @ W1 + b1)\n",
    "    logits = h @ W2 + b2\n",
    "    loss = F.cross_entropy(logits, Ytr)\n",
    "    print(loss.item())\n",
    "    # backward path\n",
    "    for p in parameters:\n",
    "        p.grad = None\n",
    "    loss.backward()\n",
    "\n",
    "    for p in parameters:\n",
    "        p.data += -0.1 * p.grad\n",
    "    "
   ]
  },
  {
   "cell_type": "markdown",
   "id": "7b2d06d2-7bfc-4a04-a677-bf865d978c00",
   "metadata": {},
   "source": [
    "#### Ways to optimize training loop\n",
    "1. Count gradient for batches\n",
    "2. Choose learning rate\n",
    "3. Decay learning rate after time"
   ]
  },
  {
   "cell_type": "code",
   "execution_count": 112,
   "id": "f3a541b2-4237-4a7e-9f1c-f9e29ba77238",
   "metadata": {},
   "outputs": [],
   "source": [
    "lre = torch.linspace(-3, 0, 1000)\n",
    "lrs = 10**lre"
   ]
  },
  {
   "cell_type": "code",
   "execution_count": 113,
   "id": "f3f28410-3e3e-4d14-93a5-344339ab0598",
   "metadata": {},
   "outputs": [],
   "source": [
    "lri = []\n",
    "lossi = []\n",
    "stepi = []"
   ]
  },
  {
   "cell_type": "code",
   "execution_count": 120,
   "id": "f64b95f5-64f8-4198-8974-0718bc77b25f",
   "metadata": {
    "scrolled": true,
    "tags": []
   },
   "outputs": [],
   "source": [
    "for i in range(10000):\n",
    "    ix = torch.randint(0, Xtr.shape[0], (32,))\n",
    "    \n",
    "    # forward path\n",
    "    emb = C[Xtr[ix]] # (32, 3, 2)\n",
    "    h = torch.tanh(emb.view((-1, 6)) @ W1 + b1)\n",
    "    logits = h @ W2 + b2 # (32, 27)\n",
    "    loss = F.cross_entropy(logits, Ytr[ix])\n",
    "    # print(loss.item())\n",
    "    # backward path\n",
    "    for p in parameters:\n",
    "        p.grad = None\n",
    "    loss.backward()\n",
    "\n",
    "    # trying different lr for choosing # evaluate by plot\n",
    "    # lr = lrs[i]\n",
    "    lr = 0.01\n",
    "    for p in parameters:\n",
    "        p.data += -lr * p.grad\n",
    "        \n",
    "    # track stats\n",
    "    # lri.append(lre[i])\n",
    "    # stepi.append(i)\n",
    "    lossi.append(loss.item())"
   ]
  },
  {
   "cell_type": "code",
   "execution_count": 121,
   "id": "fc8aa0f2-f1b4-44e4-814b-d26c0543b030",
   "metadata": {},
   "outputs": [
    {
     "data": {
      "text/plain": [
       "tensor(2.3286, grad_fn=<NllLossBackward0>)"
      ]
     },
     "execution_count": 121,
     "metadata": {},
     "output_type": "execute_result"
    }
   ],
   "source": [
    "emb = C[Xtr] # (32, 3, 2)\n",
    "h = torch.tanh(emb.view(-1, 6) @ W1 + b1) # (32, 100)\n",
    "logits = h @ W2 + b2 # (32, 27)\n",
    "loss = F.cross_entropy(logits, Ytr)\n",
    "loss"
   ]
  },
  {
   "cell_type": "code",
   "execution_count": 122,
   "id": "66500e92-abaf-481a-9ad3-5e4cc45e48cb",
   "metadata": {},
   "outputs": [
    {
     "data": {
      "text/plain": [
       "tensor(2.3297, grad_fn=<NllLossBackward0>)"
      ]
     },
     "execution_count": 122,
     "metadata": {},
     "output_type": "execute_result"
    }
   ],
   "source": [
    "emb = C[Xdev] # (32, 3, 2)\n",
    "h = torch.tanh(emb.view(-1, 6) @ W1 + b1) # (32, 100)\n",
    "logits = h @ W2 + b2 # (32, 27)\n",
    "loss = F.cross_entropy(logits, Ydev)\n",
    "loss"
   ]
  },
  {
   "cell_type": "markdown",
   "id": "b0d9530e-660f-4c82-a372-4f574e606095",
   "metadata": {},
   "source": [
    "Training and dev losses are similar so we make assumption that our model is underfitted because of too small amount of parameters "
   ]
  },
  {
   "cell_type": "code",
   "execution_count": 91,
   "id": "5bbaadfb-1b4e-408a-aaf0-a249e185f5d5",
   "metadata": {},
   "outputs": [
    {
     "data": {
      "text/plain": [
       "[<matplotlib.lines.Line2D at 0x28b17648310>]"
      ]
     },
     "execution_count": 91,
     "metadata": {},
     "output_type": "execute_result"
    },
    {
     "data": {
      "image/png": "[encoded data removed]",
      "text/plain": [
       "<Figure size 640x480 with 1 Axes>"
      ]
     },
     "metadata": {},
     "output_type": "display_data"
    }
   ],
   "source": [
    "# See from plot the lr is good near 10^(-1)\n",
    "plt.plot(lri, lossi)"
   ]
  },
  {
   "cell_type": "code",
   "execution_count": 60,
   "id": "bbf946cf-3cd2-42de-adfb-2be8835e2fc9",
   "metadata": {},
   "outputs": [
    {
     "data": {
      "text/plain": [
       "tensor(7.1951, grad_fn=<NllLossBackward0>)"
      ]
     },
     "execution_count": 60,
     "metadata": {},
     "output_type": "execute_result"
    }
   ],
   "source": []
  },
  {
   "cell_type": "code",
   "execution_count": null,
   "id": "8dd93e63-e80a-479e-8b4e-c77cff565058",
   "metadata": {},
   "outputs": [],
   "source": []
  }
 ],
 "metadata": {
  "kernelspec": {
   "display_name": "nn_env",
   "language": "python",
   "name": "nn_env"
  },
  "language_info": {
   "codemirror_mode": {
    "name": "ipython",
    "version": 3
   },
   "file_extension": ".py",
   "mimetype": "text/x-python",
   "name": "python",
   "nbconvert_exporter": "python",
   "pygments_lexer": "ipython3",
   "version": "3.9.13"
  }
 },
 "nbformat": 4,
 "nbformat_minor": 5
}
