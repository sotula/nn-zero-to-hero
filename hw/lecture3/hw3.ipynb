{
 "cells": [
  {
   "cell_type": "code",
   "execution_count": 6,
   "id": "b3408faa-6db4-4d50-8df1-913f825fecc1",
   "metadata": {},
   "outputs": [],
   "source": [
    "import torch\n",
    "import torch.nn.functional as F\n",
    "import matplotlib.pyplot as plt # for making figures\n",
    "import random\n",
    "%matplotlib inline"
   ]
  },
  {
   "cell_type": "markdown",
   "id": "39cfe843-1a27-485f-aa98-2214cd170d0b",
   "metadata": {},
   "source": [
    "### 0. Prepare data"
   ]
  },
  {
   "cell_type": "code",
   "execution_count": 3,
   "id": "f7fa0127-c97b-46d2-b675-736da22c9c30",
   "metadata": {},
   "outputs": [
    {
     "data": {
      "text/plain": [
       "['emma', 'olivia', 'ava', 'isabella', 'sophia', 'charlotte', 'mia', 'amelia']"
      ]
     },
     "execution_count": 3,
     "metadata": {},
     "output_type": "execute_result"
    }
   ],
   "source": [
    "# read in all the words\n",
    "words = open('../lecture2/names.txt', 'r').read().splitlines()\n",
    "words[:8]"
   ]
  },
  {
   "cell_type": "code",
   "execution_count": 4,
   "id": "7804a52c-1e32-4b48-bb4f-de9437217692",
   "metadata": {},
   "outputs": [
    {
     "data": {
      "text/plain": [
       "32033"
      ]
     },
     "execution_count": 4,
     "metadata": {},
     "output_type": "execute_result"
    }
   ],
   "source": [
    "len(words)"
   ]
  },
  {
   "cell_type": "code",
   "execution_count": 5,
   "id": "7886abc6-9275-4686-a4e0-408659fcc980",
   "metadata": {},
   "outputs": [
    {
     "name": "stdout",
     "output_type": "stream",
     "text": [
      "{1: 'a', 2: 'b', 3: 'c', 4: 'd', 5: 'e', 6: 'f', 7: 'g', 8: 'h', 9: 'i', 10: 'j', 11: 'k', 12: 'l', 13: 'm', 14: 'n', 15: 'o', 16: 'p', 17: 'q', 18: 'r', 19: 's', 20: 't', 21: 'u', 22: 'v', 23: 'w', 24: 'x', 25: 'y', 26: 'z', 0: '.'}\n",
      "27\n"
     ]
    }
   ],
   "source": [
    "# build the vocabulary of characters and mappings to/from integers\n",
    "chars = sorted(list(set(''.join(words))))\n",
    "stoi = {s:i+1 for i,s in enumerate(chars)}\n",
    "stoi['.'] = 0\n",
    "itos = {i:s for s,i in stoi.items()}\n",
    "vocab_size = len(itos)\n",
    "print(itos)\n",
    "print(vocab_size)"
   ]
  },
  {
   "cell_type": "code",
   "execution_count": 10,
   "id": "ad023770-c2da-4cf4-8d21-5a9e4cbd1e16",
   "metadata": {},
   "outputs": [
    {
     "name": "stdout",
     "output_type": "stream",
     "text": [
      "torch.Size([182625, 3]) torch.Size([182625])\n",
      "torch.Size([22655, 3]) torch.Size([22655])\n",
      "torch.Size([22866, 3]) torch.Size([22866])\n"
     ]
    }
   ],
   "source": [
    "# build the dataset\n",
    "block_size = 3 # context length: how many characters do we take to predict the next one?\n",
    "\n",
    "def build_dataset(words):  \n",
    "    X, Y = [], []\n",
    "\n",
    "    for w in words:\n",
    "        context = [0] * block_size\n",
    "        for ch in w + '.':\n",
    "            ix = stoi[ch]\n",
    "            X.append(context)\n",
    "            Y.append(ix)\n",
    "            context = context[1:] + [ix] # crop and append\n",
    "\n",
    "    X = torch.tensor(X)\n",
    "    Y = torch.tensor(Y)\n",
    "    print(X.shape, Y.shape)\n",
    "    return X, Y\n",
    "\n",
    "random.seed(42)\n",
    "random.shuffle(words)\n",
    "n1 = int(0.8*len(words))\n",
    "n2 = int(0.9*len(words))\n",
    "\n",
    "Xtr,  Ytr  = build_dataset(words[:n1])     # 80%\n",
    "Xdev, Ydev = build_dataset(words[n1:n2])   # 10%\n",
    "Xte,  Yte  = build_dataset(words[n2:])     # 10%"
   ]
  },
  {
   "cell_type": "code",
   "execution_count": 11,
   "id": "2d6d676b-3dc1-4f06-a132-5d35f6010278",
   "metadata": {},
   "outputs": [
    {
     "ename": "NameError",
     "evalue": "name 'X' is not defined",
     "output_type": "error",
     "traceback": [
      "\u001b[1;31m---------------------------------------------------------------------------\u001b[0m",
      "\u001b[1;31mNameError\u001b[0m                                 Traceback (most recent call last)",
      "Cell \u001b[1;32mIn[11], line 1\u001b[0m\n\u001b[1;32m----> 1\u001b[0m \u001b[43mX\u001b[49m\u001b[38;5;241m.\u001b[39mshape, X\u001b[38;5;241m.\u001b[39mdtype, Y\u001b[38;5;241m.\u001b[39mshape, Y\u001b[38;5;241m.\u001b[39mdtype\n",
      "\u001b[1;31mNameError\u001b[0m: name 'X' is not defined"
     ]
    }
   ],
   "source": [
    "X.shape, X.dtype, Y.shape, Y.dtype"
   ]
  },
  {
   "cell_type": "markdown",
   "id": "9c71e77e-45a7-4195-a989-62afd6f47aae",
   "metadata": {},
   "source": [
    "### 1. Improve MLP"
   ]
  },
  {
   "cell_type": "markdown",
   "id": "71b87e37-9b64-4916-ba1b-c12b328df606",
   "metadata": {},
   "source": [
    "#### 1.1. Minimize iitial loss "
   ]
  },
  {
   "cell_type": "markdown",
   "id": "d00261c2-ea37-4aff-8891-86535b237f44",
   "metadata": {},
   "source": [
    "Initial random distribution of weights gives extreme values of logits because of it first value of loss is much bigger than next. "
   ]
  },
  {
   "cell_type": "code",
   "execution_count": 20,
   "id": "7baf995c-0abb-4858-bd51-702329d91dad",
   "metadata": {},
   "outputs": [
    {
     "name": "stdout",
     "output_type": "stream",
     "text": [
      "11897\n"
     ]
    }
   ],
   "source": [
    "# MLP revisited\n",
    "n_embd = 10 # the dimensionality of the character embedding vectors\n",
    "n_hidden = 200 # the number of neurons in the hidden layer of the MLP\n",
    "\n",
    "g = torch.Generator().manual_seed(2147483647) # for reproducibility\n",
    "C  = torch.randn((vocab_size, n_embd),            generator=g)\n",
    "W1 = torch.randn((n_embd * block_size, n_hidden), generator=g) \n",
    "b1 = torch.randn(n_hidden,                        generator=g) \n",
    "W2 = torch.randn((n_hidden, vocab_size),          generator=g) \n",
    "b2 = torch.randn(vocab_size,                      generator=g) \n",
    "\n",
    "parameters = [C, W1, b1, W2, b2]\n",
    "print(sum(p.nelement() for p in parameters)) # number of parameters in total\n",
    "for p in parameters:\n",
    "  p.requires_grad = True"
   ]
  },
  {
   "cell_type": "code",
   "execution_count": 21,
   "id": "56cdec7c-1b11-41ed-b689-48380b6b2f35",
   "metadata": {},
   "outputs": [
    {
     "name": "stdout",
     "output_type": "stream",
     "text": [
      "      0/ 200000: 24.2073\n"
     ]
    }
   ],
   "source": [
    "max_steps = 200000\n",
    "batch_size = 32\n",
    "lossi = []\n",
    "\n",
    "for i in range(max_steps):\n",
    "  \n",
    "    # minibatch construct\n",
    "    ix = torch.randint(0, Xtr.shape[0], (batch_size,), generator=g)\n",
    "    Xb, Yb = Xtr[ix], Ytr[ix] # batch X,Y\n",
    "\n",
    "    # forward pass\n",
    "    emb = C[Xb] # embed the characters into vectors\n",
    "    embcat = emb.view(emb.shape[0], -1) # concatenate the vectors\n",
    "    hpreact = embcat @ W1 + b1 # hidden layer pre-activation\n",
    "    h = torch.tanh(hpreact) # hidden layer\n",
    "    logits = h @ W2 + b2 # output layer\n",
    "    loss = F.cross_entropy(logits, Yb) # loss function\n",
    "\n",
    "    # backward pass\n",
    "    for p in parameters:\n",
    "        p.grad = None\n",
    "    loss.backward()\n",
    "\n",
    "    # update\n",
    "    lr = 0.1 if i < 100000 else 0.01 # step learning rate decay\n",
    "    for p in parameters:\n",
    "        p.data += -lr * p.grad\n",
    "\n",
    "    # track stats\n",
    "    if i % 10000 == 0: # print every once in a while\n",
    "        print(f'{i:7d}/{max_steps:7d}: {loss.item():.4f}')\n",
    "    lossi.append(loss.log10().item())\n",
    "    break"
   ]
  },
  {
   "cell_type": "code",
   "execution_count": 23,
   "id": "846e8188-1860-4c1f-a74d-d0aef6a3c5ff",
   "metadata": {},
   "outputs": [
    {
     "data": {
      "text/plain": [
       "tensor([ -7.6398,  31.1040,  -6.9666,  12.6367,   9.4776,  -8.1927,  -5.6764,\n",
       "          0.1431,  21.9312,   2.8395,   4.9671,  -7.5472,  -6.6493, -20.5142,\n",
       "         -0.9894,   6.7938, -15.0622, -12.3481, -17.4484,   4.4335,  10.8456,\n",
       "         18.2173,  21.8788,  -8.1171, -18.3647,  14.3837,   7.0911],\n",
       "       grad_fn=<SelectBackward0>)"
      ]
     },
     "execution_count": 23,
     "metadata": {},
     "output_type": "execute_result"
    }
   ],
   "source": [
    "logits[0]"
   ]
  },
  {
   "cell_type": "markdown",
   "id": "f9b7fb0d-39fe-4a43-8fb9-ac8c04b83f01",
   "metadata": {},
   "source": [
    "We can initialize weights with small values and don't spend 1000 epochs just for getting smaller loss"
   ]
  },
  {
   "cell_type": "code",
   "execution_count": 26,
   "id": "67d4bde2-c874-4dab-beec-583a5262238c",
   "metadata": {},
   "outputs": [
    {
     "name": "stdout",
     "output_type": "stream",
     "text": [
      "11897\n"
     ]
    }
   ],
   "source": [
    "# MLP revisited\n",
    "n_embd = 10 # the dimensionality of the character embedding vectors\n",
    "n_hidden = 200 # the number of neurons in the hidden layer of the MLP\n",
    "\n",
    "g = torch.Generator().manual_seed(2147483647) # for reproducibility\n",
    "C  = torch.randn((vocab_size, n_embd),            generator=g)\n",
    "W1 = torch.randn((n_embd * block_size, n_hidden), generator=g)\n",
    "b1 = torch.randn(n_hidden,                        generator=g) * 0.01\n",
    "W2 = torch.randn((n_hidden, vocab_size),          generator=g) * 0.01\n",
    "b2 = torch.randn(vocab_size,                      generator=g) * 0\n",
    "\n",
    "parameters = [C, W1, b1, W2, b2]\n",
    "print(sum(p.nelement() for p in parameters)) # number of parameters in total\n",
    "for p in parameters:\n",
    "  p.requires_grad = True"
   ]
  },
  {
   "cell_type": "code",
   "execution_count": 27,
   "id": "269b5ba5-796d-459d-b28d-6edeb8f5a86a",
   "metadata": {},
   "outputs": [
    {
     "name": "stdout",
     "output_type": "stream",
     "text": [
      "      0/ 200000: 3.3179\n",
      "  10000/ 200000: 2.1910\n",
      "  20000/ 200000: 2.3270\n",
      "  30000/ 200000: 2.5396\n",
      "  40000/ 200000: 1.9468\n",
      "  50000/ 200000: 2.3331\n",
      "  60000/ 200000: 2.3852\n",
      "  70000/ 200000: 2.1173\n",
      "  80000/ 200000: 2.3159\n",
      "  90000/ 200000: 2.2010\n",
      " 100000/ 200000: 1.8591\n",
      " 110000/ 200000: 2.0881\n",
      " 120000/ 200000: 1.9389\n",
      " 130000/ 200000: 2.3913\n",
      " 140000/ 200000: 2.0949\n",
      " 150000/ 200000: 2.1458\n",
      " 160000/ 200000: 1.7824\n",
      " 170000/ 200000: 1.7249\n",
      " 180000/ 200000: 1.9751\n",
      " 190000/ 200000: 1.8614\n"
     ]
    }
   ],
   "source": [
    "max_steps = 200000\n",
    "batch_size = 32\n",
    "lossi = []\n",
    "\n",
    "for i in range(max_steps):\n",
    "  \n",
    "    # minibatch construct\n",
    "    ix = torch.randint(0, Xtr.shape[0], (batch_size,), generator=g)\n",
    "    Xb, Yb = Xtr[ix], Ytr[ix] # batch X,Y\n",
    "\n",
    "    # forward pass\n",
    "    emb = C[Xb] # embed the characters into vectors\n",
    "    embcat = emb.view(emb.shape[0], -1) # concatenate the vectors\n",
    "    hpreact = embcat @ W1 + b1 # hidden layer pre-activation\n",
    "    h = torch.tanh(hpreact) # hidden layer\n",
    "    logits = h @ W2 + b2 # output layer\n",
    "    loss = F.cross_entropy(logits, Yb) # loss function\n",
    "\n",
    "    # backward pass\n",
    "    for p in parameters:\n",
    "        p.grad = None\n",
    "    loss.backward()\n",
    "\n",
    "    # update\n",
    "    lr = 0.1 if i < 100000 else 0.01 # step learning rate decay\n",
    "    for p in parameters:\n",
    "        p.data += -lr * p.grad\n",
    "\n",
    "    # track stats\n",
    "    if i % 10000 == 0: # print every once in a while\n",
    "        print(f'{i:7d}/{max_steps:7d}: {loss.item():.4f}')\n",
    "    lossi.append(loss.log10().item())\n",
    "    "
   ]
  },
  {
   "cell_type": "code",
   "execution_count": 28,
   "id": "becfd5d9-7f98-4c81-bb5d-fd60e9ebb7a7",
   "metadata": {},
   "outputs": [
    {
     "data": {
      "text/plain": [
       "[<matplotlib.lines.Line2D at 0x1a13cb7beb0>]"
      ]
     },
     "execution_count": 28,
     "metadata": {},
     "output_type": "execute_result"
    },
    {
     "data": {
      "image/png": "[encoded data removed]",
      "text/plain": [
       "<Figure size 640x480 with 1 Axes>"
      ]
     },
     "metadata": {},
     "output_type": "display_data"
    }
   ],
   "source": [
    "plt.plot(lossi)"
   ]
  },
  {
   "cell_type": "markdown",
   "id": "7feaefac-1c5b-4b20-8e4d-ca0ed0c958d4",
   "metadata": {},
   "source": [
    "#### 1.2. Tanh activation values distribution "
   ]
  },
  {
   "cell_type": "code",
   "execution_count": 51,
   "id": "e9d3d34b-a6f5-402a-b8b4-c5e90f182314",
   "metadata": {},
   "outputs": [
    {
     "name": "stdout",
     "output_type": "stream",
     "text": [
      "11897\n"
     ]
    }
   ],
   "source": [
    "# MLP revisited\n",
    "n_embd = 10 # the dimensionality of the character embedding vectors\n",
    "n_hidden = 200 # the number of neurons in the hidden layer of the MLP\n",
    "\n",
    "g = torch.Generator().manual_seed(2147483647) # for reproducibility\n",
    "C  = torch.randn((vocab_size, n_embd),            generator=g)\n",
    "W1 = torch.randn((n_embd * block_size, n_hidden), generator=g) \n",
    "b1 = torch.randn(n_hidden,                        generator=g) \n",
    "W2 = torch.randn((n_hidden, vocab_size),          generator=g) * 0.01\n",
    "b2 = torch.randn(vocab_size,                      generator=g) * 0\n",
    "\n",
    "parameters = [C, W1, b1, W2, b2]\n",
    "print(sum(p.nelement() for p in parameters)) # number of parameters in total\n",
    "for p in parameters:\n",
    "  p.requires_grad = True"
   ]
  },
  {
   "cell_type": "code",
   "execution_count": 52,
   "id": "7ca609c5-9129-447e-8fb2-26747c137a58",
   "metadata": {},
   "outputs": [
    {
     "name": "stdout",
     "output_type": "stream",
     "text": [
      "      0/ 200000: 3.3221\n"
     ]
    }
   ],
   "source": [
    "max_steps = 200000\n",
    "batch_size = 32\n",
    "lossi = []\n",
    "\n",
    "for i in range(max_steps):\n",
    "  \n",
    "    # minibatch construct\n",
    "    ix = torch.randint(0, Xtr.shape[0], (batch_size,), generator=g)\n",
    "    Xb, Yb = Xtr[ix], Ytr[ix] # batch X,Y\n",
    "\n",
    "    # forward pass\n",
    "    emb = C[Xb] # embed the characters into vectors\n",
    "    embcat = emb.view(emb.shape[0], -1) # concatenate the vectors\n",
    "    hpreact = embcat @ W1 + b1 # hidden layer pre-activation\n",
    "    h = torch.tanh(hpreact) # hidden layer\n",
    "    logits = h @ W2 + b2 # output layer\n",
    "    loss = F.cross_entropy(logits, Yb) # loss function\n",
    "\n",
    "    # backward pass\n",
    "    for p in parameters:\n",
    "        p.grad = None\n",
    "    loss.backward()\n",
    "\n",
    "    # update\n",
    "    lr = 0.1 if i < 100000 else 0.01 # step learning rate decay\n",
    "    for p in parameters:\n",
    "        p.data += -lr * p.grad\n",
    "\n",
    "    # track stats\n",
    "    if i % 10000 == 0: # print every once in a while\n",
    "        print(f'{i:7d}/{max_steps:7d}: {loss.item():.4f}')\n",
    "    lossi.append(loss.log10().item())\n",
    "    break"
   ]
  },
  {
   "cell_type": "code",
   "execution_count": 55,
   "id": "7683c650-8b9f-41c1-ae3f-8b55d44c3ea6",
   "metadata": {},
   "outputs": [
    {
     "data": {
      "text/plain": [
       "<matplotlib.image.AxesImage at 0x1a145766430>"
      ]
     },
     "execution_count": 55,
     "metadata": {},
     "output_type": "execute_result"
    },
    {
     "data": {
      "image/png": "[encoded data removed]",
      "text/plain": [
       "<Figure size 2000x1000 with 1 Axes>"
      ]
     },
     "metadata": {},
     "output_type": "display_data"
    }
   ],
   "source": [
    "plt.figure(figsize=(20,10))\n",
    "plt.imshow(h.abs() > 0.99, cmap='gray', interpolation='nearest')"
   ]
  },
  {
   "cell_type": "markdown",
   "id": "0d0e8963-eeda-41fd-8b9e-b317ac524768",
   "metadata": {},
   "source": [
    "A lot of values after tanh are really close to zero. It's dangerous because we may have problem of dead neurons "
   ]
  },
  {
   "cell_type": "code",
   "execution_count": 57,
   "id": "8623da4b-6293-4775-be0c-7ee9ef635e1a",
   "metadata": {},
   "outputs": [
    {
     "data": {
      "image/png": "[encoded data removed]",
      "text/plain": [
       "<Figure size 640x480 with 1 Axes>"
      ]
     },
     "metadata": {},
     "output_type": "display_data"
    }
   ],
   "source": [
    "plt.hist(h.view(-1).tolist(), bins='auto');"
   ]
  },
  {
   "cell_type": "markdown",
   "id": "59c91f43-25db-4262-824d-10fc9e5dd1a2",
   "metadata": {},
   "source": [
    "We have high tanh values because values of hpreact"
   ]
  },
  {
   "cell_type": "code",
   "execution_count": 56,
   "id": "b8357b0d-5f24-4efe-8382-30da7be450ce",
   "metadata": {},
   "outputs": [
    {
     "data": {
      "image/png": "[encoded data removed]",
      "text/plain": [
       "<Figure size 640x480 with 1 Axes>"
      ]
     },
     "metadata": {},
     "output_type": "display_data"
    }
   ],
   "source": [
    "plt.hist(hpreact.view(-1).tolist(), bins='auto');"
   ]
  },
  {
   "cell_type": "markdown",
   "id": "54583f24-1ef1-4848-9474-9aaf9fa13f02",
   "metadata": {},
   "source": [
    "Lets imagine that we initialize x and w matrices"
   ]
  },
  {
   "cell_type": "code",
   "execution_count": 58,
   "id": "6253a284-ed4a-4815-8359-cb7801711a66",
   "metadata": {},
   "outputs": [
    {
     "name": "stdout",
     "output_type": "stream",
     "text": [
      "tensor(-0.0105) tensor(0.9428)\n",
      "tensor(0.0083) tensor(2.9231)\n"
     ]
    },
    {
     "data": {
      "image/png": "[encoded data removed]",
      "text/plain": [
       "<Figure size 2000x500 with 2 Axes>"
      ]
     },
     "metadata": {},
     "output_type": "display_data"
    }
   ],
   "source": [
    "x = torch.randn((100, 10))\n",
    "w = torch.randn((10, 200))\n",
    "y = x @ w\n",
    "print(x.mean(), x.std())\n",
    "print(y.mean(), y.std())\n",
    "plt.figure(figsize=(20,5))\n",
    "plt.subplot(121)\n",
    "plt.hist(x.view(-1).tolist(), bins='auto');\n",
    "plt.subplot(122)\n",
    "plt.hist(y.view(-1).tolist(), bins='auto');"
   ]
  },
  {
   "cell_type": "markdown",
   "id": "4468e992-b410-4631-8131-c1decc8beb6a",
   "metadata": {},
   "source": [
    "We initialized two gaussian normal distribution but after multiplication we get gaussion distribution with much bigger sd"
   ]
  },
  {
   "cell_type": "code",
   "execution_count": 61,
   "id": "086ca715-81c5-422e-beec-ae1d9d9f970e",
   "metadata": {},
   "outputs": [
    {
     "name": "stdout",
     "output_type": "stream",
     "text": [
      "tensor(-0.0347) tensor(0.9911)\n",
      "tensor(-0.0172) tensor(1.6751)\n"
     ]
    },
    {
     "data": {
      "image/png": "[encoded data removed]",
      "text/plain": [
       "<Figure size 2000x500 with 2 Axes>"
      ]
     },
     "metadata": {},
     "output_type": "display_data"
    }
   ],
   "source": [
    "x = torch.randn((100, 10))\n",
    "w = torch.randn((10, 200)) * (5/3) / (10**0.5)\n",
    "y = x @ w\n",
    "print(x.mean(), x.std())\n",
    "print(y.mean(), y.std())\n",
    "plt.figure(figsize=(20,5))\n",
    "plt.subplot(121)\n",
    "plt.hist(x.view(-1).tolist(), bins='auto');\n",
    "plt.subplot(122)\n",
    "plt.hist(y.view(-1).tolist(), bins='auto');"
   ]
  },
  {
   "cell_type": "markdown",
   "id": "27659f32-6a86-40d1-bf07-19bc876ad287",
   "metadata": {},
   "source": [
    "We used kaiming initializations of the weights. It'll help not to get extreme values after multiplication"
   ]
  },
  {
   "cell_type": "code",
   "execution_count": null,
   "id": "bb2d6e56-53cb-491d-8845-d17815d94048",
   "metadata": {},
   "outputs": [],
   "source": [
    "# MLP revisited\n",
    "n_embd = 10 # the dimensionality of the character embedding vectors\n",
    "n_hidden = 200 # the number of neurons in the hidden layer of the MLP\n",
    "\n",
    "g = torch.Generator().manual_seed(2147483647) # for reproducibility\n",
    "C  = torch.randn((vocab_size, n_embd),            generator=g)\n",
    "W1 = torch.randn((n_embd * block_size, n_hidden), generator=g) * (5/3)/((n_embd * block_size)**0.5) #* 0.2 # kaiming initializations\n",
    "b1 = torch.randn(n_hidden,                        generator=g) * 0.01\n",
    "W2 = torch.randn((n_hidden, vocab_size),          generator=g) * 0.01\n",
    "b2 = torch.randn(vocab_size,                      generator=g) * 0\n",
    "\n",
    "parameters = [C, W1, b1, W2, b2]\n",
    "print(sum(p.nelement() for p in parameters)) # number of parameters in total\n",
    "for p in parameters:\n",
    "  p.requires_grad = True"
   ]
  },
  {
   "cell_type": "markdown",
   "id": "c22fd81e-0e55-4746-8ac5-f97bd062fb9a",
   "metadata": {},
   "source": [
    "#### 1.3. Batch normalization"
   ]
  },
  {
   "cell_type": "markdown",
   "id": "8f29bc41-23b6-4993-8aef-836d0cbb82c1",
   "metadata": {},
   "source": [
    "In 1.2. we were trying to make better distribution of an activation function, but was only for initialization. With batch normalization we can control distribution of all activations. "
   ]
  },
  {
   "cell_type": "code",
   "execution_count": 62,
   "id": "20a19905-ac6a-4070-93ff-943b806c6cf2",
   "metadata": {},
   "outputs": [],
   "source": [
    "bnmeani = hpreact.mean(0, keepdim=True)\n",
    "bnstdi = hpreact.std(0, keepdim=True)\n",
    "hpreact = bngain * (hpreact - bnmeani) / bnstdi + bnbias"
   ]
  },
  {
   "cell_type": "markdown",
   "id": "6ab68110-aa73-4240-af8c-82a0a1b11252",
   "metadata": {},
   "source": [
    "Updated training process"
   ]
  },
  {
   "cell_type": "code",
   "execution_count": null,
   "id": "c90490b9-0960-42dd-b087-12980b8fc47f",
   "metadata": {},
   "outputs": [],
   "source": [
    "# same optimization as last time\n",
    "max_steps = 200000\n",
    "batch_size = 32\n",
    "lossi = []\n",
    "\n",
    "for i in range(max_steps):\n",
    "  \n",
    "    # minibatch construct\n",
    "    ix = torch.randint(0, Xtr.shape[0], (batch_size,), generator=g)\n",
    "    Xb, Yb = Xtr[ix], Ytr[ix] # batch X,Y\n",
    "\n",
    "    # forward pass\n",
    "    emb = C[Xb] # embed the characters into vectors\n",
    "    embcat = emb.view(emb.shape[0], -1) # concatenate the vectors\n",
    "    # Linear layer\n",
    "    hpreact = embcat @ W1 #+ b1 # hidden layer pre-activation\n",
    "    # BatchNorm layer\n",
    "    # -------------------------------------------------------------\n",
    "    bnmeani = hpreact.mean(0, keepdim=True)\n",
    "    bnstdi = hpreact.std(0, keepdim=True)\n",
    "    hpreact = bngain * (hpreact - bnmeani) / bnstdi + bnbias\n",
    "    # -------------------------------------------------------------\n",
    "    # Non-linearity\n",
    "    h = torch.tanh(hpreact) # hidden layer\n",
    "    logits = h @ W2 + b2 # output layer\n",
    "    loss = F.cross_entropy(logits, Yb) # loss function\n",
    "  \n",
    "    # backward pass\n",
    "    for p in parameters:\n",
    "        p.grad = None\n",
    "    loss.backward()\n",
    "\n",
    "    # update\n",
    "    lr = 0.1 if i < 100000 else 0.01 # step learning rate decay\n",
    "    for p in parameters:\n",
    "        p.data += -lr * p.grad\n",
    "\n",
    "    # track stats\n",
    "    if i % 10000 == 0: # print every once in a while\n",
    "        print(f'{i:7d}/{max_steps:7d}: {loss.item():.4f}')\n",
    "    lossi.append(loss.log10().item())\n",
    "  "
   ]
  },
  {
   "cell_type": "markdown",
   "id": "57a33a4e-ff2c-405f-aaed-5f9ba5feb468",
   "metadata": {},
   "source": [
    "Updated function for calculation loss"
   ]
  },
  {
   "cell_type": "code",
   "execution_count": null,
   "id": "2091a709-43fd-449c-97bd-d6c1d59f9217",
   "metadata": {},
   "outputs": [],
   "source": [
    "@torch.no_grad() # this decorator disables gradient tracking\n",
    "def split_loss(split):\n",
    "    x,y = {\n",
    "    'train': (Xtr, Ytr),\n",
    "    'val': (Xdev, Ydev),\n",
    "    'test': (Xte, Yte),\n",
    "    }[split]\n",
    "    emb = C[x] # (N, block_size, n_embd)\n",
    "    embcat = emb.view(emb.shape[0], -1) # concat into (N, block_size * n_embd)\n",
    "    hpreact = embcat @ W1 # + b1\n",
    "    hpreact = bngain * (hpreact - hpreact.mean(0, keepdim=True)) / hpreact.std(0, keepdim=True) + bnbias\n",
    "    h = torch.tanh(hpreact) # (N, n_hidden)\n",
    "    logits = h @ W2 + b2 # (N, vocab_size)\n",
    "    loss = F.cross_entropy(logits, y)\n",
    "    print(split, loss.item())\n",
    "\n",
    "split_loss('train')\n",
    "split_loss('val')"
   ]
  },
  {
   "cell_type": "markdown",
   "id": "bfcc54a6-c520-4d45-b1ef-85e53ef225b9",
   "metadata": {},
   "source": [
    "Now we have problem with calculating loss for one example. Our forward path is expecting a batch of examples with calculated mean and sd"
   ]
  },
  {
   "cell_type": "markdown",
   "id": "471812fd-0f21-4978-bee4-da686df1c585",
   "metadata": {},
   "source": [
    "We can solve it with precalculating mean and sd for an entire dataset before calculating loss"
   ]
  },
  {
   "cell_type": "code",
   "execution_count": null,
   "id": "6b6f0c39-0cf3-4bfa-9df3-41aaaf83105d",
   "metadata": {},
   "outputs": [],
   "source": [
    "# calibrate the batch norm at the end of training\n",
    "\n",
    "with torch.no_grad():\n",
    "    # pass the training set through\n",
    "    emb = C[Xtr]\n",
    "    embcat = emb.view(emb.shape[0], -1)\n",
    "    hpreact = embcat @ W1 # + b1\n",
    "    # measure the mean/std over the entire training set\n",
    "    bnmean = hpreact.mean(0, keepdim=True)\n",
    "    bnstd = hpreact.std(0, keepdim=True)"
   ]
  },
  {
   "cell_type": "code",
   "execution_count": null,
   "id": "519edd83-2c93-4ab5-9436-3cca382a4d1d",
   "metadata": {},
   "outputs": [],
   "source": [
    "@torch.no_grad() # this decorator disables gradient tracking\n",
    "def split_loss(split):\n",
    "    x,y = {\n",
    "    'train': (Xtr, Ytr),\n",
    "    'val': (Xdev, Ydev),\n",
    "    'test': (Xte, Yte),\n",
    "    }[split]\n",
    "    emb = C[x] # (N, block_size, n_embd)\n",
    "    embcat = emb.view(emb.shape[0], -1) # concat into (N, block_size * n_embd)\n",
    "    hpreact = embcat @ W1 # + b1\n",
    "    hpreact = bngain * (hpreact - bnmean_running) / bnstd_running + bnbias # using calculated values\n",
    "    h = torch.tanh(hpreact) # (N, n_hidden)\n",
    "    logits = h @ W2 + b2 # (N, vocab_size)\n",
    "    loss = F.cross_entropy(logits, y)\n",
    "    print(split, loss.item())\n",
    "\n",
    "split_loss('train')\n",
    "split_loss('val')"
   ]
  },
  {
   "cell_type": "markdown",
   "id": "646f1657-1e60-4fc4-a0f1-a8a38136b8e2",
   "metadata": {},
   "source": [
    "#### 1.4. Batch normalization with estimated mean and sd"
   ]
  },
  {
   "cell_type": "markdown",
   "id": "2419a590-1287-4fb8-8b0e-eb31bdc2e8ec",
   "metadata": {},
   "source": [
    "No one wants precalculated mean and sd. Exist second way to do forward path after training. We need estimate mean and sd during training"
   ]
  },
  {
   "cell_type": "code",
   "execution_count": null,
   "id": "cce34a78-3c26-4808-9024-761fc690bb1e",
   "metadata": {},
   "outputs": [],
   "source": []
  },
  {
   "cell_type": "code",
   "execution_count": null,
   "id": "40ee69be-a567-4c7b-876c-b2d8951e2f9c",
   "metadata": {},
   "outputs": [],
   "source": []
  },
  {
   "cell_type": "markdown",
   "id": "06e8eaf0-59d1-41d2-a030-a64e8bf419d6",
   "metadata": {},
   "source": [
    "### 1. Calculations"
   ]
  },
  {
   "cell_type": "code",
   "execution_count": 7,
   "id": "701bafc8-cfa8-4090-91d2-6342cb1c934a",
   "metadata": {},
   "outputs": [],
   "source": [
    "# matrix with weights \n",
    "C = torch.randn([27, 2])"
   ]
  },
  {
   "cell_type": "markdown",
   "id": "e0264415-97fe-42b4-bb93-a08fa82b293c",
   "metadata": {},
   "source": [
    "#### 1.1. Get weights for certain index "
   ]
  },
  {
   "cell_type": "code",
   "execution_count": 8,
   "id": "f8a242bc-af36-4190-b54f-ea95c1d193ae",
   "metadata": {},
   "outputs": [
    {
     "data": {
      "text/plain": [
       "tensor([ 1.0925, -0.4932])"
      ]
     },
     "execution_count": 8,
     "metadata": {},
     "output_type": "execute_result"
    }
   ],
   "source": [
    "# just get array for letter by indexing 2d array\n",
    "C[5]"
   ]
  },
  {
   "cell_type": "code",
   "execution_count": 9,
   "id": "0237df24-fd0f-4765-8fe1-6b4cc9921bf0",
   "metadata": {},
   "outputs": [
    {
     "data": {
      "text/plain": [
       "tensor([[ 1.0925, -0.4932],\n",
       "        [ 0.9561,  0.8337],\n",
       "        [-0.0555,  0.6975],\n",
       "        [-0.0555,  0.6975]])"
      ]
     },
     "execution_count": 9,
     "metadata": {},
     "output_type": "execute_result"
    }
   ],
   "source": [
    "# indexing of tensor\n",
    "C[[5,6,7,7]]"
   ]
  },
  {
   "cell_type": "code",
   "execution_count": 10,
   "id": "d1494a68-4848-42ad-bbed-fc40e4e8d562",
   "metadata": {},
   "outputs": [
    {
     "data": {
      "text/plain": [
       "tensor([ 1.0925, -0.4932])"
      ]
     },
     "execution_count": 10,
     "metadata": {},
     "output_type": "execute_result"
    }
   ],
   "source": [
    "# multiplying on one-hot encoded matrix \n",
    "F.one_hot(torch.tensor(5), num_classes=27).float() @ C"
   ]
  },
  {
   "cell_type": "markdown",
   "id": "e0d36f05-7e0b-4bd0-ad4b-fda05b9b193d",
   "metadata": {},
   "source": [
    "#### 1.2. Construct embeddings "
   ]
  },
  {
   "cell_type": "code",
   "execution_count": 11,
   "id": "ea89b262-8ec3-4854-b357-73f989ea6d0b",
   "metadata": {},
   "outputs": [
    {
     "data": {
      "text/plain": [
       "torch.Size([32, 3, 2])"
      ]
     },
     "execution_count": 11,
     "metadata": {},
     "output_type": "execute_result"
    }
   ],
   "source": [
    "emb = C[X]\n",
    "emb.shape"
   ]
  },
  {
   "cell_type": "markdown",
   "id": "4490c8c9-024c-48e8-992f-6ca56be8d246",
   "metadata": {},
   "source": [
    "#### 1.3. Initialize weights"
   ]
  },
  {
   "cell_type": "code",
   "execution_count": 12,
   "id": "01e69077-a44c-43d4-8f05-5ced5fb679cf",
   "metadata": {},
   "outputs": [],
   "source": [
    "W1 = torch.randn([6, 100])\n",
    "b1 = torch.randn([100])"
   ]
  },
  {
   "cell_type": "markdown",
   "id": "eb349a22-57da-418a-a903-8dd3d1d548b3",
   "metadata": {},
   "source": [
    "#### 1.4. Reshape embeddings "
   ]
  },
  {
   "cell_type": "code",
   "execution_count": 13,
   "id": "3c7fcc18-6683-4136-8b32-2e2e0f5bbd0e",
   "metadata": {},
   "outputs": [
    {
     "data": {
      "text/plain": [
       "torch.Size([32, 6])"
      ]
     },
     "execution_count": 13,
     "metadata": {},
     "output_type": "execute_result"
    }
   ],
   "source": [
    "# manually divide tensor by one of axis and concatenate\n",
    "torch.cat([emb[:, 0, :], emb[:, 1, :], emb[:, 2, :]], dim=1).shape"
   ]
  },
  {
   "cell_type": "code",
   "execution_count": 14,
   "id": "f358453e-5659-435d-82ab-bb8e30bdf252",
   "metadata": {},
   "outputs": [
    {
     "data": {
      "text/plain": [
       "torch.Size([32, 6])"
      ]
     },
     "execution_count": 14,
     "metadata": {},
     "output_type": "execute_result"
    }
   ],
   "source": [
    "# automatically divide by axis and concatenate \n",
    "torch.cat(torch.unbind(emb, 1), dim=1).shape"
   ]
  },
  {
   "cell_type": "code",
   "execution_count": 15,
   "id": "26b6d164-b243-4af0-a1e3-3965758c36aa",
   "metadata": {},
   "outputs": [
    {
     "data": {
      "text/plain": [
       "torch.Size([32, 6])"
      ]
     },
     "execution_count": 15,
     "metadata": {},
     "output_type": "execute_result"
    }
   ],
   "source": [
    "# reshape with view. Really quick\n",
    "emb.view((-1, 6)).shape"
   ]
  },
  {
   "cell_type": "markdown",
   "id": "d093b8ca-fa5d-4b3b-9fce-f8579e364ec1",
   "metadata": {},
   "source": [
    "#### 1.5. Hidden state"
   ]
  },
  {
   "cell_type": "code",
   "execution_count": 16,
   "id": "050d80ff-9042-4a8f-af80-39b58098c060",
   "metadata": {},
   "outputs": [
    {
     "data": {
      "text/plain": [
       "torch.Size([32, 100])"
      ]
     },
     "execution_count": 16,
     "metadata": {},
     "output_type": "execute_result"
    }
   ],
   "source": [
    "h = torch.tanh(emb.view((-1, 6)) @ W1 + b1)\n",
    "h.shape"
   ]
  },
  {
   "cell_type": "code",
   "execution_count": 17,
   "id": "be21aec9-55e8-4820-ab31-475e1f13aa4a",
   "metadata": {},
   "outputs": [],
   "source": [
    "# Checking broadcast\n",
    "# 32 100 \n",
    "#    100\n",
    "# everything is ok"
   ]
  },
  {
   "cell_type": "code",
   "execution_count": 18,
   "id": "72a46863-2171-490c-8fc4-5afa8bf84626",
   "metadata": {},
   "outputs": [
    {
     "data": {
      "text/plain": [
       "torch.Size([32, 2])"
      ]
     },
     "execution_count": 18,
     "metadata": {},
     "output_type": "execute_result"
    }
   ],
   "source": [
    "emb[:, 0, :].shape"
   ]
  },
  {
   "cell_type": "markdown",
   "id": "19b187fa-cfa1-4be8-887b-21e025ab7be8",
   "metadata": {},
   "source": [
    "#### 1.6. Final layer"
   ]
  },
  {
   "cell_type": "code",
   "execution_count": 19,
   "id": "15dad851-8949-43b4-bd9c-e4f428ab2e7b",
   "metadata": {},
   "outputs": [],
   "source": [
    "W2 = torch.randn([100, 27])\n",
    "b2 = torch.randn([27])"
   ]
  },
  {
   "cell_type": "code",
   "execution_count": 20,
   "id": "f8245a52-9cf3-4b55-95fd-b8a81e4e6b68",
   "metadata": {},
   "outputs": [],
   "source": [
    "logits = h @ W2 + b2"
   ]
  },
  {
   "cell_type": "code",
   "execution_count": 21,
   "id": "b0e93c76-272a-4b90-aa57-7a94da9e2503",
   "metadata": {},
   "outputs": [],
   "source": [
    "counts = logits.exp()"
   ]
  },
  {
   "cell_type": "code",
   "execution_count": 22,
   "id": "34802c02-c289-415b-a773-ebae6f183d8f",
   "metadata": {},
   "outputs": [
    {
     "data": {
      "text/plain": [
       "torch.Size([32, 27])"
      ]
     },
     "execution_count": 22,
     "metadata": {},
     "output_type": "execute_result"
    }
   ],
   "source": [
    "prob = counts / counts.sum(axis=1, keepdims=True)\n",
    "prob.shape"
   ]
  },
  {
   "cell_type": "code",
   "execution_count": 23,
   "id": "e6151d4c-06d0-45fa-a381-0d0cb5b690ad",
   "metadata": {},
   "outputs": [
    {
     "data": {
      "text/plain": [
       "tensor(1.)"
      ]
     },
     "execution_count": 23,
     "metadata": {},
     "output_type": "execute_result"
    }
   ],
   "source": [
    "# check sum of probabilities for one letter\n",
    "prob[0].sum()"
   ]
  },
  {
   "cell_type": "markdown",
   "id": "e431e229-0ed6-4c75-a3ed-83a06e92b3d4",
   "metadata": {},
   "source": [
    "#### 1.7. Loss "
   ]
  },
  {
   "cell_type": "code",
   "execution_count": 24,
   "id": "c04eaefb-c021-449d-ad7b-8b5694b469f8",
   "metadata": {},
   "outputs": [
    {
     "data": {
      "text/plain": [
       "tensor(12.9938)"
      ]
     },
     "execution_count": 24,
     "metadata": {},
     "output_type": "execute_result"
    }
   ],
   "source": [
    "loss = -prob[torch.arange(32), Y].log().mean()\n",
    "loss"
   ]
  },
  {
   "cell_type": "markdown",
   "id": "c7da7a41-bbed-43ad-ab53-708281f394d1",
   "metadata": {},
   "source": [
    "### 2. Iteration of training process "
   ]
  },
  {
   "cell_type": "markdown",
   "id": "988bf145-ca6f-4f22-ab1f-1d3e5e446794",
   "metadata": {},
   "source": [
    "#### 2.1. Initialize parameters"
   ]
  },
  {
   "cell_type": "code",
   "execution_count": 25,
   "id": "88c2ecaf-7a0f-49da-b19b-90dac5483e38",
   "metadata": {},
   "outputs": [],
   "source": [
    "g = torch.Generator().manual_seed(2147483647) # for reproducibility\n",
    "C = torch.randn((27, 2), generator=g)\n",
    "W1 = torch.randn((6, 100), generator=g)\n",
    "b1 = torch.randn(100, generator=g)\n",
    "W2 = torch.randn((100, 27), generator=g)\n",
    "b2 = torch.randn(27, generator=g)\n",
    "parameters = [C, W1, b1, W2, b2]"
   ]
  },
  {
   "cell_type": "code",
   "execution_count": 26,
   "id": "e0a3c120-b808-40bf-9b89-84172812f884",
   "metadata": {},
   "outputs": [
    {
     "data": {
      "text/plain": [
       "3481"
      ]
     },
     "execution_count": 26,
     "metadata": {},
     "output_type": "execute_result"
    }
   ],
   "source": [
    "sum(p.nelement() for p in parameters) # number of parameters in total"
   ]
  },
  {
   "cell_type": "markdown",
   "id": "ff4a65cc-173f-4884-a32a-b5a65b953333",
   "metadata": {},
   "source": [
    "#### 2.1. Forward path"
   ]
  },
  {
   "cell_type": "code",
   "execution_count": 31,
   "id": "15db1b15-9c3d-48b8-a14c-d43022bf3557",
   "metadata": {},
   "outputs": [
    {
     "data": {
      "text/plain": [
       "tensor(17.7697, grad_fn=<NllLossBackward0>)"
      ]
     },
     "execution_count": 31,
     "metadata": {},
     "output_type": "execute_result"
    }
   ],
   "source": [
    "emb = C[X]\n",
    "h = torch.tanh(emb.view((-1, 6)) @ W1 + b1)\n",
    "logits = h @ W2 + b2\n",
    "# counts = logits.exp()\n",
    "# prob = counts / counts.sum(axis=1, keepdims=True)\n",
    "# loss = -prob[torch.arange(32), Y].log().mean()\n",
    "loss = F.cross_entropy(logits, Y)\n",
    "loss"
   ]
  },
  {
   "cell_type": "markdown",
   "id": "5f1e73ed-30e3-40cc-9563-3e01eb0d1e91",
   "metadata": {},
   "source": [
    "##### Why better use cross_entropy"
   ]
  },
  {
   "cell_type": "code",
   "execution_count": 28,
   "id": "0a1bc0e3-c84b-478c-9888-d2c534f63122",
   "metadata": {},
   "outputs": [
    {
     "name": "stdout",
     "output_type": "stream",
     "text": [
      "tensor([0., 0., 0., nan])\n",
      "tensor([0., 0., 0., 1.])\n"
     ]
    }
   ],
   "source": [
    "# 1. Quicker forward path and backward because of torch optimization\n",
    "# 2. Solve problem of overflowing by subtracting max value from list \n",
    "logits = torch.tensor([1, 5, 0, 200])\n",
    "counts = logits.exp()\n",
    "prob = counts / counts.sum()\n",
    "print(prob) # problem\n",
    "\n",
    "logits = torch.tensor([1, 5, 0, 200]) - 200\n",
    "counts = logits.exp()\n",
    "prob = counts / counts.sum()\n",
    "print(prob) # doesn't have a problem"
   ]
  },
  {
   "cell_type": "markdown",
   "id": "5e0c4120-bbcf-4bf8-a5da-3dae7439f4df",
   "metadata": {},
   "source": [
    "#### 2.2. Backward path "
   ]
  },
  {
   "cell_type": "code",
   "execution_count": 32,
   "id": "600087c0-233d-4404-8fe3-63ce4ad113ef",
   "metadata": {},
   "outputs": [],
   "source": [
    "for p in parameters:\n",
    "  p.requires_grad = True"
   ]
  },
  {
   "cell_type": "code",
   "execution_count": 33,
   "id": "60bfd552-d744-4a57-8d66-2ba91901f0c2",
   "metadata": {},
   "outputs": [],
   "source": [
    "for p in parameters:\n",
    "    p.grad = None\n",
    "loss.backward()\n",
    "\n",
    "for p in parameters:\n",
    "    p.data += -0.01 * p.grad"
   ]
  },
  {
   "cell_type": "markdown",
   "id": "03351424-0eda-46d1-aae9-f7dc4b10d6e7",
   "metadata": {},
   "source": [
    "### 3. Training loop"
   ]
  },
  {
   "cell_type": "markdown",
   "id": "ead1b2d2-6714-46d9-bb9e-673760de5be1",
   "metadata": {},
   "source": [
    "#### 3.1. Choose learning rate"
   ]
  },
  {
   "cell_type": "code",
   "execution_count": 17,
   "id": "396872f9-410f-496c-a981-c9f228f07907",
   "metadata": {},
   "outputs": [],
   "source": [
    "block_size = 3 # context length: how many characters do we take to predict the next one?\n",
    "X, Y = [], []\n",
    "for w in words:\n",
    "  \n",
    "  #print(w)\n",
    "  context = [0] * block_size\n",
    "  for ch in w + '.':\n",
    "    ix = stoi[ch]\n",
    "    X.append(context)\n",
    "    Y.append(ix)\n",
    "    # print(''.join(itos[i] for i in context), '--->', itos[ix])\n",
    "    context = context[1:] + [ix] # crop and append\n",
    "  \n",
    "X = torch.tensor(X)\n",
    "Y = torch.tensor(Y)"
   ]
  },
  {
   "cell_type": "code",
   "execution_count": 18,
   "id": "0037166c-b077-40d8-abe9-701c0d87d47a",
   "metadata": {},
   "outputs": [
    {
     "data": {
      "text/plain": [
       "(torch.Size([228146, 3]), torch.int64, torch.Size([228146]), torch.int64)"
      ]
     },
     "execution_count": 18,
     "metadata": {},
     "output_type": "execute_result"
    }
   ],
   "source": [
    "X.shape, X.dtype, Y.shape, Y.dtype"
   ]
  },
  {
   "cell_type": "code",
   "execution_count": 19,
   "id": "abdb6384-81fc-48ae-8580-29ffd81e6e9c",
   "metadata": {},
   "outputs": [],
   "source": [
    "g = torch.Generator().manual_seed(2147483647) # for reproducibility\n",
    "C = torch.randn((27, 2), generator=g)\n",
    "W1 = torch.randn((6, 100), generator=g)\n",
    "b1 = torch.randn(100, generator=g)\n",
    "W2 = torch.randn((100, 27), generator=g)\n",
    "b2 = torch.randn(27, generator=g)\n",
    "parameters = [C, W1, b1, W2, b2]"
   ]
  },
  {
   "cell_type": "code",
   "execution_count": 20,
   "id": "20c241c8-663c-4fb3-b93b-921db4c29f84",
   "metadata": {},
   "outputs": [],
   "source": [
    "lre = torch.linspace(-3, 0, 1000)\n",
    "lrs = 10**lre"
   ]
  },
  {
   "cell_type": "code",
   "execution_count": 21,
   "id": "d9271d82-2b3b-47c1-b403-2fb24a4eb40b",
   "metadata": {},
   "outputs": [],
   "source": [
    "for p in parameters:\n",
    "  p.requires_grad = True"
   ]
  },
  {
   "cell_type": "code",
   "execution_count": 22,
   "id": "805198bb-a3eb-447e-adde-659d7a6c4185",
   "metadata": {},
   "outputs": [],
   "source": [
    "lri = []\n",
    "lossi = []"
   ]
  },
  {
   "cell_type": "code",
   "execution_count": 23,
   "id": "0744d42b-734a-431d-976a-b1eb405e56c4",
   "metadata": {
    "scrolled": true,
    "tags": []
   },
   "outputs": [
    {
     "name": "stdout",
     "output_type": "stream",
     "text": [
      "19.522085189819336\n",
      "20.28532600402832\n",
      "22.65484046936035\n",
      "17.749971389770508\n",
      "22.613624572753906\n",
      "20.02329444885254\n",
      "19.856733322143555\n",
      "18.595687866210938\n",
      "20.286846160888672\n",
      "19.343608856201172\n",
      "20.00918197631836\n",
      "18.86632537841797\n",
      "20.351409912109375\n",
      "20.43692970275879\n",
      "19.476776123046875\n",
      "20.26049041748047\n",
      "18.31002426147461\n",
      "20.056291580200195\n",
      "18.416318893432617\n",
      "18.45543670654297\n",
      "20.26556968688965\n",
      "19.350818634033203\n",
      "19.3786563873291\n",
      "19.718982696533203\n",
      "18.989093780517578\n",
      "17.861705780029297\n",
      "18.781658172607422\n",
      "21.103092193603516\n",
      "18.944841384887695\n",
      "17.83271026611328\n",
      "21.221227645874023\n",
      "18.76123809814453\n",
      "17.7419490814209\n",
      "21.001445770263672\n",
      "21.11859703063965\n",
      "20.953182220458984\n",
      "20.239320755004883\n",
      "20.669254302978516\n",
      "17.063800811767578\n",
      "18.35890769958496\n",
      "15.505743980407715\n",
      "17.843311309814453\n",
      "18.710735321044922\n",
      "21.961742401123047\n",
      "20.28738021850586\n",
      "21.431238174438477\n",
      "20.21836280822754\n",
      "19.26164436340332\n",
      "19.731456756591797\n",
      "17.946279525756836\n",
      "19.755258560180664\n",
      "17.392148971557617\n",
      "15.569904327392578\n",
      "16.33222007751465\n",
      "20.89199447631836\n",
      "18.720428466796875\n",
      "14.341737747192383\n",
      "18.354589462280273\n",
      "17.0927791595459\n",
      "15.356201171875\n",
      "18.610361099243164\n",
      "20.686080932617188\n",
      "16.620742797851562\n",
      "14.942109107971191\n",
      "16.483320236206055\n",
      "14.550275802612305\n",
      "15.37138557434082\n",
      "16.79915428161621\n",
      "17.974849700927734\n",
      "20.84372329711914\n",
      "20.0892276763916\n",
      "16.533740997314453\n",
      "15.910280227661133\n",
      "16.905380249023438\n",
      "18.570337295532227\n",
      "15.506150245666504\n",
      "17.068553924560547\n",
      "20.630889892578125\n",
      "16.11229133605957\n",
      "16.823902130126953\n",
      "17.44232749938965\n",
      "18.304615020751953\n",
      "15.881258010864258\n",
      "16.11183738708496\n",
      "16.068191528320312\n",
      "15.974638938903809\n",
      "17.015260696411133\n",
      "18.00750160217285\n",
      "19.433216094970703\n",
      "18.22903823852539\n",
      "17.088939666748047\n",
      "17.967823028564453\n",
      "15.511256217956543\n",
      "17.328163146972656\n",
      "17.737524032592773\n",
      "17.55528450012207\n",
      "16.859973907470703\n",
      "15.552319526672363\n",
      "20.060527801513672\n",
      "16.434816360473633\n",
      "14.21306037902832\n",
      "18.304584503173828\n",
      "18.458457946777344\n",
      "17.793569564819336\n",
      "17.1140193939209\n",
      "16.175724029541016\n",
      "15.014812469482422\n",
      "16.420127868652344\n",
      "15.619281768798828\n",
      "16.885700225830078\n",
      "17.456594467163086\n",
      "15.049225807189941\n",
      "16.78083038330078\n",
      "15.352315902709961\n",
      "17.0679931640625\n",
      "20.233455657958984\n",
      "15.584604263305664\n",
      "16.929210662841797\n",
      "13.36428165435791\n",
      "13.35729694366455\n",
      "15.040413856506348\n",
      "12.259990692138672\n",
      "16.48594093322754\n",
      "14.343206405639648\n",
      "12.578426361083984\n",
      "13.96046257019043\n",
      "17.656147003173828\n",
      "14.370844841003418\n",
      "18.206768035888672\n",
      "15.465925216674805\n",
      "16.56329917907715\n",
      "14.957655906677246\n",
      "16.934926986694336\n",
      "15.194632530212402\n",
      "17.134248733520508\n",
      "17.094585418701172\n",
      "16.954200744628906\n",
      "14.274063110351562\n",
      "15.357799530029297\n",
      "14.414407730102539\n",
      "18.203720092773438\n",
      "12.654967308044434\n",
      "13.412765502929688\n",
      "16.66545867919922\n",
      "17.218420028686523\n",
      "16.47561264038086\n",
      "12.661201477050781\n",
      "15.3267183303833\n",
      "13.354429244995117\n",
      "15.534850120544434\n",
      "14.084202766418457\n",
      "14.621735572814941\n",
      "15.075361251831055\n",
      "13.646031379699707\n",
      "14.310688972473145\n",
      "17.646211624145508\n",
      "15.991734504699707\n",
      "14.248090744018555\n",
      "14.661170959472656\n",
      "13.0191068649292\n",
      "14.09725570678711\n",
      "17.22353172302246\n",
      "15.315447807312012\n",
      "14.040030479431152\n",
      "13.913633346557617\n",
      "12.630425453186035\n",
      "16.01377296447754\n",
      "14.493701934814453\n",
      "13.367756843566895\n",
      "14.442215919494629\n",
      "14.925183296203613\n",
      "13.99279499053955\n",
      "16.461875915527344\n",
      "13.17198371887207\n",
      "11.830251693725586\n",
      "14.65156364440918\n",
      "14.6159086227417\n",
      "13.830720901489258\n",
      "12.301413536071777\n",
      "16.21170997619629\n",
      "14.423596382141113\n",
      "14.316017150878906\n",
      "16.45628547668457\n",
      "12.242900848388672\n",
      "12.96014404296875\n",
      "13.484184265136719\n",
      "14.242682456970215\n",
      "14.60779857635498\n",
      "14.039012908935547\n",
      "12.510309219360352\n",
      "13.403743743896484\n",
      "13.72017765045166\n",
      "13.373740196228027\n",
      "13.270407676696777\n",
      "13.485116958618164\n",
      "13.056078910827637\n",
      "17.334535598754883\n",
      "15.937604904174805\n",
      "11.721118927001953\n",
      "12.834053039550781\n",
      "13.989867210388184\n",
      "12.455866813659668\n",
      "13.80041217803955\n",
      "14.677309036254883\n",
      "12.340069770812988\n",
      "14.103432655334473\n",
      "12.201800346374512\n",
      "15.4154052734375\n",
      "12.558832168579102\n",
      "16.473712921142578\n",
      "12.471936225891113\n",
      "17.372211456298828\n",
      "14.530216217041016\n",
      "13.719358444213867\n",
      "12.084653854370117\n",
      "10.871541023254395\n",
      "11.22896957397461\n",
      "13.847736358642578\n",
      "14.464308738708496\n",
      "14.212150573730469\n",
      "13.713178634643555\n",
      "12.178220748901367\n",
      "12.221352577209473\n",
      "11.955748558044434\n",
      "13.02215576171875\n",
      "13.580909729003906\n",
      "13.309127807617188\n",
      "14.325927734375\n",
      "14.120843887329102\n",
      "12.325027465820312\n",
      "12.262535095214844\n",
      "10.5787353515625\n",
      "12.956216812133789\n",
      "13.283760070800781\n",
      "13.467994689941406\n",
      "11.985201835632324\n",
      "12.845755577087402\n",
      "12.947464942932129\n",
      "13.543794631958008\n",
      "12.344110488891602\n",
      "14.923418045043945\n",
      "11.959298133850098\n",
      "12.098875999450684\n",
      "11.904326438903809\n",
      "12.163556098937988\n",
      "15.044684410095215\n",
      "12.458002090454102\n",
      "12.450458526611328\n",
      "14.185225486755371\n",
      "13.981048583984375\n",
      "13.330748558044434\n",
      "12.699413299560547\n",
      "12.799930572509766\n",
      "13.766434669494629\n",
      "13.124716758728027\n",
      "10.191445350646973\n",
      "10.255900382995605\n",
      "12.04537582397461\n",
      "12.057855606079102\n",
      "12.953145980834961\n",
      "11.44870376586914\n",
      "12.385363578796387\n",
      "13.812772750854492\n",
      "11.285752296447754\n",
      "11.287768363952637\n",
      "12.807202339172363\n",
      "9.309900283813477\n",
      "10.446788787841797\n",
      "13.26305866241455\n",
      "12.748424530029297\n",
      "13.94455337524414\n",
      "10.537334442138672\n",
      "10.392644882202148\n",
      "10.428593635559082\n",
      "12.5138578414917\n",
      "8.973724365234375\n",
      "14.127787590026855\n",
      "13.605451583862305\n",
      "12.243727684020996\n",
      "11.502935409545898\n",
      "13.626508712768555\n",
      "13.419601440429688\n",
      "7.535175800323486\n",
      "12.455286026000977\n",
      "11.094823837280273\n",
      "12.46705150604248\n",
      "10.043525695800781\n",
      "12.009757041931152\n",
      "9.576635360717773\n",
      "9.604168891906738\n",
      "10.709866523742676\n",
      "12.574270248413086\n",
      "10.100410461425781\n",
      "13.140547752380371\n",
      "10.221806526184082\n",
      "7.951992511749268\n",
      "9.61543083190918\n",
      "8.767969131469727\n",
      "11.404099464416504\n",
      "13.6863374710083\n",
      "11.050299644470215\n",
      "10.199731826782227\n",
      "9.966948509216309\n",
      "12.599998474121094\n",
      "9.076762199401855\n",
      "10.08658218383789\n",
      "8.47142219543457\n",
      "10.45512580871582\n",
      "9.423986434936523\n",
      "11.643233299255371\n",
      "10.067793846130371\n",
      "9.584234237670898\n",
      "9.704545021057129\n",
      "8.314443588256836\n",
      "8.018272399902344\n",
      "10.232189178466797\n",
      "11.628976821899414\n",
      "7.44544792175293\n",
      "10.200461387634277\n",
      "12.5050687789917\n",
      "10.62094783782959\n",
      "7.622046947479248\n",
      "12.472593307495117\n",
      "10.783570289611816\n",
      "11.066801071166992\n",
      "9.649301528930664\n",
      "9.185074806213379\n",
      "10.443323135375977\n",
      "9.306863784790039\n",
      "11.238550186157227\n",
      "11.35798454284668\n",
      "9.756760597229004\n",
      "8.817792892456055\n",
      "10.413769721984863\n",
      "7.950522422790527\n",
      "9.758563995361328\n",
      "10.103370666503906\n",
      "7.112085819244385\n",
      "10.967855453491211\n",
      "9.492591857910156\n",
      "10.544800758361816\n",
      "8.838150978088379\n",
      "11.136212348937988\n",
      "10.92963695526123\n",
      "7.074093818664551\n",
      "8.990473747253418\n",
      "10.410202026367188\n",
      "8.351668357849121\n",
      "9.348883628845215\n",
      "12.57652473449707\n",
      "8.314691543579102\n",
      "9.242029190063477\n",
      "9.31084156036377\n",
      "6.785255432128906\n",
      "7.7300920486450195\n",
      "8.983807563781738\n",
      "8.546778678894043\n",
      "9.066426277160645\n",
      "9.217791557312012\n",
      "7.13651180267334\n",
      "9.660134315490723\n",
      "7.0775604248046875\n",
      "8.83096981048584\n",
      "10.300722122192383\n",
      "12.961645126342773\n",
      "9.888272285461426\n",
      "8.573543548583984\n",
      "9.508152961730957\n",
      "10.819727897644043\n",
      "8.857503890991211\n",
      "7.397732257843018\n",
      "7.7480034828186035\n",
      "8.063614845275879\n",
      "7.569972991943359\n",
      "7.980295181274414\n",
      "6.04429817199707\n",
      "10.390410423278809\n",
      "8.34231948852539\n",
      "9.401912689208984\n",
      "7.619798183441162\n",
      "10.84312629699707\n",
      "8.696500778198242\n",
      "6.627896785736084\n",
      "7.904617786407471\n",
      "10.401646614074707\n",
      "7.848435401916504\n",
      "6.383738040924072\n",
      "8.548540115356445\n",
      "8.305556297302246\n",
      "8.40997314453125\n",
      "9.563554763793945\n",
      "6.989130020141602\n",
      "7.892196178436279\n",
      "8.690218925476074\n",
      "7.709690093994141\n",
      "6.667381286621094\n",
      "9.544966697692871\n",
      "7.005073547363281\n",
      "8.137652397155762\n",
      "9.094714164733887\n",
      "7.472942352294922\n",
      "5.619880199432373\n",
      "7.179460048675537\n",
      "8.301898956298828\n",
      "9.708247184753418\n",
      "8.726174354553223\n",
      "9.86296558380127\n",
      "7.325332164764404\n",
      "8.861810684204102\n",
      "7.755471706390381\n",
      "9.007393836975098\n",
      "9.104204177856445\n",
      "7.232276439666748\n",
      "7.764269828796387\n",
      "6.86690092086792\n",
      "8.368425369262695\n",
      "8.220085144042969\n",
      "7.8668670654296875\n",
      "8.523954391479492\n",
      "8.050651550292969\n",
      "8.917320251464844\n",
      "8.34314250946045\n",
      "6.5055623054504395\n",
      "7.1208720207214355\n",
      "10.484060287475586\n",
      "8.136555671691895\n",
      "7.568049430847168\n",
      "4.776465892791748\n",
      "5.9203925132751465\n",
      "4.599349498748779\n",
      "7.397645950317383\n",
      "8.539278030395508\n",
      "7.861499309539795\n",
      "7.53656005859375\n",
      "8.2863187789917\n",
      "8.85915756225586\n",
      "8.19290828704834\n",
      "6.845912456512451\n",
      "5.947962760925293\n",
      "8.771218299865723\n",
      "7.791044235229492\n",
      "6.67333984375\n",
      "5.662634372711182\n",
      "5.221623420715332\n",
      "7.032277584075928\n",
      "8.273609161376953\n",
      "6.268316268920898\n",
      "6.277923583984375\n",
      "6.632078647613525\n",
      "5.14638090133667\n",
      "6.959831714630127\n",
      "5.848789691925049\n",
      "7.2351250648498535\n",
      "5.870020389556885\n",
      "6.322157859802246\n",
      "5.757208824157715\n",
      "6.787160396575928\n",
      "7.612635135650635\n",
      "6.536599159240723\n",
      "6.937561988830566\n",
      "7.783361911773682\n",
      "8.184430122375488\n",
      "6.228231906890869\n",
      "6.132546424865723\n",
      "5.718152046203613\n",
      "6.1126179695129395\n",
      "7.685083389282227\n",
      "7.13043737411499\n",
      "7.172858238220215\n",
      "6.634097099304199\n",
      "7.763558387756348\n",
      "5.100442886352539\n",
      "5.434729099273682\n",
      "4.930278778076172\n",
      "5.946956634521484\n",
      "5.2350616455078125\n",
      "6.65995979309082\n",
      "5.574896812438965\n",
      "7.1712517738342285\n",
      "5.542538166046143\n",
      "5.943647861480713\n",
      "6.156557083129883\n",
      "4.940410137176514\n",
      "5.082242012023926\n",
      "5.348069667816162\n",
      "6.851602077484131\n",
      "4.962611675262451\n",
      "5.460107326507568\n",
      "5.272893905639648\n",
      "5.525975227355957\n",
      "4.812039852142334\n",
      "5.818880081176758\n",
      "6.401819705963135\n",
      "6.863574504852295\n",
      "5.859321594238281\n",
      "5.577920436859131\n",
      "5.842404365539551\n",
      "5.206343173980713\n",
      "6.640840530395508\n",
      "5.947290420532227\n",
      "7.0349602699279785\n",
      "5.304531097412109\n",
      "5.73436164855957\n",
      "5.95269250869751\n",
      "3.953578233718872\n",
      "5.876376628875732\n",
      "4.842062473297119\n",
      "4.187783718109131\n",
      "4.622414588928223\n",
      "5.319841384887695\n",
      "4.406611919403076\n",
      "5.194332599639893\n",
      "6.073631286621094\n",
      "5.1630096435546875\n",
      "4.981832981109619\n",
      "5.122312068939209\n",
      "6.111796855926514\n",
      "5.637325763702393\n",
      "3.5706787109375\n",
      "4.565560340881348\n",
      "5.803443431854248\n",
      "6.293489456176758\n",
      "4.456976890563965\n",
      "4.913926124572754\n",
      "5.079747200012207\n",
      "5.201017379760742\n",
      "4.64851713180542\n",
      "5.356454372406006\n",
      "4.572381973266602\n",
      "3.815645456314087\n",
      "5.611643314361572\n",
      "4.706827163696289\n",
      "5.635621070861816\n",
      "4.425139427185059\n",
      "3.7847464084625244\n",
      "5.7832932472229\n",
      "4.938145160675049\n",
      "5.900901794433594\n",
      "4.124025821685791\n",
      "3.7427825927734375\n",
      "4.920994281768799\n",
      "5.017291069030762\n",
      "3.716251850128174\n",
      "4.1974616050720215\n",
      "3.74969482421875\n",
      "4.610137939453125\n",
      "4.497959613800049\n",
      "5.088742733001709\n",
      "4.661389350891113\n",
      "4.825672149658203\n",
      "4.1110944747924805\n",
      "3.998728036880493\n",
      "4.27631950378418\n",
      "5.156545639038086\n",
      "4.888722896575928\n",
      "4.563053131103516\n",
      "3.6975150108337402\n",
      "5.190634250640869\n",
      "5.124658107757568\n",
      "4.532902717590332\n",
      "3.945369243621826\n",
      "4.172592639923096\n",
      "3.61314058303833\n",
      "3.9059579372406006\n",
      "4.298512935638428\n",
      "4.224621295928955\n",
      "3.7810797691345215\n",
      "5.002810478210449\n",
      "4.172898769378662\n",
      "3.7529475688934326\n",
      "4.43367862701416\n",
      "4.558765411376953\n",
      "4.8218865394592285\n",
      "4.226860046386719\n",
      "3.9008376598358154\n",
      "3.924001693725586\n",
      "5.10698127746582\n",
      "2.7249324321746826\n",
      "4.512202739715576\n",
      "3.3797390460968018\n",
      "4.223062515258789\n",
      "4.286042213439941\n",
      "3.7087717056274414\n",
      "4.362958908081055\n",
      "4.453878879547119\n",
      "3.9933788776397705\n",
      "4.016939163208008\n",
      "4.014135360717773\n",
      "3.575899600982666\n",
      "3.278286933898926\n",
      "3.6015515327453613\n",
      "3.294156551361084\n",
      "3.7146072387695312\n",
      "3.2054026126861572\n",
      "3.5769457817077637\n",
      "3.501636028289795\n",
      "4.442298412322998\n",
      "3.6592984199523926\n",
      "3.4866132736206055\n",
      "3.4229934215545654\n",
      "3.5374133586883545\n",
      "5.26651668548584\n",
      "3.4955079555511475\n",
      "4.243744373321533\n",
      "3.61586332321167\n",
      "3.980921983718872\n",
      "3.7166762351989746\n",
      "3.468019723892212\n",
      "3.699428081512451\n",
      "3.569066286087036\n",
      "3.3749022483825684\n",
      "3.858243703842163\n",
      "3.051994562149048\n",
      "4.273736476898193\n",
      "4.050156116485596\n",
      "3.69197940826416\n",
      "3.4425714015960693\n",
      "3.5641109943389893\n",
      "3.640360116958618\n",
      "3.9718852043151855\n",
      "3.8924367427825928\n",
      "3.7108731269836426\n",
      "3.0758559703826904\n",
      "4.203085899353027\n",
      "3.323080539703369\n",
      "3.14231276512146\n",
      "3.3252251148223877\n",
      "3.926039934158325\n",
      "3.053208589553833\n",
      "3.807677745819092\n",
      "4.0600128173828125\n",
      "3.260664224624634\n",
      "2.649386405944824\n",
      "3.5779874324798584\n",
      "3.4801084995269775\n",
      "3.4403488636016846\n",
      "3.488096237182617\n",
      "4.5753045082092285\n",
      "3.1192548274993896\n",
      "3.3453946113586426\n",
      "3.182058572769165\n",
      "4.000095367431641\n",
      "2.8676109313964844\n",
      "3.4265074729919434\n",
      "4.083685874938965\n",
      "3.2701661586761475\n",
      "3.246281862258911\n",
      "3.755013942718506\n",
      "3.2049708366394043\n",
      "2.985114336013794\n",
      "3.4188718795776367\n",
      "3.6967368125915527\n",
      "3.547081232070923\n",
      "3.27209734916687\n",
      "3.60391902923584\n",
      "3.0422720909118652\n",
      "3.9848697185516357\n",
      "3.7444260120391846\n",
      "3.142630100250244\n",
      "3.594531297683716\n",
      "3.712080955505371\n",
      "3.282301664352417\n",
      "2.7794554233551025\n",
      "3.9360153675079346\n",
      "2.9052913188934326\n",
      "2.6630117893218994\n",
      "2.9127132892608643\n",
      "3.554769992828369\n",
      "2.7310025691986084\n",
      "3.85162091255188\n",
      "3.6896486282348633\n",
      "3.7452352046966553\n",
      "3.419545888900757\n",
      "3.375466823577881\n",
      "3.6711957454681396\n",
      "3.265630006790161\n",
      "3.5447299480438232\n",
      "3.6339523792266846\n",
      "3.3412575721740723\n",
      "3.6721246242523193\n",
      "3.6756210327148438\n",
      "2.678159475326538\n",
      "2.8242156505584717\n",
      "3.9055867195129395\n",
      "3.609748125076294\n",
      "3.5261080265045166\n",
      "2.6569528579711914\n",
      "3.791956663131714\n",
      "3.6176795959472656\n",
      "2.6168861389160156\n",
      "2.826587438583374\n",
      "3.0142266750335693\n",
      "3.430403232574463\n",
      "2.665086269378662\n",
      "3.114042282104492\n",
      "3.1731131076812744\n",
      "2.8308846950531006\n",
      "3.011990785598755\n",
      "3.8303005695343018\n",
      "2.692594528198242\n",
      "3.0313236713409424\n",
      "3.4403343200683594\n",
      "2.8376243114471436\n",
      "3.1527700424194336\n",
      "2.599515438079834\n",
      "3.211249589920044\n",
      "3.1178622245788574\n",
      "3.1326370239257812\n",
      "2.8685383796691895\n",
      "2.9826748371124268\n",
      "3.6892926692962646\n",
      "3.19549822807312\n",
      "3.309905767440796\n",
      "3.682736396789551\n",
      "2.9896960258483887\n",
      "3.507927656173706\n",
      "3.114464044570923\n",
      "3.0672507286071777\n",
      "2.9391722679138184\n",
      "3.5017812252044678\n",
      "3.020280122756958\n",
      "2.9428908824920654\n",
      "3.3455893993377686\n",
      "4.014047145843506\n",
      "3.3296539783477783\n",
      "2.5027596950531006\n",
      "2.9380180835723877\n",
      "3.1029701232910156\n",
      "2.681459665298462\n",
      "3.37031626701355\n",
      "3.2712395191192627\n",
      "2.909105062484741\n",
      "3.3271865844726562\n",
      "2.7491202354431152\n",
      "2.612474203109741\n",
      "3.4005889892578125\n",
      "2.7145843505859375\n",
      "2.9481801986694336\n",
      "2.776421546936035\n",
      "3.211678981781006\n",
      "3.411465644836426\n",
      "3.2689597606658936\n",
      "3.3164868354797363\n",
      "3.3683743476867676\n",
      "2.8611578941345215\n",
      "3.0963711738586426\n",
      "2.758026361465454\n",
      "2.790269374847412\n",
      "2.721128463745117\n",
      "3.657813310623169\n",
      "2.9839231967926025\n",
      "2.831296682357788\n",
      "3.850554943084717\n",
      "3.5162501335144043\n",
      "3.3497772216796875\n",
      "3.5231778621673584\n",
      "3.103858470916748\n",
      "2.563598155975342\n",
      "3.127392530441284\n",
      "2.8395614624023438\n",
      "3.239727020263672\n",
      "2.620842456817627\n",
      "3.850785970687866\n",
      "3.669184923171997\n",
      "3.380882978439331\n",
      "3.343252420425415\n",
      "4.308571815490723\n",
      "3.6307156085968018\n",
      "3.3822247982025146\n",
      "2.617884874343872\n",
      "3.2025156021118164\n",
      "3.424360513687134\n",
      "3.6467630863189697\n",
      "3.7855348587036133\n",
      "3.145195245742798\n",
      "3.203561305999756\n",
      "3.297888994216919\n",
      "2.9070653915405273\n",
      "3.2046937942504883\n",
      "3.1433494091033936\n",
      "3.556053876876831\n",
      "4.163721084594727\n",
      "4.12849235534668\n",
      "3.059516191482544\n",
      "3.258488178253174\n",
      "3.207259178161621\n",
      "2.6950037479400635\n",
      "3.2817800045013428\n",
      "2.8087282180786133\n",
      "4.115843296051025\n",
      "3.1894679069519043\n",
      "3.0683865547180176\n",
      "3.45530366897583\n",
      "3.656306028366089\n",
      "4.044373512268066\n",
      "3.720867395401001\n",
      "3.0844779014587402\n",
      "3.1318423748016357\n",
      "3.5451138019561768\n",
      "3.654834747314453\n",
      "4.6422438621521\n",
      "3.497286796569824\n",
      "3.6304149627685547\n",
      "3.2633321285247803\n",
      "3.3490281105041504\n",
      "3.4457287788391113\n",
      "3.5879969596862793\n",
      "3.2602968215942383\n",
      "3.8623859882354736\n",
      "3.392390489578247\n",
      "3.2604925632476807\n",
      "2.906719923019409\n",
      "3.5535354614257812\n",
      "3.979177951812744\n",
      "3.6148979663848877\n",
      "3.5818586349487305\n",
      "3.5382022857666016\n",
      "3.488673686981201\n",
      "3.754333019256592\n",
      "3.7155778408050537\n",
      "4.645270347595215\n",
      "3.788106679916382\n",
      "3.2597615718841553\n",
      "3.8475773334503174\n",
      "3.9114794731140137\n",
      "3.343763589859009\n",
      "2.974663257598877\n",
      "3.4700255393981934\n",
      "3.9227402210235596\n",
      "4.214717388153076\n",
      "3.161877155303955\n",
      "4.185700416564941\n",
      "3.731508493423462\n",
      "3.635176181793213\n",
      "2.9290401935577393\n",
      "3.8544301986694336\n",
      "4.010948181152344\n",
      "3.999751567840576\n",
      "4.690666675567627\n",
      "5.377904415130615\n",
      "3.745295763015747\n",
      "4.378114223480225\n",
      "5.060596466064453\n",
      "3.946505069732666\n",
      "3.4893109798431396\n",
      "2.96224045753479\n",
      "3.585784673690796\n",
      "3.374037742614746\n",
      "4.362592697143555\n",
      "3.19470477104187\n",
      "6.5124897956848145\n",
      "6.25901460647583\n",
      "4.3742499351501465\n",
      "5.173295974731445\n",
      "4.1938252449035645\n",
      "4.408980369567871\n",
      "4.519777774810791\n",
      "4.783470630645752\n",
      "3.169663906097412\n",
      "3.9381699562072754\n",
      "4.0122857093811035\n",
      "3.7281174659729004\n",
      "3.7197041511535645\n",
      "3.302323341369629\n",
      "3.2637195587158203\n",
      "4.607763290405273\n",
      "5.421818733215332\n",
      "4.464178085327148\n",
      "4.499249458312988\n",
      "4.634738445281982\n",
      "3.8426759243011475\n",
      "4.08764123916626\n",
      "3.6032907962799072\n",
      "5.56239652633667\n",
      "6.36294412612915\n",
      "5.190884113311768\n",
      "4.386030673980713\n",
      "6.086241722106934\n",
      "7.213860988616943\n",
      "5.154232501983643\n",
      "3.9692726135253906\n",
      "4.779438018798828\n",
      "4.1036176681518555\n",
      "3.657632827758789\n",
      "4.442627429962158\n",
      "4.274356365203857\n",
      "3.854926109313965\n",
      "8.156449317932129\n",
      "5.597836494445801\n",
      "6.142982482910156\n",
      "7.967337608337402\n",
      "7.56452751159668\n",
      "6.409764766693115\n",
      "7.04055118560791\n",
      "6.954049110412598\n",
      "5.201969146728516\n",
      "4.75455904006958\n",
      "7.321009635925293\n",
      "5.7372941970825195\n",
      "9.752019882202148\n",
      "4.983735084533691\n",
      "7.5952301025390625\n",
      "6.209592342376709\n",
      "6.008126735687256\n",
      "6.232604026794434\n",
      "4.4330034255981445\n",
      "5.437540054321289\n",
      "4.590996265411377\n",
      "4.192378997802734\n",
      "5.23109769821167\n",
      "5.510770797729492\n",
      "4.514455318450928\n",
      "3.9313464164733887\n",
      "4.611909866333008\n",
      "5.389296531677246\n",
      "4.296619415283203\n",
      "5.375397682189941\n",
      "3.945598602294922\n",
      "3.7910261154174805\n",
      "3.2714853286743164\n",
      "4.148609638214111\n",
      "3.5160486698150635\n",
      "5.071835517883301\n",
      "4.769082546234131\n",
      "6.897562026977539\n",
      "4.4088029861450195\n",
      "4.5766921043396\n",
      "4.999727249145508\n",
      "5.02272891998291\n",
      "8.771527290344238\n",
      "4.4950127601623535\n",
      "7.334044933319092\n",
      "6.6098103523254395\n",
      "8.806777954101562\n",
      "7.781838893890381\n",
      "5.993319034576416\n",
      "4.786362171173096\n",
      "3.471565008163452\n",
      "5.526762962341309\n",
      "7.636816501617432\n",
      "5.512523651123047\n",
      "5.879050254821777\n",
      "6.16588020324707\n",
      "4.524257183074951\n",
      "5.27618932723999\n",
      "4.551096439361572\n",
      "5.259512424468994\n",
      "6.5698041915893555\n",
      "7.955238342285156\n",
      "6.016544818878174\n",
      "4.571184158325195\n",
      "6.480908393859863\n",
      "6.439338684082031\n",
      "5.98184061050415\n",
      "5.144161224365234\n",
      "4.752683639526367\n",
      "4.316590309143066\n",
      "7.245509624481201\n",
      "6.126148223876953\n",
      "6.922917366027832\n",
      "5.077305316925049\n",
      "8.46028995513916\n",
      "4.672079563140869\n",
      "5.7866902351379395\n",
      "5.3218207359313965\n",
      "5.795699119567871\n",
      "6.209139823913574\n",
      "6.058816909790039\n",
      "8.087469100952148\n",
      "5.95863676071167\n",
      "5.112583160400391\n",
      "6.717629909515381\n",
      "4.960705757141113\n",
      "6.046730041503906\n",
      "6.681858539581299\n",
      "7.569014072418213\n",
      "7.144707202911377\n",
      "5.564900875091553\n",
      "4.220297336578369\n",
      "5.146817207336426\n",
      "4.51613712310791\n",
      "4.955447196960449\n",
      "6.280645370483398\n",
      "7.648499488830566\n",
      "5.4174299240112305\n",
      "8.51817512512207\n",
      "6.431372165679932\n",
      "8.258893966674805\n",
      "5.868064880371094\n",
      "7.062020301818848\n",
      "9.329814910888672\n",
      "7.452511787414551\n",
      "6.465289115905762\n",
      "6.8039326667785645\n",
      "11.36176586151123\n",
      "7.5578765869140625\n",
      "9.36171817779541\n",
      "10.540231704711914\n",
      "9.641484260559082\n",
      "10.340938568115234\n",
      "7.422643184661865\n"
     ]
    },
    {
     "ename": "IndexError",
     "evalue": "index 1000 is out of bounds for dimension 0 with size 1000",
     "output_type": "error",
     "traceback": [
      "\u001b[1;31m---------------------------------------------------------------------------\u001b[0m",
      "\u001b[1;31mIndexError\u001b[0m                                Traceback (most recent call last)",
      "Cell \u001b[1;32mIn[23], line 16\u001b[0m\n\u001b[0;32m     13\u001b[0m loss\u001b[38;5;241m.\u001b[39mbackward()\n\u001b[0;32m     15\u001b[0m \u001b[38;5;66;03m# trying different lr for choosing # evaluate by plot\u001b[39;00m\n\u001b[1;32m---> 16\u001b[0m lr \u001b[38;5;241m=\u001b[39m \u001b[43mlrs\u001b[49m\u001b[43m[\u001b[49m\u001b[43mi\u001b[49m\u001b[43m]\u001b[49m\n\u001b[0;32m     17\u001b[0m \u001b[38;5;28;01mfor\u001b[39;00m p \u001b[38;5;129;01min\u001b[39;00m parameters:\n\u001b[0;32m     18\u001b[0m     p\u001b[38;5;241m.\u001b[39mdata \u001b[38;5;241m+\u001b[39m\u001b[38;5;241m=\u001b[39m \u001b[38;5;241m-\u001b[39mlr \u001b[38;5;241m*\u001b[39m p\u001b[38;5;241m.\u001b[39mgrad\n",
      "\u001b[1;31mIndexError\u001b[0m: index 1000 is out of bounds for dimension 0 with size 1000"
     ]
    }
   ],
   "source": [
    "for i in range(10000):\n",
    "    ix = torch.randint(0, X.shape[0], (32,))\n",
    "    \n",
    "    # forward path\n",
    "    emb = C[X[ix]] # (32, 3, 2)\n",
    "    h = torch.tanh(emb.view((-1, 6)) @ W1 + b1)\n",
    "    logits = h @ W2 + b2 # (32, 27)\n",
    "    loss = F.cross_entropy(logits, Y[ix])\n",
    "    print(loss.item())\n",
    "    # backward path\n",
    "    for p in parameters:\n",
    "        p.grad = None\n",
    "    loss.backward()\n",
    "\n",
    "    # trying different lr for choosing # evaluate by plot\n",
    "    lr = lrs[i]\n",
    "    for p in parameters:\n",
    "        p.data += -lr * p.grad\n",
    "        \n",
    "    # track stats\n",
    "    lri.append(lre[i])\n",
    "    lossi.append(loss.item())"
   ]
  },
  {
   "cell_type": "code",
   "execution_count": 24,
   "id": "2e8b4a6c-f4f5-42a0-9f35-b3b7bd9126f4",
   "metadata": {},
   "outputs": [
    {
     "data": {
      "text/plain": [
       "[<matplotlib.lines.Line2D at 0x25e6c5450a0>]"
      ]
     },
     "execution_count": 24,
     "metadata": {},
     "output_type": "execute_result"
    },
    {
     "data": {
      "image/png": "[encoded data removed]",
      "text/plain": [
       "<Figure size 640x480 with 1 Axes>"
      ]
     },
     "metadata": {},
     "output_type": "display_data"
    }
   ],
   "source": [
    "# See from plot the lr is good near 10^(-1)\n",
    "plt.plot(lri, lossi)"
   ]
  },
  {
   "cell_type": "code",
   "execution_count": null,
   "id": "8d04e42d-0528-4a8a-9000-45f20ebf525e",
   "metadata": {},
   "outputs": [],
   "source": []
  },
  {
   "cell_type": "markdown",
   "id": "b18a9acd-2efc-4dc6-bb76-de1214449a0f",
   "metadata": {},
   "source": [
    "#### 3.2. Train model "
   ]
  },
  {
   "cell_type": "markdown",
   "id": "63e0bebd-280f-44a0-92f1-60a97bd218e8",
   "metadata": {},
   "source": [
    "#### Ways to optimize training loop\n",
    "1. Count gradient for batches\n",
    "2. Choose learning rate\n",
    "3. Decay learning rate after time"
   ]
  },
  {
   "cell_type": "code",
   "execution_count": 25,
   "id": "efe01a90-6baf-4bd9-8d64-08f70268390e",
   "metadata": {},
   "outputs": [
    {
     "name": "stdout",
     "output_type": "stream",
     "text": [
      "torch.Size([182625, 3]) torch.Size([182625])\n",
      "torch.Size([22655, 3]) torch.Size([22655])\n",
      "torch.Size([22866, 3]) torch.Size([22866])\n"
     ]
    }
   ],
   "source": [
    "# build the dataset\n",
    "block_size = 3 # context length: how many characters do we take to predict the next one?\n",
    "\n",
    "def build_dataset(words):  \n",
    "  X, Y = [], []\n",
    "  for w in words:\n",
    "\n",
    "    #print(w)\n",
    "    context = [0] * block_size\n",
    "    for ch in w + '.':\n",
    "      ix = stoi[ch]\n",
    "      X.append(context)\n",
    "      Y.append(ix)\n",
    "      #print(''.join(itos[i] for i in context), '--->', itos[ix])\n",
    "      context = context[1:] + [ix] # crop and append\n",
    "\n",
    "  X = torch.tensor(X)\n",
    "  Y = torch.tensor(Y)\n",
    "  print(X.shape, Y.shape)\n",
    "  return X, Y\n",
    "\n",
    "import random\n",
    "random.seed(42)\n",
    "random.shuffle(words)\n",
    "n1 = int(0.8*len(words))\n",
    "n2 = int(0.9*len(words))\n",
    "\n",
    "Xtr, Ytr = build_dataset(words[:n1])\n",
    "Xdev, Ydev = build_dataset(words[n1:n2])\n",
    "Xte, Yte = build_dataset(words[n2:])"
   ]
  },
  {
   "cell_type": "code",
   "execution_count": 26,
   "id": "c8e19677-0af4-427b-ab16-d5086c04de9c",
   "metadata": {},
   "outputs": [
    {
     "data": {
      "text/plain": [
       "(torch.Size([228146, 3]), torch.int64, torch.Size([228146]), torch.int64)"
      ]
     },
     "execution_count": 26,
     "metadata": {},
     "output_type": "execute_result"
    }
   ],
   "source": [
    "X.shape, X.dtype, Y.shape, Y.dtype"
   ]
  },
  {
   "cell_type": "code",
   "execution_count": 15,
   "id": "01a1e725-431d-44e6-9cf8-e6171f55c7ab",
   "metadata": {
    "tags": []
   },
   "outputs": [],
   "source": [
    "g = torch.Generator().manual_seed(2147483647) # for reproducibility\n",
    "C = torch.randn((27, 2), generator=g)\n",
    "W1 = torch.randn((6, 100), generator=g)\n",
    "b1 = torch.randn(100, generator=g)\n",
    "W2 = torch.randn((100, 27), generator=g)\n",
    "b2 = torch.randn(27, generator=g)\n",
    "parameters = [C, W1, b1, W2, b2]"
   ]
  },
  {
   "cell_type": "code",
   "execution_count": 16,
   "id": "f160ee4e-8c6f-410c-bc0d-103504d4ab6a",
   "metadata": {},
   "outputs": [
    {
     "data": {
      "text/plain": [
       "3481"
      ]
     },
     "execution_count": 16,
     "metadata": {},
     "output_type": "execute_result"
    }
   ],
   "source": [
    "sum(p.nelement() for p in parameters) # number of parameters in total"
   ]
  },
  {
   "cell_type": "code",
   "execution_count": 17,
   "id": "d1d4c66d-e693-4bce-9e5d-cb3f1ff2f7f4",
   "metadata": {},
   "outputs": [],
   "source": [
    "for p in parameters:\n",
    "  p.requires_grad = True"
   ]
  },
  {
   "cell_type": "code",
   "execution_count": 19,
   "id": "f3f28410-3e3e-4d14-93a5-344339ab0598",
   "metadata": {},
   "outputs": [],
   "source": [
    "lri = []\n",
    "lossi = []"
   ]
  },
  {
   "cell_type": "code",
   "execution_count": 120,
   "id": "f64b95f5-64f8-4198-8974-0718bc77b25f",
   "metadata": {
    "scrolled": true,
    "tags": []
   },
   "outputs": [],
   "source": [
    "for i in range(10000):\n",
    "    ix = torch.randint(0, Xtr.shape[0], (32,))\n",
    "    \n",
    "    # forward path\n",
    "    emb = C[Xtr[ix]] # (32, 3, 2)\n",
    "    h = torch.tanh(emb.view((-1, 6)) @ W1 + b1)\n",
    "    logits = h @ W2 + b2 # (32, 27)\n",
    "    loss = F.cross_entropy(logits, Ytr[ix])\n",
    "    # print(loss.item())\n",
    "    # backward path\n",
    "    for p in parameters:\n",
    "        p.grad = None\n",
    "    loss.backward()\n",
    "\n",
    "    # trying different lr for choosing # evaluate by plot\n",
    "    # lr = lrs[i]\n",
    "    lr = 0.01\n",
    "    for p in parameters:\n",
    "        p.data += -lr * p.grad\n",
    "        \n",
    "    # track stats\n",
    "    # lri.append(lre[i])\n",
    "    lossi.append(loss.item())"
   ]
  },
  {
   "cell_type": "code",
   "execution_count": 121,
   "id": "fc8aa0f2-f1b4-44e4-814b-d26c0543b030",
   "metadata": {},
   "outputs": [
    {
     "data": {
      "text/plain": [
       "tensor(2.3286, grad_fn=<NllLossBackward0>)"
      ]
     },
     "execution_count": 121,
     "metadata": {},
     "output_type": "execute_result"
    }
   ],
   "source": [
    "emb = C[Xtr] # (32, 3, 2)\n",
    "h = torch.tanh(emb.view(-1, 6) @ W1 + b1) # (32, 100)\n",
    "logits = h @ W2 + b2 # (32, 27)\n",
    "loss = F.cross_entropy(logits, Ytr)\n",
    "loss"
   ]
  },
  {
   "cell_type": "code",
   "execution_count": 122,
   "id": "66500e92-abaf-481a-9ad3-5e4cc45e48cb",
   "metadata": {},
   "outputs": [
    {
     "data": {
      "text/plain": [
       "tensor(2.3297, grad_fn=<NllLossBackward0>)"
      ]
     },
     "execution_count": 122,
     "metadata": {},
     "output_type": "execute_result"
    }
   ],
   "source": [
    "emb = C[Xdev] # (32, 3, 2)\n",
    "h = torch.tanh(emb.view(-1, 6) @ W1 + b1) # (32, 100)\n",
    "logits = h @ W2 + b2 # (32, 27)\n",
    "loss = F.cross_entropy(logits, Ydev)\n",
    "loss"
   ]
  },
  {
   "cell_type": "markdown",
   "id": "b0d9530e-660f-4c82-a372-4f574e606095",
   "metadata": {},
   "source": [
    "Training and dev losses are similar so we make assumption that our model is underfitted because of too small amount of parameters "
   ]
  },
  {
   "cell_type": "markdown",
   "id": "9452a87c-5921-4411-a2fb-bf9ba94ca654",
   "metadata": {},
   "source": [
    "#### 3.3. Experiment with model size"
   ]
  },
  {
   "cell_type": "code",
   "execution_count": 57,
   "id": "8d485dbf-72ac-4693-82da-9f8c7e8c72f8",
   "metadata": {},
   "outputs": [],
   "source": [
    "g = torch.Generator().manual_seed(2147483647) # for reproducibility\n",
    "C = torch.randn((27, 10), generator=g)\n",
    "W1 = torch.randn((30, 200), generator=g)\n",
    "b1 = torch.randn(200, generator=g)\n",
    "W2 = torch.randn((200, 27), generator=g)\n",
    "b2 = torch.randn(27, generator=g)\n",
    "parameters = [C, W1, b1, W2, b2]"
   ]
  },
  {
   "cell_type": "code",
   "execution_count": 58,
   "id": "953813ff-4fdc-4cc4-9f67-5747a68d3f19",
   "metadata": {},
   "outputs": [
    {
     "data": {
      "text/plain": [
       "11897"
      ]
     },
     "execution_count": 58,
     "metadata": {},
     "output_type": "execute_result"
    }
   ],
   "source": [
    "sum(p.nelement() for p in parameters) # number of parameters in total"
   ]
  },
  {
   "cell_type": "code",
   "execution_count": 59,
   "id": "ccc019dd-d529-4ab8-9193-626274da5af1",
   "metadata": {},
   "outputs": [],
   "source": [
    "for p in parameters:\n",
    "  p.requires_grad = True"
   ]
  },
  {
   "cell_type": "code",
   "execution_count": 60,
   "id": "cf18c048-1e3f-4367-933b-3ec9d24593a7",
   "metadata": {},
   "outputs": [],
   "source": [
    "lossi = []\n",
    "stepi = []"
   ]
  },
  {
   "cell_type": "code",
   "execution_count": 61,
   "id": "411f2fff-467c-4a82-b06f-21479ebd8b04",
   "metadata": {},
   "outputs": [],
   "source": [
    "for i in range(200000):\n",
    "    ix = torch.randint(0, Xtr.shape[0], (32,))\n",
    "    \n",
    "    # forward path\n",
    "    emb = C[Xtr[ix]] # (32, 3, 2)\n",
    "    h = torch.tanh(emb.view((-1, 30)) @ W1 + b1)\n",
    "    logits = h @ W2 + b2 # (32, 27)\n",
    "    loss = F.cross_entropy(logits, Ytr[ix])\n",
    "    # print(loss.item())\n",
    "    # backward path\n",
    "    for p in parameters:\n",
    "        p.grad = None\n",
    "    loss.backward()\n",
    "\n",
    "    lr = 0.1 if i < 100000 else 0.01\n",
    "    for p in parameters:\n",
    "        p.data += -lr * p.grad\n",
    "        \n",
    "    # track stats\n",
    "    stepi.append(i)\n",
    "    lossi.append(loss.item())"
   ]
  },
  {
   "cell_type": "code",
   "execution_count": 62,
   "id": "f28dee4b-ded3-4a3f-bd9c-4c8c5f8e1261",
   "metadata": {},
   "outputs": [
    {
     "data": {
      "text/plain": [
       "tensor(2.1469, grad_fn=<NllLossBackward0>)"
      ]
     },
     "execution_count": 62,
     "metadata": {},
     "output_type": "execute_result"
    }
   ],
   "source": [
    "emb = C[Xtr] # (32, 3, 2)\n",
    "h = torch.tanh(emb.view(-1, 30) @ W1 + b1) # (32, 100)\n",
    "logits = h @ W2 + b2 # (32, 27)\n",
    "loss = F.cross_entropy(logits, Ytr)\n",
    "loss"
   ]
  },
  {
   "cell_type": "code",
   "execution_count": 63,
   "id": "c7b097e6-39cb-4166-a5c5-1315a7daea63",
   "metadata": {},
   "outputs": [
    {
     "data": {
      "text/plain": [
       "tensor(2.1876, grad_fn=<NllLossBackward0>)"
      ]
     },
     "execution_count": 63,
     "metadata": {},
     "output_type": "execute_result"
    }
   ],
   "source": [
    "emb = C[Xdev] # (32, 3, 2)\n",
    "h = torch.tanh(emb.view(-1, 30) @ W1 + b1) # (32, 100)\n",
    "logits = h @ W2 + b2 # (32, 27)\n",
    "loss = F.cross_entropy(logits, Ydev)\n",
    "loss"
   ]
  },
  {
   "cell_type": "code",
   "execution_count": 64,
   "id": "bb220d01-1fe3-4812-b3dc-2e97b6a0e356",
   "metadata": {},
   "outputs": [
    {
     "data": {
      "text/plain": [
       "[<matplotlib.lines.Line2D at 0x25e6c855a60>]"
      ]
     },
     "execution_count": 64,
     "metadata": {},
     "output_type": "execute_result"
    },
    {
     "data": {
      "image/png": "[encoded data removed]",
      "text/plain": [
       "<Figure size 640x480 with 1 Axes>"
      ]
     },
     "metadata": {},
     "output_type": "display_data"
    }
   ],
   "source": [
    "plt.plot(stepi, lossi)"
   ]
  },
  {
   "cell_type": "markdown",
   "id": "8ea36cbd-7ebe-4734-9d5f-b71fa3249362",
   "metadata": {},
   "source": [
    "### 4. Sampling from model"
   ]
  },
  {
   "cell_type": "code",
   "execution_count": 65,
   "id": "5a6f30dd-469b-4f37-a2e3-b56b10c83189",
   "metadata": {},
   "outputs": [
    {
     "name": "stdout",
     "output_type": "stream",
     "text": [
      "moha.\n",
      "kayah.\n",
      "see.\n",
      "mad.\n",
      "rylle.\n",
      "emmrusendrael.\n",
      "adelyn.\n",
      "eliianni.\n",
      "jen.\n",
      "eden.\n",
      "van.\n",
      "nar.\n",
      "kayzior.\n",
      "karin.\n",
      "shurergiagriel.\n",
      "kin.\n",
      "renlee.\n",
      "jose.\n",
      "casu.\n",
      "zayven.\n"
     ]
    }
   ],
   "source": [
    "# sample from the model\n",
    "g = torch.Generator().manual_seed(2147483647 + 10)\n",
    "\n",
    "for _ in range(20):\n",
    "    \n",
    "    out = []\n",
    "    context = [0] * block_size # initialize with all ...\n",
    "    while True:\n",
    "      emb = C[torch.tensor([context])] # (1,block_size,d)\n",
    "      h = torch.tanh(emb.view(1, -1) @ W1 + b1)\n",
    "      logits = h @ W2 + b2\n",
    "      probs = F.softmax(logits, dim=1)\n",
    "      ix = torch.multinomial(probs, num_samples=1, generator=g).item()\n",
    "      context = context[1:] + [ix]\n",
    "      out.append(ix)\n",
    "      if ix == 0:\n",
    "        break\n",
    "    \n",
    "    print(''.join(itos[i] for i in out))"
   ]
  },
  {
   "cell_type": "code",
   "execution_count": null,
   "id": "b604d1d8-fb59-455f-8107-2927bbea87c9",
   "metadata": {},
   "outputs": [],
   "source": []
  }
 ],
 "metadata": {
  "kernelspec": {
   "display_name": "nn_env",
   "language": "python",
   "name": "nn_env"
  },
  "language_info": {
   "codemirror_mode": {
    "name": "ipython",
    "version": 3
   },
   "file_extension": ".py",
   "mimetype": "text/x-python",
   "name": "python",
   "nbconvert_exporter": "python",
   "pygments_lexer": "ipython3",
   "version": "3.9.13"
  }
 },
 "nbformat": 4,
 "nbformat_minor": 5
}
