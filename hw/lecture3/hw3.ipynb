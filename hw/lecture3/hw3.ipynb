{
 "cells": [
  {
   "cell_type": "code",
   "execution_count": 1,
   "id": "b3408faa-6db4-4d50-8df1-913f825fecc1",
   "metadata": {},
   "outputs": [],
   "source": [
    "import torch\n",
    "import torch.nn.functional as F\n",
    "import matplotlib.pyplot as plt # for making figures\n",
    "import random\n",
    "%matplotlib inline"
   ]
  },
  {
   "cell_type": "markdown",
   "id": "39cfe843-1a27-485f-aa98-2214cd170d0b",
   "metadata": {},
   "source": [
    "### 0. Prepare data"
   ]
  },
  {
   "cell_type": "code",
   "execution_count": 2,
   "id": "f7fa0127-c97b-46d2-b675-736da22c9c30",
   "metadata": {},
   "outputs": [
    {
     "data": {
      "text/plain": [
       "['emma', 'olivia', 'ava', 'isabella', 'sophia', 'charlotte', 'mia', 'amelia']"
      ]
     },
     "execution_count": 2,
     "metadata": {},
     "output_type": "execute_result"
    }
   ],
   "source": [
    "# read in all the words\n",
    "words = open('../lecture2/names.txt', 'r').read().splitlines()\n",
    "words[:8]"
   ]
  },
  {
   "cell_type": "code",
   "execution_count": 3,
   "id": "7804a52c-1e32-4b48-bb4f-de9437217692",
   "metadata": {},
   "outputs": [
    {
     "data": {
      "text/plain": [
       "32033"
      ]
     },
     "execution_count": 3,
     "metadata": {},
     "output_type": "execute_result"
    }
   ],
   "source": [
    "len(words)"
   ]
  },
  {
   "cell_type": "code",
   "execution_count": 4,
   "id": "7886abc6-9275-4686-a4e0-408659fcc980",
   "metadata": {},
   "outputs": [
    {
     "name": "stdout",
     "output_type": "stream",
     "text": [
      "{1: 'a', 2: 'b', 3: 'c', 4: 'd', 5: 'e', 6: 'f', 7: 'g', 8: 'h', 9: 'i', 10: 'j', 11: 'k', 12: 'l', 13: 'm', 14: 'n', 15: 'o', 16: 'p', 17: 'q', 18: 'r', 19: 's', 20: 't', 21: 'u', 22: 'v', 23: 'w', 24: 'x', 25: 'y', 26: 'z', 0: '.'}\n",
      "27\n"
     ]
    }
   ],
   "source": [
    "# build the vocabulary of characters and mappings to/from integers\n",
    "chars = sorted(list(set(''.join(words))))\n",
    "stoi = {s:i+1 for i,s in enumerate(chars)}\n",
    "stoi['.'] = 0\n",
    "itos = {i:s for s,i in stoi.items()}\n",
    "vocab_size = len(itos)\n",
    "print(itos)\n",
    "print(vocab_size)"
   ]
  },
  {
   "cell_type": "code",
   "execution_count": 5,
   "id": "ad023770-c2da-4cf4-8d21-5a9e4cbd1e16",
   "metadata": {},
   "outputs": [
    {
     "name": "stdout",
     "output_type": "stream",
     "text": [
      "torch.Size([182625, 3]) torch.Size([182625])\n",
      "torch.Size([22655, 3]) torch.Size([22655])\n",
      "torch.Size([22866, 3]) torch.Size([22866])\n"
     ]
    }
   ],
   "source": [
    "# build the dataset\n",
    "block_size = 3 # context length: how many characters do we take to predict the next one?\n",
    "\n",
    "def build_dataset(words):  \n",
    "    X, Y = [], []\n",
    "\n",
    "    for w in words:\n",
    "        context = [0] * block_size\n",
    "        for ch in w + '.':\n",
    "            ix = stoi[ch]\n",
    "            X.append(context)\n",
    "            Y.append(ix)\n",
    "            context = context[1:] + [ix] # crop and append\n",
    "\n",
    "    X = torch.tensor(X)\n",
    "    Y = torch.tensor(Y)\n",
    "    print(X.shape, Y.shape)\n",
    "    return X, Y\n",
    "\n",
    "random.seed(42)\n",
    "random.shuffle(words)\n",
    "n1 = int(0.8*len(words))\n",
    "n2 = int(0.9*len(words))\n",
    "\n",
    "Xtr,  Ytr  = build_dataset(words[:n1])     # 80%\n",
    "Xdev, Ydev = build_dataset(words[n1:n2])   # 10%\n",
    "Xte,  Yte  = build_dataset(words[n2:])     # 10%"
   ]
  },
  {
   "cell_type": "markdown",
   "id": "9c71e77e-45a7-4195-a989-62afd6f47aae",
   "metadata": {},
   "source": [
    "### 1. Improve MLP"
   ]
  },
  {
   "cell_type": "markdown",
   "id": "71b87e37-9b64-4916-ba1b-c12b328df606",
   "metadata": {},
   "source": [
    "#### 1.1. Minimize iitial loss "
   ]
  },
  {
   "cell_type": "markdown",
   "id": "d00261c2-ea37-4aff-8891-86535b237f44",
   "metadata": {},
   "source": [
    "Initial random distribution of weights gives extreme values of logits because of it first value of loss is much bigger than next. "
   ]
  },
  {
   "cell_type": "code",
   "execution_count": 7,
   "id": "7baf995c-0abb-4858-bd51-702329d91dad",
   "metadata": {},
   "outputs": [
    {
     "name": "stdout",
     "output_type": "stream",
     "text": [
      "11897\n"
     ]
    }
   ],
   "source": [
    "# MLP revisited\n",
    "n_embd = 10 # the dimensionality of the character embedding vectors\n",
    "n_hidden = 200 # the number of neurons in the hidden layer of the MLP\n",
    "\n",
    "g = torch.Generator().manual_seed(2147483647) # for reproducibility\n",
    "C  = torch.randn((vocab_size, n_embd),            generator=g)\n",
    "W1 = torch.randn((n_embd * block_size, n_hidden), generator=g) \n",
    "b1 = torch.randn(n_hidden,                        generator=g) \n",
    "W2 = torch.randn((n_hidden, vocab_size),          generator=g) \n",
    "b2 = torch.randn(vocab_size,                      generator=g) \n",
    "\n",
    "parameters = [C, W1, b1, W2, b2]\n",
    "print(sum(p.nelement() for p in parameters)) # number of parameters in total\n",
    "for p in parameters:\n",
    "  p.requires_grad = True"
   ]
  },
  {
   "cell_type": "code",
   "execution_count": 8,
   "id": "56cdec7c-1b11-41ed-b689-48380b6b2f35",
   "metadata": {},
   "outputs": [
    {
     "name": "stdout",
     "output_type": "stream",
     "text": [
      "      0/ 200000: 27.8817\n"
     ]
    }
   ],
   "source": [
    "max_steps = 200000\n",
    "batch_size = 32\n",
    "lossi = []\n",
    "\n",
    "for i in range(max_steps):\n",
    "  \n",
    "    # minibatch construct\n",
    "    ix = torch.randint(0, Xtr.shape[0], (batch_size,), generator=g)\n",
    "    Xb, Yb = Xtr[ix], Ytr[ix] # batch X,Y\n",
    "\n",
    "    # forward pass\n",
    "    emb = C[Xb] # embed the characters into vectors\n",
    "    embcat = emb.view(emb.shape[0], -1) # concatenate the vectors\n",
    "    hpreact = embcat @ W1 + b1 # hidden layer pre-activation\n",
    "    h = torch.tanh(hpreact) # hidden layer\n",
    "    logits = h @ W2 + b2 # output layer\n",
    "    loss = F.cross_entropy(logits, Yb) # loss function\n",
    "\n",
    "    # backward pass\n",
    "    for p in parameters:\n",
    "        p.grad = None\n",
    "    loss.backward()\n",
    "\n",
    "    # update\n",
    "    lr = 0.1 if i < 100000 else 0.01 # step learning rate decay\n",
    "    for p in parameters:\n",
    "        p.data += -lr * p.grad\n",
    "\n",
    "    # track stats\n",
    "    if i % 10000 == 0: # print every once in a while\n",
    "        print(f'{i:7d}/{max_steps:7d}: {loss.item():.4f}')\n",
    "    lossi.append(loss.log10().item())\n",
    "    break"
   ]
  },
  {
   "cell_type": "code",
   "execution_count": 9,
   "id": "846e8188-1860-4c1f-a74d-d0aef6a3c5ff",
   "metadata": {},
   "outputs": [
    {
     "data": {
      "text/plain": [
       "tensor([ -2.3527,  36.4366, -10.7306,   5.7165,  18.6409, -11.6998,  -2.1991,\n",
       "          1.8535,  10.9996,  10.6730,  12.3507, -10.3809,   4.7243, -24.4257,\n",
       "         -8.5909,   1.9024, -12.2744, -12.4751, -23.2778,  -2.0163,  25.8767,\n",
       "         14.2108,  17.7691, -10.9204, -20.7335,   6.4560,  11.1615],\n",
       "       grad_fn=<SelectBackward0>)"
      ]
     },
     "execution_count": 9,
     "metadata": {},
     "output_type": "execute_result"
    }
   ],
   "source": [
    "logits[0]"
   ]
  },
  {
   "cell_type": "markdown",
   "id": "f9b7fb0d-39fe-4a43-8fb9-ac8c04b83f01",
   "metadata": {},
   "source": [
    "We can initialize weights with small values and don't spend 1000 epochs just for getting smaller loss"
   ]
  },
  {
   "cell_type": "code",
   "execution_count": 10,
   "id": "67d4bde2-c874-4dab-beec-583a5262238c",
   "metadata": {},
   "outputs": [
    {
     "name": "stdout",
     "output_type": "stream",
     "text": [
      "11897\n"
     ]
    }
   ],
   "source": [
    "# MLP revisited\n",
    "n_embd = 10 # the dimensionality of the character embedding vectors\n",
    "n_hidden = 200 # the number of neurons in the hidden layer of the MLP\n",
    "\n",
    "g = torch.Generator().manual_seed(2147483647) # for reproducibility\n",
    "C  = torch.randn((vocab_size, n_embd),            generator=g)\n",
    "W1 = torch.randn((n_embd * block_size, n_hidden), generator=g)\n",
    "b1 = torch.randn(n_hidden,                        generator=g) * 0.01\n",
    "W2 = torch.randn((n_hidden, vocab_size),          generator=g) * 0.01\n",
    "b2 = torch.randn(vocab_size,                      generator=g) * 0\n",
    "\n",
    "parameters = [C, W1, b1, W2, b2]\n",
    "print(sum(p.nelement() for p in parameters)) # number of parameters in total\n",
    "for p in parameters:\n",
    "  p.requires_grad = True"
   ]
  },
  {
   "cell_type": "code",
   "execution_count": 27,
   "id": "269b5ba5-796d-459d-b28d-6edeb8f5a86a",
   "metadata": {},
   "outputs": [
    {
     "name": "stdout",
     "output_type": "stream",
     "text": [
      "      0/ 200000: 3.3179\n",
      "  10000/ 200000: 2.1910\n",
      "  20000/ 200000: 2.3270\n",
      "  30000/ 200000: 2.5396\n",
      "  40000/ 200000: 1.9468\n",
      "  50000/ 200000: 2.3331\n",
      "  60000/ 200000: 2.3852\n",
      "  70000/ 200000: 2.1173\n",
      "  80000/ 200000: 2.3159\n",
      "  90000/ 200000: 2.2010\n",
      " 100000/ 200000: 1.8591\n",
      " 110000/ 200000: 2.0881\n",
      " 120000/ 200000: 1.9389\n",
      " 130000/ 200000: 2.3913\n",
      " 140000/ 200000: 2.0949\n",
      " 150000/ 200000: 2.1458\n",
      " 160000/ 200000: 1.7824\n",
      " 170000/ 200000: 1.7249\n",
      " 180000/ 200000: 1.9751\n",
      " 190000/ 200000: 1.8614\n"
     ]
    }
   ],
   "source": [
    "max_steps = 200000\n",
    "batch_size = 32\n",
    "lossi = []\n",
    "\n",
    "for i in range(max_steps):\n",
    "  \n",
    "    # minibatch construct\n",
    "    ix = torch.randint(0, Xtr.shape[0], (batch_size,), generator=g)\n",
    "    Xb, Yb = Xtr[ix], Ytr[ix] # batch X,Y\n",
    "\n",
    "    # forward pass\n",
    "    emb = C[Xb] # embed the characters into vectors\n",
    "    embcat = emb.view(emb.shape[0], -1) # concatenate the vectors\n",
    "    hpreact = embcat @ W1 + b1 # hidden layer pre-activation\n",
    "    h = torch.tanh(hpreact) # hidden layer\n",
    "    logits = h @ W2 + b2 # output layer\n",
    "    loss = F.cross_entropy(logits, Yb) # loss function\n",
    "\n",
    "    # backward pass\n",
    "    for p in parameters:\n",
    "        p.grad = None\n",
    "    loss.backward()\n",
    "\n",
    "    # update\n",
    "    lr = 0.1 if i < 100000 else 0.01 # step learning rate decay\n",
    "    for p in parameters:\n",
    "        p.data += -lr * p.grad\n",
    "\n",
    "    # track stats\n",
    "    if i % 10000 == 0: # print every once in a while\n",
    "        print(f'{i:7d}/{max_steps:7d}: {loss.item():.4f}')\n",
    "    lossi.append(loss.log10().item())\n",
    "    "
   ]
  },
  {
   "cell_type": "code",
   "execution_count": 28,
   "id": "becfd5d9-7f98-4c81-bb5d-fd60e9ebb7a7",
   "metadata": {},
   "outputs": [
    {
     "data": {
      "text/plain": [
       "[<matplotlib.lines.Line2D at 0x1a13cb7beb0>]"
      ]
     },
     "execution_count": 28,
     "metadata": {},
     "output_type": "execute_result"
    },
    {
     "data": {
      "image/png": "[encoded data removed]",
      "text/plain": [
       "<Figure size 640x480 with 1 Axes>"
      ]
     },
     "metadata": {},
     "output_type": "display_data"
    }
   ],
   "source": [
    "plt.plot(lossi)"
   ]
  },
  {
   "cell_type": "markdown",
   "id": "7feaefac-1c5b-4b20-8e4d-ca0ed0c958d4",
   "metadata": {},
   "source": [
    "#### 1.2. Tanh activation values distribution "
   ]
  },
  {
   "cell_type": "code",
   "execution_count": 11,
   "id": "e9d3d34b-a6f5-402a-b8b4-c5e90f182314",
   "metadata": {},
   "outputs": [
    {
     "name": "stdout",
     "output_type": "stream",
     "text": [
      "11897\n"
     ]
    }
   ],
   "source": [
    "# MLP revisited\n",
    "n_embd = 10 # the dimensionality of the character embedding vectors\n",
    "n_hidden = 200 # the number of neurons in the hidden layer of the MLP\n",
    "\n",
    "g = torch.Generator().manual_seed(2147483647) # for reproducibility\n",
    "C  = torch.randn((vocab_size, n_embd),            generator=g)\n",
    "W1 = torch.randn((n_embd * block_size, n_hidden), generator=g) \n",
    "b1 = torch.randn(n_hidden,                        generator=g) \n",
    "W2 = torch.randn((n_hidden, vocab_size),          generator=g) * 0.01\n",
    "b2 = torch.randn(vocab_size,                      generator=g) * 0\n",
    "\n",
    "parameters = [C, W1, b1, W2, b2]\n",
    "print(sum(p.nelement() for p in parameters)) # number of parameters in total\n",
    "for p in parameters:\n",
    "  p.requires_grad = True"
   ]
  },
  {
   "cell_type": "code",
   "execution_count": 12,
   "id": "7ca609c5-9129-447e-8fb2-26747c137a58",
   "metadata": {},
   "outputs": [
    {
     "name": "stdout",
     "output_type": "stream",
     "text": [
      "      0/ 200000: 3.3221\n"
     ]
    }
   ],
   "source": [
    "max_steps = 200000\n",
    "batch_size = 32\n",
    "lossi = []\n",
    "\n",
    "for i in range(max_steps):\n",
    "  \n",
    "    # minibatch construct\n",
    "    ix = torch.randint(0, Xtr.shape[0], (batch_size,), generator=g)\n",
    "    Xb, Yb = Xtr[ix], Ytr[ix] # batch X,Y\n",
    "\n",
    "    # forward pass\n",
    "    emb = C[Xb] # embed the characters into vectors\n",
    "    embcat = emb.view(emb.shape[0], -1) # concatenate the vectors\n",
    "    hpreact = embcat @ W1 + b1 # hidden layer pre-activation\n",
    "    h = torch.tanh(hpreact) # hidden layer\n",
    "    logits = h @ W2 + b2 # output layer\n",
    "    loss = F.cross_entropy(logits, Yb) # loss function\n",
    "\n",
    "    # backward pass\n",
    "    for p in parameters:\n",
    "        p.grad = None\n",
    "    loss.backward()\n",
    "\n",
    "    # update\n",
    "    lr = 0.1 if i < 100000 else 0.01 # step learning rate decay\n",
    "    for p in parameters:\n",
    "        p.data += -lr * p.grad\n",
    "\n",
    "    # track stats\n",
    "    if i % 10000 == 0: # print every once in a while\n",
    "        print(f'{i:7d}/{max_steps:7d}: {loss.item():.4f}')\n",
    "    lossi.append(loss.log10().item())\n",
    "    break"
   ]
  },
  {
   "cell_type": "code",
   "execution_count": 13,
   "id": "7683c650-8b9f-41c1-ae3f-8b55d44c3ea6",
   "metadata": {},
   "outputs": [
    {
     "data": {
      "text/plain": [
       "<matplotlib.image.AxesImage at 0x16d9c152eb0>"
      ]
     },
     "execution_count": 13,
     "metadata": {},
     "output_type": "execute_result"
    },
    {
     "data": {
      "image/png": "[encoded data removed]",
      "text/plain": [
       "<Figure size 2000x1000 with 1 Axes>"
      ]
     },
     "metadata": {},
     "output_type": "display_data"
    }
   ],
   "source": [
    "plt.figure(figsize=(20,10))\n",
    "plt.imshow(h.abs() > 0.99, cmap='gray', interpolation='nearest')"
   ]
  },
  {
   "cell_type": "markdown",
   "id": "0d0e8963-eeda-41fd-8b9e-b317ac524768",
   "metadata": {},
   "source": [
    "A lot of values after tanh are really close to zero. It's dangerous because we may have problem of dead neurons "
   ]
  },
  {
   "cell_type": "code",
   "execution_count": 14,
   "id": "8623da4b-6293-4775-be0c-7ee9ef635e1a",
   "metadata": {},
   "outputs": [
    {
     "data": {
      "image/png": "[encoded data removed]",
      "text/plain": [
       "<Figure size 640x480 with 1 Axes>"
      ]
     },
     "metadata": {},
     "output_type": "display_data"
    }
   ],
   "source": [
    "plt.hist(h.view(-1).tolist(), bins='auto');"
   ]
  },
  {
   "cell_type": "markdown",
   "id": "59c91f43-25db-4262-824d-10fc9e5dd1a2",
   "metadata": {},
   "source": [
    "We have high tanh values because values of hpreact"
   ]
  },
  {
   "cell_type": "code",
   "execution_count": 56,
   "id": "b8357b0d-5f24-4efe-8382-30da7be450ce",
   "metadata": {},
   "outputs": [
    {
     "data": {
      "image/png": "[encoded data removed]",
      "text/plain": [
       "<Figure size 640x480 with 1 Axes>"
      ]
     },
     "metadata": {},
     "output_type": "display_data"
    }
   ],
   "source": [
    "plt.hist(hpreact.view(-1).tolist(), bins='auto');"
   ]
  },
  {
   "cell_type": "markdown",
   "id": "54583f24-1ef1-4848-9474-9aaf9fa13f02",
   "metadata": {},
   "source": [
    "Lets imagine that we initialize x and w matrices"
   ]
  },
  {
   "cell_type": "code",
   "execution_count": 58,
   "id": "6253a284-ed4a-4815-8359-cb7801711a66",
   "metadata": {},
   "outputs": [
    {
     "name": "stdout",
     "output_type": "stream",
     "text": [
      "tensor(-0.0105) tensor(0.9428)\n",
      "tensor(0.0083) tensor(2.9231)\n"
     ]
    },
    {
     "data": {
      "image/png": "[encoded data removed]",
      "text/plain": [
       "<Figure size 2000x500 with 2 Axes>"
      ]
     },
     "metadata": {},
     "output_type": "display_data"
    }
   ],
   "source": [
    "x = torch.randn((100, 10))\n",
    "w = torch.randn((10, 200))\n",
    "y = x @ w\n",
    "print(x.mean(), x.std())\n",
    "print(y.mean(), y.std())\n",
    "plt.figure(figsize=(20,5))\n",
    "plt.subplot(121)\n",
    "plt.hist(x.view(-1).tolist(), bins='auto');\n",
    "plt.subplot(122)\n",
    "plt.hist(y.view(-1).tolist(), bins='auto');"
   ]
  },
  {
   "cell_type": "markdown",
   "id": "4468e992-b410-4631-8131-c1decc8beb6a",
   "metadata": {},
   "source": [
    "We initialized two gaussian normal distribution but after multiplication we get gaussion distribution with much bigger sd"
   ]
  },
  {
   "cell_type": "code",
   "execution_count": 61,
   "id": "086ca715-81c5-422e-beec-ae1d9d9f970e",
   "metadata": {},
   "outputs": [
    {
     "name": "stdout",
     "output_type": "stream",
     "text": [
      "tensor(-0.0347) tensor(0.9911)\n",
      "tensor(-0.0172) tensor(1.6751)\n"
     ]
    },
    {
     "data": {
      "image/png": "[encoded data removed]",
      "text/plain": [
       "<Figure size 2000x500 with 2 Axes>"
      ]
     },
     "metadata": {},
     "output_type": "display_data"
    }
   ],
   "source": [
    "x = torch.randn((100, 10))\n",
    "w = torch.randn((10, 200)) * (5/3) / (10**0.5)\n",
    "y = x @ w\n",
    "print(x.mean(), x.std())\n",
    "print(y.mean(), y.std())\n",
    "plt.figure(figsize=(20,5))\n",
    "plt.subplot(121)\n",
    "plt.hist(x.view(-1).tolist(), bins='auto');\n",
    "plt.subplot(122)\n",
    "plt.hist(y.view(-1).tolist(), bins='auto');"
   ]
  },
  {
   "cell_type": "markdown",
   "id": "27659f32-6a86-40d1-bf07-19bc876ad287",
   "metadata": {},
   "source": [
    "We used kaiming initializations of the weights. It'll help not to get extreme values after multiplication"
   ]
  },
  {
   "cell_type": "code",
   "execution_count": 7,
   "id": "bb2d6e56-53cb-491d-8845-d17815d94048",
   "metadata": {},
   "outputs": [
    {
     "name": "stdout",
     "output_type": "stream",
     "text": [
      "11897\n"
     ]
    }
   ],
   "source": [
    "# MLP revisited\n",
    "n_embd = 10 # the dimensionality of the character embedding vectors\n",
    "n_hidden = 200 # the number of neurons in the hidden layer of the MLP\n",
    "\n",
    "g = torch.Generator().manual_seed(2147483647) # for reproducibility\n",
    "C  = torch.randn((vocab_size, n_embd),            generator=g)\n",
    "W1 = torch.randn((n_embd * block_size, n_hidden), generator=g) * (5/3)/((n_embd * block_size)**0.5) #* 0.2 # kaiming initializations\n",
    "b1 = torch.randn(n_hidden,                        generator=g) * 0.01\n",
    "W2 = torch.randn((n_hidden, vocab_size),          generator=g) * 0.01\n",
    "b2 = torch.randn(vocab_size,                      generator=g) * 0\n",
    "\n",
    "parameters = [C, W1, b1, W2, b2]\n",
    "print(sum(p.nelement() for p in parameters)) # number of parameters in total\n",
    "for p in parameters:\n",
    "  p.requires_grad = True"
   ]
  },
  {
   "cell_type": "markdown",
   "id": "c22fd81e-0e55-4746-8ac5-f97bd062fb9a",
   "metadata": {},
   "source": [
    "#### 1.3. Batch normalization"
   ]
  },
  {
   "cell_type": "markdown",
   "id": "8f29bc41-23b6-4993-8aef-836d0cbb82c1",
   "metadata": {},
   "source": [
    "In 1.2. we were trying to make better distribution of an activation function, but was only for initialization. With batch normalization we can control distribution of all activations. "
   ]
  },
  {
   "cell_type": "code",
   "execution_count": 6,
   "id": "20a19905-ac6a-4070-93ff-943b806c6cf2",
   "metadata": {},
   "outputs": [],
   "source": [
    "# bnmeani = hpreact.mean(0, keepdim=True)\n",
    "# bnstdi = hpreact.std(0, keepdim=True)\n",
    "# hpreact = (hpreact - bnmeani) / bnstdi"
   ]
  },
  {
   "cell_type": "markdown",
   "id": "d7c518cf-4e4a-43a6-8663-172b67fe516d",
   "metadata": {},
   "source": [
    "We wanna make weights on pre-activation stage Gaussion, but only for initialization and want make it Gaussion always. We can add scale and shift parameters"
   ]
  },
  {
   "cell_type": "code",
   "execution_count": 8,
   "id": "4996b565-05aa-4573-b81c-96987af3d7ba",
   "metadata": {},
   "outputs": [
    {
     "name": "stdout",
     "output_type": "stream",
     "text": [
      "12297\n"
     ]
    }
   ],
   "source": [
    "# MLP revisited\n",
    "n_embd = 10 # the dimensionality of the character embedding vectors\n",
    "n_hidden = 200 # the number of neurons in the hidden layer of the MLP\n",
    "\n",
    "g = torch.Generator().manual_seed(2147483647) # for reproducibility\n",
    "C  = torch.randn((vocab_size, n_embd),            generator=g)\n",
    "W1 = torch.randn((n_embd * block_size, n_hidden), generator=g) * (5/3)/((n_embd * block_size)**0.5) #* 0.2\n",
    "b1 = torch.randn(n_hidden,                        generator=g) * 0.01\n",
    "W2 = torch.randn((n_hidden, vocab_size),          generator=g) * 0.01\n",
    "b2 = torch.randn(vocab_size,                      generator=g) * 0\n",
    "\n",
    "# BatchNorm parameters\n",
    "bngain = torch.ones((1, n_hidden))\n",
    "bnbias = torch.zeros((1, n_hidden))\n",
    "\n",
    "parameters = [C, W1, b1, W2, b2, bngain, bnbias]\n",
    "print(sum(p.nelement() for p in parameters)) # number of parameters in total\n",
    "for p in parameters:\n",
    "    p.requires_grad = True"
   ]
  },
  {
   "cell_type": "markdown",
   "id": "6ab68110-aa73-4240-af8c-82a0a1b11252",
   "metadata": {},
   "source": [
    "Updated training process"
   ]
  },
  {
   "cell_type": "code",
   "execution_count": 9,
   "id": "c90490b9-0960-42dd-b087-12980b8fc47f",
   "metadata": {},
   "outputs": [
    {
     "name": "stdout",
     "output_type": "stream",
     "text": [
      "      0/ 200000: 3.3147\n",
      "  10000/ 200000: 2.1984\n",
      "  20000/ 200000: 2.3375\n",
      "  30000/ 200000: 2.4359\n",
      "  40000/ 200000: 2.0119\n",
      "  50000/ 200000: 2.2595\n",
      "  60000/ 200000: 2.4775\n",
      "  70000/ 200000: 2.1020\n",
      "  80000/ 200000: 2.2788\n",
      "  90000/ 200000: 2.1862\n",
      " 100000/ 200000: 1.9474\n",
      " 110000/ 200000: 2.3010\n",
      " 120000/ 200000: 1.9837\n",
      " 130000/ 200000: 2.4523\n",
      " 140000/ 200000: 2.3839\n",
      " 150000/ 200000: 2.1987\n",
      " 160000/ 200000: 1.9733\n",
      " 170000/ 200000: 1.8668\n",
      " 180000/ 200000: 1.9973\n",
      " 190000/ 200000: 1.8347\n"
     ]
    }
   ],
   "source": [
    "# same optimization as last time\n",
    "max_steps = 200000\n",
    "batch_size = 32\n",
    "lossi = []\n",
    "\n",
    "for i in range(max_steps):\n",
    "  \n",
    "    # minibatch construct\n",
    "    ix = torch.randint(0, Xtr.shape[0], (batch_size,), generator=g)\n",
    "    Xb, Yb = Xtr[ix], Ytr[ix] # batch X,Y\n",
    "\n",
    "    # forward pass\n",
    "    emb = C[Xb] # embed the characters into vectors\n",
    "    embcat = emb.view(emb.shape[0], -1) # concatenate the vectors\n",
    "    # Linear layer\n",
    "    hpreact = embcat @ W1 + b1 # hidden layer pre-activation\n",
    "    # BatchNorm layer\n",
    "    # -------------------------------------------------------------\n",
    "    bnmeani = hpreact.mean(0, keepdim=True)\n",
    "    bnstdi = hpreact.std(0, keepdim=True)\n",
    "    hpreact = bngain * (hpreact - bnmeani) / bnstdi + bnbias\n",
    "    # -------------------------------------------------------------\n",
    "    # Non-linearity\n",
    "    h = torch.tanh(hpreact) # hidden layer\n",
    "    logits = h @ W2 + b2 # output layer\n",
    "    loss = F.cross_entropy(logits, Yb) # loss function\n",
    "  \n",
    "    # backward pass\n",
    "    for p in parameters:\n",
    "        p.grad = None\n",
    "    loss.backward()\n",
    "\n",
    "    # update\n",
    "    lr = 0.1 if i < 100000 else 0.01 # step learning rate decay\n",
    "    for p in parameters:\n",
    "        p.data += -lr * p.grad\n",
    "\n",
    "    # track stats\n",
    "    if i % 10000 == 0: # print every once in a while\n",
    "        print(f'{i:7d}/{max_steps:7d}: {loss.item():.4f}')\n",
    "    lossi.append(loss.log10().item())\n",
    "  "
   ]
  },
  {
   "cell_type": "code",
   "execution_count": 10,
   "id": "03fff5eb-1704-43bc-a831-a8e26d920d01",
   "metadata": {},
   "outputs": [
    {
     "data": {
      "text/plain": [
       "[<matplotlib.lines.Line2D at 0x1ff42d89b50>]"
      ]
     },
     "execution_count": 10,
     "metadata": {},
     "output_type": "execute_result"
    },
    {
     "data": {
      "image/png": "[encoded data removed]",
      "text/plain": [
       "<Figure size 640x480 with 1 Axes>"
      ]
     },
     "metadata": {},
     "output_type": "display_data"
    }
   ],
   "source": [
    "plt.plot(lossi)"
   ]
  },
  {
   "cell_type": "markdown",
   "id": "bfcc54a6-c520-4d45-b1ef-85e53ef225b9",
   "metadata": {},
   "source": [
    "Now we have problem with calculating loss for one example. Our forward path is expecting a batch of examples with calculated mean and sd"
   ]
  },
  {
   "cell_type": "markdown",
   "id": "471812fd-0f21-4978-bee4-da686df1c585",
   "metadata": {},
   "source": [
    "We can solve it with precalculating mean and sd for an entire dataset before calculating loss"
   ]
  },
  {
   "cell_type": "code",
   "execution_count": 11,
   "id": "6b6f0c39-0cf3-4bfa-9df3-41aaaf83105d",
   "metadata": {},
   "outputs": [],
   "source": [
    "# calibrate the batch norm at the end of training\n",
    "\n",
    "with torch.no_grad():\n",
    "    # pass the training set through\n",
    "    emb = C[Xtr]\n",
    "    embcat = emb.view(emb.shape[0], -1)\n",
    "    hpreact = embcat @ W1 # + b1\n",
    "    # measure the mean/std over the entire training set\n",
    "    bnmean = hpreact.mean(0, keepdim=True)\n",
    "    bnstd = hpreact.std(0, keepdim=True)"
   ]
  },
  {
   "cell_type": "markdown",
   "id": "57a33a4e-ff2c-405f-aaed-5f9ba5feb468",
   "metadata": {},
   "source": [
    "Updated function for calculation loss"
   ]
  },
  {
   "cell_type": "code",
   "execution_count": 13,
   "id": "519edd83-2c93-4ab5-9436-3cca382a4d1d",
   "metadata": {},
   "outputs": [
    {
     "name": "stdout",
     "output_type": "stream",
     "text": [
      "train 2.0668270587921143\n",
      "val 2.1049270629882812\n"
     ]
    }
   ],
   "source": [
    "@torch.no_grad() # this decorator disables gradient tracking\n",
    "def split_loss(split):\n",
    "    x,y = {\n",
    "    'train': (Xtr, Ytr),\n",
    "    'val': (Xdev, Ydev),\n",
    "    'test': (Xte, Yte),\n",
    "    }[split]\n",
    "    emb = C[x] # (N, block_size, n_embd)\n",
    "    embcat = emb.view(emb.shape[0], -1) # concat into (N, block_size * n_embd)\n",
    "    hpreact = embcat @ W1 # + b1\n",
    "    hpreact = bngain * (hpreact - bnmean) / bnstd + bnbias # using calculated values\n",
    "    h = torch.tanh(hpreact) # (N, n_hidden)\n",
    "    logits = h @ W2 + b2 # (N, vocab_size)\n",
    "    loss = F.cross_entropy(logits, y)\n",
    "    print(split, loss.item())\n",
    "\n",
    "split_loss('train')\n",
    "split_loss('val')"
   ]
  },
  {
   "cell_type": "markdown",
   "id": "646f1657-1e60-4fc4-a0f1-a8a38136b8e2",
   "metadata": {},
   "source": [
    "#### 1.4. Batch normalization with estimated mean and sd"
   ]
  },
  {
   "cell_type": "markdown",
   "id": "2419a590-1287-4fb8-8b0e-eb31bdc2e8ec",
   "metadata": {},
   "source": [
    "No one wants precalculated mean and sd. Exist second way to do forward path after training. We need estimate mean and sd during training"
   ]
  },
  {
   "cell_type": "code",
   "execution_count": 15,
   "id": "cce34a78-3c26-4808-9024-761fc690bb1e",
   "metadata": {},
   "outputs": [
    {
     "name": "stdout",
     "output_type": "stream",
     "text": [
      "12097\n"
     ]
    }
   ],
   "source": [
    "n_embd = 10 # the dimensionality of the character embedding vectors\n",
    "n_hidden = 200 # the number of neurons in the hidden layer of the MLP\n",
    "\n",
    "g = torch.Generator().manual_seed(2147483647) # for reproducibility\n",
    "C  = torch.randn((vocab_size, n_embd),            generator=g)\n",
    "W1 = torch.randn((n_embd * block_size, n_hidden), generator=g) * (5/3)/((n_embd * block_size)**0.5) #* 0.2\n",
    "#b1 = torch.randn(n_hidden,                        generator=g) * 0.01\n",
    "W2 = torch.randn((n_hidden, vocab_size),          generator=g) * 0.01\n",
    "b2 = torch.randn(vocab_size,                      generator=g) * 0\n",
    "\n",
    "# BatchNorm parameters\n",
    "bngain = torch.ones((1, n_hidden))\n",
    "bnbias = torch.zeros((1, n_hidden))\n",
    "bnmean_running = torch.zeros((1, n_hidden))\n",
    "bnstd_running = torch.ones((1, n_hidden))\n",
    "\n",
    "parameters = [C, W1, W2, b2, bngain, bnbias]\n",
    "print(sum(p.nelement() for p in parameters)) # number of parameters in total\n",
    "for p in parameters:\n",
    "  p.requires_grad = True"
   ]
  },
  {
   "cell_type": "code",
   "execution_count": 16,
   "id": "dddfa33f-8f03-4c4b-b21d-f54e4851b28c",
   "metadata": {},
   "outputs": [
    {
     "name": "stdout",
     "output_type": "stream",
     "text": [
      "      0/ 200000: 3.3239\n",
      "  10000/ 200000: 2.0322\n",
      "  20000/ 200000: 2.5675\n",
      "  30000/ 200000: 2.0125\n",
      "  40000/ 200000: 2.2446\n",
      "  50000/ 200000: 1.8897\n",
      "  60000/ 200000: 2.0785\n",
      "  70000/ 200000: 2.3681\n",
      "  80000/ 200000: 2.2918\n",
      "  90000/ 200000: 2.0238\n",
      " 100000/ 200000: 2.3673\n",
      " 110000/ 200000: 2.3132\n",
      " 120000/ 200000: 1.6414\n",
      " 130000/ 200000: 1.9311\n",
      " 140000/ 200000: 2.2231\n",
      " 150000/ 200000: 2.0027\n",
      " 160000/ 200000: 2.0997\n",
      " 170000/ 200000: 2.4949\n",
      " 180000/ 200000: 2.0199\n",
      " 190000/ 200000: 2.1707\n"
     ]
    }
   ],
   "source": [
    "# same optimization as last time\n",
    "max_steps = 200000\n",
    "batch_size = 32\n",
    "lossi = []\n",
    "\n",
    "for i in range(max_steps):\n",
    "  \n",
    "    # minibatch construct\n",
    "    ix = torch.randint(0, Xtr.shape[0], (batch_size,), generator=g)\n",
    "    Xb, Yb = Xtr[ix], Ytr[ix] # batch X,Y\n",
    "\n",
    "    # forward pass\n",
    "    emb = C[Xb] # embed the characters into vectors\n",
    "    embcat = emb.view(emb.shape[0], -1) # concatenate the vectors\n",
    "    # Linear layer\n",
    "    hpreact = embcat @ W1 + b1 # hidden layer pre-activation\n",
    "    # BatchNorm layer\n",
    "    # -------------------------------------------------------------\n",
    "    bnmeani = hpreact.mean(0, keepdim=True)\n",
    "    bnstdi = hpreact.std(0, keepdim=True)\n",
    "    hpreact = bngain * (hpreact - bnmeani) / bnstdi + bnbias\n",
    "    with torch.no_grad():\n",
    "        bnmean_running = 0.999 * bnmean_running + 0.001 * bnmeani\n",
    "        bnstd_running = 0.999 * bnstd_running + 0.001 * bnstdi\n",
    "    # -------------------------------------------------------------\n",
    "    # Non-linearity\n",
    "    h = torch.tanh(hpreact) # hidden layer\n",
    "    logits = h @ W2 + b2 # output layer\n",
    "    loss = F.cross_entropy(logits, Yb) # loss function\n",
    "  \n",
    "    # backward pass\n",
    "    for p in parameters:\n",
    "        p.grad = None\n",
    "    loss.backward()\n",
    "\n",
    "    # update\n",
    "    lr = 0.1 if i < 100000 else 0.01 # step learning rate decay\n",
    "    for p in parameters:\n",
    "        p.data += -lr * p.grad\n",
    "\n",
    "    # track stats\n",
    "    if i % 10000 == 0: # print every once in a while\n",
    "        print(f'{i:7d}/{max_steps:7d}: {loss.item():.4f}')\n",
    "    lossi.append(loss.log10().item())\n",
    "  "
   ]
  },
  {
   "cell_type": "markdown",
   "id": "5990fa60-a4c7-4800-a194-303fbb39169f",
   "metadata": {},
   "source": [
    "As we see bnmean and bnmean_running are quite similar"
   ]
  },
  {
   "cell_type": "code",
   "execution_count": 17,
   "id": "03ef68e0-c4b7-4988-b6e3-be7a60b17f75",
   "metadata": {},
   "outputs": [
    {
     "data": {
      "text/plain": [
       "tensor([[-2.3148,  0.6874, -0.9136,  0.9966,  1.0880,  1.0840,  1.7472, -2.1107,\n",
       "          0.5818,  1.4375, -1.6466, -2.7301, -0.4766, -0.1641, -0.0857, -1.1704,\n",
       "          0.6866, -2.6103, -0.0924,  1.6207, -0.7664, -0.3183,  0.0414,  0.6149,\n",
       "          1.1046,  0.2279,  2.0388,  0.5843,  0.8446,  1.7754, -0.3646, -0.8378,\n",
       "         -0.0896, -0.5023, -0.3711, -1.0608, -0.0749,  0.3473, -0.5914,  0.9716,\n",
       "         -0.4422, -1.3040, -0.3001, -0.2147,  0.6885,  0.6893,  2.0853, -0.7506,\n",
       "          2.3778,  1.8862,  0.8296,  0.2895,  1.8993,  0.4668,  0.6838, -1.8916,\n",
       "         -0.0522,  0.4209,  1.3688, -0.9078, -0.4528,  1.1846,  0.5669,  0.6121,\n",
       "          1.5833,  1.2313, -1.0180,  2.1523, -0.6460,  0.0949, -0.2969, -0.4722,\n",
       "          0.9620, -1.0408, -2.9998,  0.6501,  1.4310, -0.1545,  0.0938,  0.5273,\n",
       "          0.2381,  1.2512,  2.0559,  0.6612,  0.0664, -0.0787, -1.6763,  0.2953,\n",
       "          2.2552, -0.0272, -0.6879,  1.4155, -0.8440, -1.2223, -1.0225,  0.2298,\n",
       "          0.2184, -0.3140,  0.1117, -0.6067,  0.1870,  0.1074, -1.3940,  0.2151,\n",
       "          0.2062, -0.3756, -0.3225, -0.1820,  0.9048, -0.7874,  0.7050,  0.2340,\n",
       "          0.3866,  1.2474,  2.8524,  2.0636,  0.8410,  0.8425,  0.3650, -0.3044,\n",
       "         -1.0709, -1.4460,  0.3585,  1.1004, -1.1248,  0.0772, -0.2179, -0.4879,\n",
       "         -0.8513, -1.0870,  2.8129, -1.2862,  0.6607,  1.8692,  0.9321,  1.0561,\n",
       "         -0.7055,  1.8552,  0.1469,  0.4650,  1.6410, -0.1787,  1.9451,  0.3148,\n",
       "          0.4283,  0.2150,  1.1427, -0.7108,  0.1584,  0.5811, -1.5973, -0.2309,\n",
       "          1.7915,  1.2606,  0.9840, -0.4874,  1.3901, -1.6655,  0.0160,  0.4299,\n",
       "          0.5652, -0.4249,  0.9526, -1.1847, -0.4573, -0.7257, -0.3430, -0.4286,\n",
       "         -2.1554, -0.1022,  1.1683, -2.1566,  0.1227, -0.8835, -1.0024,  0.9098,\n",
       "          1.3090, -0.7439,  1.3003, -1.4914,  1.8301,  0.9777,  0.8347, -0.7322,\n",
       "          0.3562,  0.0673, -0.9728,  0.1443,  1.8839,  0.9298, -0.4883,  1.6377,\n",
       "         -0.7556,  0.2002,  0.1396,  1.2793,  1.8080, -0.8193,  0.2711,  1.2348]])"
      ]
     },
     "execution_count": 17,
     "metadata": {},
     "output_type": "execute_result"
    }
   ],
   "source": [
    "bnmean"
   ]
  },
  {
   "cell_type": "code",
   "execution_count": 18,
   "id": "1f8401de-fdfe-4678-9134-2f17a56051bb",
   "metadata": {},
   "outputs": [
    {
     "data": {
      "text/plain": [
       "tensor([[-2.4280,  0.3634, -1.2678,  1.3164,  0.9673,  0.9935,  1.5386, -1.9348,\n",
       "          1.0973,  1.2328, -1.8173, -2.7788,  0.0728, -0.5953,  0.4449, -0.6705,\n",
       "          0.7691, -2.1996, -0.2330,  1.5826, -0.8705,  0.1198, -0.2326,  0.4110,\n",
       "          1.0482,  1.6472,  1.2092,  0.9568,  0.3611,  1.9405, -0.0783, -1.1998,\n",
       "         -0.0937, -0.2820, -0.4802, -1.5002, -2.6156,  0.0484,  0.0103,  0.6203,\n",
       "         -0.2368, -0.9167, -0.2699, -0.1968,  0.6467,  0.8996,  1.5868, -0.4052,\n",
       "          1.9813,  1.0435,  1.7131, -0.8045,  2.0354,  0.3600,  0.5400, -1.9222,\n",
       "         -0.0196,  0.7256,  0.9089, -0.7825, -0.6762,  0.9601,  0.4835,  0.2890,\n",
       "          1.1449,  1.6239, -1.3229,  2.4219, -0.5091,  0.4866, -1.0036,  0.2392,\n",
       "          1.0376, -1.5411, -3.0627,  0.5770,  0.7565, -0.0420,  0.4716,  0.7460,\n",
       "          0.2615,  1.2464,  1.3640,  0.5620, -0.1962, -0.0699, -1.3314,  0.4913,\n",
       "          0.1063, -0.4561, -0.3811,  1.4827, -1.1193, -0.8747, -0.9775,  0.2902,\n",
       "         -0.3263,  0.1407,  0.2891, -1.0551,  0.2465,  0.7003, -1.4258,  1.0829,\n",
       "          0.4731, -0.1697, -0.4863, -0.1311,  0.9819, -1.0462,  0.7766,  0.1938,\n",
       "          0.2217,  0.9736,  2.9315,  1.8866,  0.1595,  0.7955,  0.4332, -0.1191,\n",
       "         -1.1726, -1.0545,  0.4199,  0.8683, -0.7030,  0.0840, -0.0542, -0.3874,\n",
       "         -0.5136, -1.0733,  2.6767, -0.9942,  0.7792,  2.1968,  0.4423,  1.1487,\n",
       "         -0.0372,  1.8520,  0.0536,  0.4765,  1.5093, -0.4045,  1.9350,  0.6944,\n",
       "          0.0673, -0.0756,  1.1426, -1.2301,  0.3395,  0.2553, -1.7157,  0.3817,\n",
       "          1.2124,  1.0520,  0.5148, -0.2082,  0.9906, -1.4485,  0.0464,  0.4086,\n",
       "          0.7383, -0.4510,  0.9281, -1.1806, -0.6363, -0.5008,  0.0756,  0.4747,\n",
       "         -1.8969,  0.1263,  0.9156, -2.5131,  0.0201, -0.9429, -0.5146,  1.1963,\n",
       "          1.4564, -1.1126,  1.4493, -1.5610,  1.6179,  1.0052,  1.4485, -1.2509,\n",
       "          0.3656, -0.4060, -1.0085,  0.7848,  1.8949,  0.6021,  0.4602,  1.4239,\n",
       "         -1.0243,  0.6592,  0.2299,  1.2571,  1.3617, -0.7450, -0.0578,  0.4666]])"
      ]
     },
     "execution_count": 18,
     "metadata": {},
     "output_type": "execute_result"
    }
   ],
   "source": [
    "bnmean_running"
   ]
  },
  {
   "cell_type": "code",
   "execution_count": 19,
   "id": "9059fa91-63ba-45ff-a835-e26e3c66822d",
   "metadata": {},
   "outputs": [
    {
     "name": "stdout",
     "output_type": "stream",
     "text": [
      "train 2.0675177574157715\n",
      "val 2.105803966522217\n"
     ]
    }
   ],
   "source": [
    "@torch.no_grad() # this decorator disables gradient tracking\n",
    "def split_loss(split):\n",
    "    x,y = {\n",
    "    'train': (Xtr, Ytr),\n",
    "    'val': (Xdev, Ydev),\n",
    "    'test': (Xte, Yte),\n",
    "    }[split]\n",
    "    emb = C[x] # (N, block_size, n_embd)\n",
    "    embcat = emb.view(emb.shape[0], -1) # concat into (N, block_size * n_embd)\n",
    "    hpreact = embcat @ W1 # + b1\n",
    "    hpreact = bngain * (hpreact - bnmean_running) / bnstd_running + bnbias\n",
    "    h = torch.tanh(hpreact) # (N, n_hidden)\n",
    "    logits = h @ W2 + b2 # (N, vocab_size)\n",
    "    loss = F.cross_entropy(logits, y)\n",
    "    print(split, loss.item())\n",
    "\n",
    "split_loss('train')\n",
    "split_loss('val')"
   ]
  },
  {
   "cell_type": "markdown",
   "id": "7b9fe92f-56a1-4128-b943-1fae329b906e",
   "metadata": {},
   "source": [
    "##### 1.5. Additional info "
   ]
  },
  {
   "cell_type": "markdown",
   "id": "d70ee906-d465-4148-b35c-0d75ad32ab12",
   "metadata": {},
   "source": [
    "1. We can add small fixed number to bnstdi for escaping from dividing by zero"
   ]
  },
  {
   "cell_type": "code",
   "execution_count": 21,
   "id": "7b38b064-49e0-43e3-902d-134baf39a764",
   "metadata": {},
   "outputs": [],
   "source": [
    "hpreact = bngain * (hpreact - bnmeani) / bnstdi + bnbias"
   ]
  },
  {
   "cell_type": "markdown",
   "id": "5c07a1ca-34fa-463a-8a1c-273a16094fd2",
   "metadata": {},
   "source": [
    "2. Not to use bias in  hpreact = embcat @ W1 + b1 because it's subtracted while normalization "
   ]
  },
  {
   "cell_type": "markdown",
   "id": "e0d36f05-7e0b-4bd0-ad4b-fda05b9b193d",
   "metadata": {},
   "source": [
    "#### 1.2. Construct embeddings "
   ]
  },
  {
   "cell_type": "code",
   "execution_count": 11,
   "id": "ea89b262-8ec3-4854-b357-73f989ea6d0b",
   "metadata": {},
   "outputs": [
    {
     "data": {
      "text/plain": [
       "torch.Size([32, 3, 2])"
      ]
     },
     "execution_count": 11,
     "metadata": {},
     "output_type": "execute_result"
    }
   ],
   "source": [
    "emb = C[X]\n",
    "emb.shape"
   ]
  },
  {
   "cell_type": "markdown",
   "id": "4490c8c9-024c-48e8-992f-6ca56be8d246",
   "metadata": {},
   "source": [
    "#### 1.3. Initialize weights"
   ]
  },
  {
   "cell_type": "code",
   "execution_count": 12,
   "id": "01e69077-a44c-43d4-8f05-5ced5fb679cf",
   "metadata": {},
   "outputs": [],
   "source": [
    "W1 = torch.randn([6, 100])\n",
    "b1 = torch.randn([100])"
   ]
  },
  {
   "cell_type": "markdown",
   "id": "eb349a22-57da-418a-a903-8dd3d1d548b3",
   "metadata": {},
   "source": [
    "#### 1.4. Reshape embeddings "
   ]
  },
  {
   "cell_type": "code",
   "execution_count": 13,
   "id": "3c7fcc18-6683-4136-8b32-2e2e0f5bbd0e",
   "metadata": {},
   "outputs": [
    {
     "data": {
      "text/plain": [
       "torch.Size([32, 6])"
      ]
     },
     "execution_count": 13,
     "metadata": {},
     "output_type": "execute_result"
    }
   ],
   "source": [
    "# manually divide tensor by one of axis and concatenate\n",
    "torch.cat([emb[:, 0, :], emb[:, 1, :], emb[:, 2, :]], dim=1).shape"
   ]
  },
  {
   "cell_type": "code",
   "execution_count": 14,
   "id": "f358453e-5659-435d-82ab-bb8e30bdf252",
   "metadata": {},
   "outputs": [
    {
     "data": {
      "text/plain": [
       "torch.Size([32, 6])"
      ]
     },
     "execution_count": 14,
     "metadata": {},
     "output_type": "execute_result"
    }
   ],
   "source": [
    "# automatically divide by axis and concatenate \n",
    "torch.cat(torch.unbind(emb, 1), dim=1).shape"
   ]
  },
  {
   "cell_type": "code",
   "execution_count": 15,
   "id": "26b6d164-b243-4af0-a1e3-3965758c36aa",
   "metadata": {},
   "outputs": [
    {
     "data": {
      "text/plain": [
       "torch.Size([32, 6])"
      ]
     },
     "execution_count": 15,
     "metadata": {},
     "output_type": "execute_result"
    }
   ],
   "source": [
    "# reshape with view. Really quick\n",
    "emb.view((-1, 6)).shape"
   ]
  },
  {
   "cell_type": "markdown",
   "id": "d093b8ca-fa5d-4b3b-9fce-f8579e364ec1",
   "metadata": {},
   "source": [
    "#### 1.5. Hidden state"
   ]
  },
  {
   "cell_type": "code",
   "execution_count": 16,
   "id": "050d80ff-9042-4a8f-af80-39b58098c060",
   "metadata": {},
   "outputs": [
    {
     "data": {
      "text/plain": [
       "torch.Size([32, 100])"
      ]
     },
     "execution_count": 16,
     "metadata": {},
     "output_type": "execute_result"
    }
   ],
   "source": [
    "h = torch.tanh(emb.view((-1, 6)) @ W1 + b1)\n",
    "h.shape"
   ]
  },
  {
   "cell_type": "code",
   "execution_count": 17,
   "id": "be21aec9-55e8-4820-ab31-475e1f13aa4a",
   "metadata": {},
   "outputs": [],
   "source": [
    "# Checking broadcast\n",
    "# 32 100 \n",
    "#    100\n",
    "# everything is ok"
   ]
  },
  {
   "cell_type": "code",
   "execution_count": 18,
   "id": "72a46863-2171-490c-8fc4-5afa8bf84626",
   "metadata": {},
   "outputs": [
    {
     "data": {
      "text/plain": [
       "torch.Size([32, 2])"
      ]
     },
     "execution_count": 18,
     "metadata": {},
     "output_type": "execute_result"
    }
   ],
   "source": [
    "emb[:, 0, :].shape"
   ]
  },
  {
   "cell_type": "markdown",
   "id": "19b187fa-cfa1-4be8-887b-21e025ab7be8",
   "metadata": {},
   "source": [
    "#### 1.6. Final layer"
   ]
  },
  {
   "cell_type": "code",
   "execution_count": 19,
   "id": "15dad851-8949-43b4-bd9c-e4f428ab2e7b",
   "metadata": {},
   "outputs": [],
   "source": [
    "W2 = torch.randn([100, 27])\n",
    "b2 = torch.randn([27])"
   ]
  },
  {
   "cell_type": "code",
   "execution_count": 20,
   "id": "f8245a52-9cf3-4b55-95fd-b8a81e4e6b68",
   "metadata": {},
   "outputs": [],
   "source": [
    "logits = h @ W2 + b2"
   ]
  },
  {
   "cell_type": "code",
   "execution_count": 21,
   "id": "b0e93c76-272a-4b90-aa57-7a94da9e2503",
   "metadata": {},
   "outputs": [],
   "source": [
    "counts = logits.exp()"
   ]
  },
  {
   "cell_type": "code",
   "execution_count": 22,
   "id": "34802c02-c289-415b-a773-ebae6f183d8f",
   "metadata": {},
   "outputs": [
    {
     "data": {
      "text/plain": [
       "torch.Size([32, 27])"
      ]
     },
     "execution_count": 22,
     "metadata": {},
     "output_type": "execute_result"
    }
   ],
   "source": [
    "prob = counts / counts.sum(axis=1, keepdims=True)\n",
    "prob.shape"
   ]
  },
  {
   "cell_type": "code",
   "execution_count": 23,
   "id": "e6151d4c-06d0-45fa-a381-0d0cb5b690ad",
   "metadata": {},
   "outputs": [
    {
     "data": {
      "text/plain": [
       "tensor(1.)"
      ]
     },
     "execution_count": 23,
     "metadata": {},
     "output_type": "execute_result"
    }
   ],
   "source": [
    "# check sum of probabilities for one letter\n",
    "prob[0].sum()"
   ]
  },
  {
   "cell_type": "markdown",
   "id": "e431e229-0ed6-4c75-a3ed-83a06e92b3d4",
   "metadata": {},
   "source": [
    "#### 1.7. Loss "
   ]
  }
 ],
 "metadata": {
  "kernelspec": {
   "display_name": "nn_env",
   "language": "python",
   "name": "nn_env"
  },
  "language_info": {
   "codemirror_mode": {
    "name": "ipython",
    "version": 3
   },
   "file_extension": ".py",
   "mimetype": "text/x-python",
   "name": "python",
   "nbconvert_exporter": "python",
   "pygments_lexer": "ipython3",
   "version": "3.9.13"
  }
 },
 "nbformat": 4,
 "nbformat_minor": 5
}
