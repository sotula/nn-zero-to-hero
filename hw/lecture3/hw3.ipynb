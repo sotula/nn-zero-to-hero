{
 "cells": [
  {
   "cell_type": "code",
   "execution_count": 2,
   "id": "b3408faa-6db4-4d50-8df1-913f825fecc1",
   "metadata": {},
   "outputs": [],
   "source": [
    "import torch\n",
    "import torch.nn.functional as F\n",
    "import matplotlib.pyplot as plt # for making figures\n",
    "%matplotlib inline"
   ]
  },
  {
   "cell_type": "markdown",
   "id": "39cfe843-1a27-485f-aa98-2214cd170d0b",
   "metadata": {},
   "source": [
    "### 0. Prepare data"
   ]
  },
  {
   "cell_type": "code",
   "execution_count": 3,
   "id": "f7fa0127-c97b-46d2-b675-736da22c9c30",
   "metadata": {},
   "outputs": [
    {
     "data": {
      "text/plain": [
       "['emma', 'olivia', 'ava', 'isabella', 'sophia', 'charlotte', 'mia', 'amelia']"
      ]
     },
     "execution_count": 3,
     "metadata": {},
     "output_type": "execute_result"
    }
   ],
   "source": [
    "# read in all the words\n",
    "words = open('../lecture2/names.txt', 'r').read().splitlines()\n",
    "words[:8]"
   ]
  },
  {
   "cell_type": "code",
   "execution_count": 4,
   "id": "7804a52c-1e32-4b48-bb4f-de9437217692",
   "metadata": {},
   "outputs": [
    {
     "data": {
      "text/plain": [
       "32033"
      ]
     },
     "execution_count": 4,
     "metadata": {},
     "output_type": "execute_result"
    }
   ],
   "source": [
    "len(words)"
   ]
  },
  {
   "cell_type": "code",
   "execution_count": 5,
   "id": "7886abc6-9275-4686-a4e0-408659fcc980",
   "metadata": {},
   "outputs": [
    {
     "name": "stdout",
     "output_type": "stream",
     "text": [
      "{1: 'a', 2: 'b', 3: 'c', 4: 'd', 5: 'e', 6: 'f', 7: 'g', 8: 'h', 9: 'i', 10: 'j', 11: 'k', 12: 'l', 13: 'm', 14: 'n', 15: 'o', 16: 'p', 17: 'q', 18: 'r', 19: 's', 20: 't', 21: 'u', 22: 'v', 23: 'w', 24: 'x', 25: 'y', 26: 'z', 0: '.'}\n"
     ]
    }
   ],
   "source": [
    "# build the vocabulary of characters and mappings to/from integers\n",
    "chars = sorted(list(set(''.join(words))))\n",
    "stoi = {s:i+1 for i,s in enumerate(chars)}\n",
    "stoi['.'] = 0\n",
    "itos = {i:s for s,i in stoi.items()}\n",
    "print(itos)"
   ]
  },
  {
   "cell_type": "code",
   "execution_count": 12,
   "id": "ad023770-c2da-4cf4-8d21-5a9e4cbd1e16",
   "metadata": {},
   "outputs": [
    {
     "name": "stdout",
     "output_type": "stream",
     "text": [
      "... ---> e\n",
      "..e ---> m\n",
      ".em ---> m\n",
      "emm ---> a\n",
      "mma ---> .\n",
      "... ---> o\n",
      "..o ---> l\n",
      ".ol ---> i\n",
      "oli ---> v\n",
      "liv ---> i\n",
      "ivi ---> a\n",
      "via ---> .\n",
      "... ---> a\n",
      "..a ---> v\n",
      ".av ---> a\n",
      "ava ---> .\n",
      "... ---> i\n",
      "..i ---> s\n",
      ".is ---> a\n",
      "isa ---> b\n",
      "sab ---> e\n",
      "abe ---> l\n",
      "bel ---> l\n",
      "ell ---> a\n",
      "lla ---> .\n",
      "... ---> s\n",
      "..s ---> o\n",
      ".so ---> p\n",
      "sop ---> h\n",
      "oph ---> i\n",
      "phi ---> a\n",
      "hia ---> .\n"
     ]
    }
   ],
   "source": [
    "# build the dataset\n",
    "\n",
    "block_size = 3 # context length: how many characters do we take to predict the next one?\n",
    "X, Y = [], []\n",
    "for w in words[:5]:\n",
    "  \n",
    "  #print(w)\n",
    "  context = [0] * block_size\n",
    "  for ch in w + '.':\n",
    "    ix = stoi[ch]\n",
    "    X.append(context)\n",
    "    Y.append(ix)\n",
    "    print(''.join(itos[i] for i in context), '--->', itos[ix])\n",
    "    context = context[1:] + [ix] # crop and append\n",
    "  \n",
    "X = torch.tensor(X)\n",
    "Y = torch.tensor(Y)"
   ]
  },
  {
   "cell_type": "code",
   "execution_count": 13,
   "id": "2d6d676b-3dc1-4f06-a132-5d35f6010278",
   "metadata": {},
   "outputs": [
    {
     "data": {
      "text/plain": [
       "(torch.Size([32, 3]), torch.int64, torch.Size([32]), torch.int64)"
      ]
     },
     "execution_count": 13,
     "metadata": {},
     "output_type": "execute_result"
    }
   ],
   "source": [
    "X.shape, X.dtype, Y.shape, Y.dtype"
   ]
  },
  {
   "cell_type": "markdown",
   "id": "06e8eaf0-59d1-41d2-a030-a64e8bf419d6",
   "metadata": {},
   "source": [
    "### 1. Calculations"
   ]
  },
  {
   "cell_type": "code",
   "execution_count": 27,
   "id": "701bafc8-cfa8-4090-91d2-6342cb1c934a",
   "metadata": {},
   "outputs": [],
   "source": [
    "# matrix with weights \n",
    "C = torch.randn([27, 2])"
   ]
  },
  {
   "cell_type": "markdown",
   "id": "e0264415-97fe-42b4-bb93-a08fa82b293c",
   "metadata": {},
   "source": [
    "#### 1.1. Get weights for certain index "
   ]
  },
  {
   "cell_type": "code",
   "execution_count": 34,
   "id": "f8a242bc-af36-4190-b54f-ea95c1d193ae",
   "metadata": {},
   "outputs": [
    {
     "data": {
      "text/plain": [
       "tensor([-2.6176,  1.5082])"
      ]
     },
     "execution_count": 34,
     "metadata": {},
     "output_type": "execute_result"
    }
   ],
   "source": [
    "# just get array for letter by indexing 2d array\n",
    "C[5]"
   ]
  },
  {
   "cell_type": "code",
   "execution_count": 37,
   "id": "0237df24-fd0f-4765-8fe1-6b4cc9921bf0",
   "metadata": {},
   "outputs": [
    {
     "data": {
      "text/plain": [
       "tensor([[-2.6176,  1.5082],\n",
       "        [-0.7809,  0.2467],\n",
       "        [ 0.0140, -1.0030],\n",
       "        [ 0.0140, -1.0030]])"
      ]
     },
     "execution_count": 37,
     "metadata": {},
     "output_type": "execute_result"
    }
   ],
   "source": [
    "# indexing of tensor\n",
    "C[[5,6,7,7]]"
   ]
  },
  {
   "cell_type": "code",
   "execution_count": 35,
   "id": "d1494a68-4848-42ad-bbed-fc40e4e8d562",
   "metadata": {},
   "outputs": [
    {
     "data": {
      "text/plain": [
       "tensor([-2.6176,  1.5082])"
      ]
     },
     "execution_count": 35,
     "metadata": {},
     "output_type": "execute_result"
    }
   ],
   "source": [
    "# multiplying on one-hot encoded matrix \n",
    "F.one_hot(torch.tensor(5), num_classes=27).float() @ C"
   ]
  },
  {
   "cell_type": "markdown",
   "id": "e0d36f05-7e0b-4bd0-ad4b-fda05b9b193d",
   "metadata": {},
   "source": [
    "#### 1.2. Construct embeddings "
   ]
  },
  {
   "cell_type": "code",
   "execution_count": 47,
   "id": "ea89b262-8ec3-4854-b357-73f989ea6d0b",
   "metadata": {},
   "outputs": [
    {
     "data": {
      "text/plain": [
       "torch.Size([32, 3, 2])"
      ]
     },
     "execution_count": 47,
     "metadata": {},
     "output_type": "execute_result"
    }
   ],
   "source": [
    "emb = C[X]\n",
    "emb.shape"
   ]
  },
  {
   "cell_type": "markdown",
   "id": "4490c8c9-024c-48e8-992f-6ca56be8d246",
   "metadata": {},
   "source": [
    "#### 1.3. Initialize weights"
   ]
  },
  {
   "cell_type": "code",
   "execution_count": 72,
   "id": "01e69077-a44c-43d4-8f05-5ced5fb679cf",
   "metadata": {},
   "outputs": [],
   "source": [
    "W1 = torch.randn([6, 100])\n",
    "b1 = torch.randn([100])"
   ]
  },
  {
   "cell_type": "markdown",
   "id": "eb349a22-57da-418a-a903-8dd3d1d548b3",
   "metadata": {},
   "source": [
    "#### 1.4. Reshape embeddings "
   ]
  },
  {
   "cell_type": "code",
   "execution_count": 73,
   "id": "3c7fcc18-6683-4136-8b32-2e2e0f5bbd0e",
   "metadata": {},
   "outputs": [
    {
     "data": {
      "text/plain": [
       "torch.Size([32, 6])"
      ]
     },
     "execution_count": 73,
     "metadata": {},
     "output_type": "execute_result"
    }
   ],
   "source": [
    "# manually divide tensor by one of axis and concatenate\n",
    "torch.cat([emb[:, 0, :], emb[:, 1, :], emb[:, 2, :]], dim=1).shape"
   ]
  },
  {
   "cell_type": "code",
   "execution_count": 74,
   "id": "f358453e-5659-435d-82ab-bb8e30bdf252",
   "metadata": {},
   "outputs": [
    {
     "data": {
      "text/plain": [
       "torch.Size([32, 6])"
      ]
     },
     "execution_count": 74,
     "metadata": {},
     "output_type": "execute_result"
    }
   ],
   "source": [
    "# automatically divide by axis and concatenate \n",
    "torch.cat(torch.unbind(emb, 1), dim=1).shape"
   ]
  },
  {
   "cell_type": "code",
   "execution_count": 75,
   "id": "26b6d164-b243-4af0-a1e3-3965758c36aa",
   "metadata": {},
   "outputs": [
    {
     "data": {
      "text/plain": [
       "torch.Size([32, 6])"
      ]
     },
     "execution_count": 75,
     "metadata": {},
     "output_type": "execute_result"
    }
   ],
   "source": [
    "# reshape with view. Really quick\n",
    "emb.view((-1, 6)).shape"
   ]
  },
  {
   "cell_type": "markdown",
   "id": "d093b8ca-fa5d-4b3b-9fce-f8579e364ec1",
   "metadata": {},
   "source": [
    "#### 1.5. Hidden state"
   ]
  },
  {
   "cell_type": "code",
   "execution_count": 76,
   "id": "050d80ff-9042-4a8f-af80-39b58098c060",
   "metadata": {},
   "outputs": [
    {
     "data": {
      "text/plain": [
       "torch.Size([32, 100])"
      ]
     },
     "execution_count": 76,
     "metadata": {},
     "output_type": "execute_result"
    }
   ],
   "source": [
    "h = torch.tanh(emb.view((-1, 6)) @ W1 + b1)\n",
    "h.shape"
   ]
  },
  {
   "cell_type": "code",
   "execution_count": 77,
   "id": "be21aec9-55e8-4820-ab31-475e1f13aa4a",
   "metadata": {},
   "outputs": [],
   "source": [
    "# Checking broadcast\n",
    "# 32 100 \n",
    "#    100\n",
    "# everything is ok"
   ]
  },
  {
   "cell_type": "code",
   "execution_count": 78,
   "id": "72a46863-2171-490c-8fc4-5afa8bf84626",
   "metadata": {},
   "outputs": [
    {
     "data": {
      "text/plain": [
       "torch.Size([32, 2])"
      ]
     },
     "execution_count": 78,
     "metadata": {},
     "output_type": "execute_result"
    }
   ],
   "source": [
    "emb[:, 0, :].shape"
   ]
  },
  {
   "cell_type": "markdown",
   "id": "19b187fa-cfa1-4be8-887b-21e025ab7be8",
   "metadata": {},
   "source": [
    "#### 1.6. Final layer"
   ]
  },
  {
   "cell_type": "code",
   "execution_count": 79,
   "id": "15dad851-8949-43b4-bd9c-e4f428ab2e7b",
   "metadata": {},
   "outputs": [],
   "source": [
    "W2 = torch.randn([100, 27])\n",
    "b2 = torch.randn([27])"
   ]
  },
  {
   "cell_type": "code",
   "execution_count": 80,
   "id": "f8245a52-9cf3-4b55-95fd-b8a81e4e6b68",
   "metadata": {},
   "outputs": [],
   "source": [
    "logits = h @ W2 + b2"
   ]
  },
  {
   "cell_type": "code",
   "execution_count": 83,
   "id": "b0e93c76-272a-4b90-aa57-7a94da9e2503",
   "metadata": {},
   "outputs": [],
   "source": [
    "counts = logits.exp()"
   ]
  },
  {
   "cell_type": "code",
   "execution_count": 90,
   "id": "34802c02-c289-415b-a773-ebae6f183d8f",
   "metadata": {},
   "outputs": [
    {
     "data": {
      "text/plain": [
       "torch.Size([32, 27])"
      ]
     },
     "execution_count": 90,
     "metadata": {},
     "output_type": "execute_result"
    }
   ],
   "source": [
    "prob = counts / counts.sum(axis=1, keepdims=True)\n",
    "prob.shape"
   ]
  },
  {
   "cell_type": "code",
   "execution_count": 89,
   "id": "e6151d4c-06d0-45fa-a381-0d0cb5b690ad",
   "metadata": {},
   "outputs": [
    {
     "data": {
      "text/plain": [
       "tensor(1.)"
      ]
     },
     "execution_count": 89,
     "metadata": {},
     "output_type": "execute_result"
    }
   ],
   "source": [
    "# check sum of probabilities for one letter\n",
    "prob[0].sum()"
   ]
  },
  {
   "cell_type": "markdown",
   "id": "e431e229-0ed6-4c75-a3ed-83a06e92b3d4",
   "metadata": {},
   "source": [
    "#### 1.7. Loss "
   ]
  },
  {
   "cell_type": "code",
   "execution_count": 95,
   "id": "c04eaefb-c021-449d-ad7b-8b5694b469f8",
   "metadata": {},
   "outputs": [
    {
     "data": {
      "text/plain": [
       "tensor(17.3726)"
      ]
     },
     "execution_count": 95,
     "metadata": {},
     "output_type": "execute_result"
    }
   ],
   "source": [
    "loss = -prob[torch.arange(32), Y].log().mean()\n",
    "loss"
   ]
  },
  {
   "cell_type": "markdown",
   "id": "c7da7a41-bbed-43ad-ab53-708281f394d1",
   "metadata": {},
   "source": [
    "### 2. Iteration of training process "
   ]
  },
  {
   "cell_type": "markdown",
   "id": "988bf145-ca6f-4f22-ab1f-1d3e5e446794",
   "metadata": {},
   "source": [
    "#### 2.1. Initialize parameters"
   ]
  },
  {
   "cell_type": "code",
   "execution_count": 102,
   "id": "88c2ecaf-7a0f-49da-b19b-90dac5483e38",
   "metadata": {},
   "outputs": [],
   "source": [
    "g = torch.Generator().manual_seed(2147483647) # for reproducibility\n",
    "C = torch.randn((27, 2), generator=g)\n",
    "W1 = torch.randn((6, 100), generator=g)\n",
    "b1 = torch.randn(100, generator=g)\n",
    "W2 = torch.randn((100, 27), generator=g)\n",
    "b2 = torch.randn(27, generator=g)\n",
    "parameters = [C, W1, b1, W2, b2]"
   ]
  },
  {
   "cell_type": "code",
   "execution_count": 103,
   "id": "e0a3c120-b808-40bf-9b89-84172812f884",
   "metadata": {},
   "outputs": [
    {
     "data": {
      "text/plain": [
       "3481"
      ]
     },
     "execution_count": 103,
     "metadata": {},
     "output_type": "execute_result"
    }
   ],
   "source": [
    "sum(p.nelement() for p in parameters) # number of parameters in total"
   ]
  },
  {
   "cell_type": "markdown",
   "id": "ff4a65cc-173f-4884-a32a-b5a65b953333",
   "metadata": {},
   "source": [
    "#### 2.1. Forward path"
   ]
  },
  {
   "cell_type": "code",
   "execution_count": 105,
   "id": "15db1b15-9c3d-48b8-a14c-d43022bf3557",
   "metadata": {},
   "outputs": [
    {
     "data": {
      "text/plain": [
       "tensor(17.7697)"
      ]
     },
     "execution_count": 105,
     "metadata": {},
     "output_type": "execute_result"
    }
   ],
   "source": [
    "emb = C[X]\n",
    "h = torch.tanh(emb.view((-1, 6)) @ W1 + b1)\n",
    "logits = h @ W2 + b2\n",
    "# counts = logits.exp()\n",
    "# prob = counts / counts.sum(axis=1, keepdims=True)\n",
    "# loss = -prob[torch.arange(32), Y].log().mean()\n",
    "loss = F.cross_entropy(logits, Y)\n",
    "loss"
   ]
  }
 ],
 "metadata": {
  "kernelspec": {
   "display_name": "nn_env",
   "language": "python",
   "name": "nn_env"
  },
  "language_info": {
   "codemirror_mode": {
    "name": "ipython",
    "version": 3
   },
   "file_extension": ".py",
   "mimetype": "text/x-python",
   "name": "python",
   "nbconvert_exporter": "python",
   "pygments_lexer": "ipython3",
   "version": "3.9.13"
  }
 },
 "nbformat": 4,
 "nbformat_minor": 5
}
